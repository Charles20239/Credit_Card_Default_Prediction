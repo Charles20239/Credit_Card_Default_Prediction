{
  "nbformat": 4,
  "nbformat_minor": 0,
  "metadata": {
    "colab": {
      "provenance": [],
      "machine_shape": "hm",
      "gpuType": "V100",
      "authorship_tag": "ABX9TyO9oRH5c4kqqE61XXD0rj6R",
      "include_colab_link": true
    },
    "kernelspec": {
      "name": "python3",
      "display_name": "Python 3"
    },
    "language_info": {
      "name": "python"
    },
    "accelerator": "GPU"
  },
  "cells": [
    {
      "cell_type": "markdown",
      "metadata": {
        "id": "view-in-github",
        "colab_type": "text"
      },
      "source": [
        "<a href=\"https://colab.research.google.com/github/Charles20239/Credit_Card_Default_Prediction/blob/main/DNN.ipynb\" target=\"_parent\"><img src=\"https://colab.research.google.com/assets/colab-badge.svg\" alt=\"Open In Colab\"/></a>"
      ]
    },
    {
      "cell_type": "code",
      "execution_count": 1,
      "metadata": {
        "id": "9TiyjSsrUma7"
      },
      "outputs": [],
      "source": [
        "import pandas as pd\n",
        "import numpy as np"
      ]
    },
    {
      "cell_type": "code",
      "source": [
        "data = pd.read_csv('default_of_credit_card_clients.csv', header=1)"
      ],
      "metadata": {
        "id": "xL3NXsv1Vjzu"
      },
      "execution_count": 2,
      "outputs": []
    },
    {
      "cell_type": "code",
      "source": [
        "# show data\n",
        "data.head(5)"
      ],
      "metadata": {
        "colab": {
          "base_uri": "https://localhost:8080/",
          "height": 307
        },
        "id": "BJGlTEIEVj2R",
        "outputId": "40eb18a0-9f01-4b12-dd10-d4cbbd5ad141"
      },
      "execution_count": 3,
      "outputs": [
        {
          "output_type": "execute_result",
          "data": {
            "text/plain": [
              "   ID  LIMIT_BAL  SEX  EDUCATION  MARRIAGE  AGE  PAY_0  PAY_2  PAY_3  PAY_4  \\\n",
              "0   1      20000    2          2         1   24      2      2     -1     -1   \n",
              "1   2     120000    2          2         2   26     -1      2      0      0   \n",
              "2   3      90000    2          2         2   34      0      0      0      0   \n",
              "3   4      50000    2          2         1   37      0      0      0      0   \n",
              "4   5      50000    1          2         1   57     -1      0     -1      0   \n",
              "\n",
              "   ...  BILL_AMT4  BILL_AMT5  BILL_AMT6  PAY_AMT1  PAY_AMT2  PAY_AMT3  \\\n",
              "0  ...          0          0          0         0       689         0   \n",
              "1  ...       3272       3455       3261         0      1000      1000   \n",
              "2  ...      14331      14948      15549      1518      1500      1000   \n",
              "3  ...      28314      28959      29547      2000      2019      1200   \n",
              "4  ...      20940      19146      19131      2000     36681     10000   \n",
              "\n",
              "   PAY_AMT4  PAY_AMT5  PAY_AMT6  default payment next month  \n",
              "0         0         0         0                           1  \n",
              "1      1000         0      2000                           1  \n",
              "2      1000      1000      5000                           0  \n",
              "3      1100      1069      1000                           0  \n",
              "4      9000       689       679                           0  \n",
              "\n",
              "[5 rows x 25 columns]"
            ],
            "text/html": [
              "\n",
              "  <div id=\"df-d1f0e81b-5c6b-4ab1-b202-618357ea58b9\" class=\"colab-df-container\">\n",
              "    <div>\n",
              "<style scoped>\n",
              "    .dataframe tbody tr th:only-of-type {\n",
              "        vertical-align: middle;\n",
              "    }\n",
              "\n",
              "    .dataframe tbody tr th {\n",
              "        vertical-align: top;\n",
              "    }\n",
              "\n",
              "    .dataframe thead th {\n",
              "        text-align: right;\n",
              "    }\n",
              "</style>\n",
              "<table border=\"1\" class=\"dataframe\">\n",
              "  <thead>\n",
              "    <tr style=\"text-align: right;\">\n",
              "      <th></th>\n",
              "      <th>ID</th>\n",
              "      <th>LIMIT_BAL</th>\n",
              "      <th>SEX</th>\n",
              "      <th>EDUCATION</th>\n",
              "      <th>MARRIAGE</th>\n",
              "      <th>AGE</th>\n",
              "      <th>PAY_0</th>\n",
              "      <th>PAY_2</th>\n",
              "      <th>PAY_3</th>\n",
              "      <th>PAY_4</th>\n",
              "      <th>...</th>\n",
              "      <th>BILL_AMT4</th>\n",
              "      <th>BILL_AMT5</th>\n",
              "      <th>BILL_AMT6</th>\n",
              "      <th>PAY_AMT1</th>\n",
              "      <th>PAY_AMT2</th>\n",
              "      <th>PAY_AMT3</th>\n",
              "      <th>PAY_AMT4</th>\n",
              "      <th>PAY_AMT5</th>\n",
              "      <th>PAY_AMT6</th>\n",
              "      <th>default payment next month</th>\n",
              "    </tr>\n",
              "  </thead>\n",
              "  <tbody>\n",
              "    <tr>\n",
              "      <th>0</th>\n",
              "      <td>1</td>\n",
              "      <td>20000</td>\n",
              "      <td>2</td>\n",
              "      <td>2</td>\n",
              "      <td>1</td>\n",
              "      <td>24</td>\n",
              "      <td>2</td>\n",
              "      <td>2</td>\n",
              "      <td>-1</td>\n",
              "      <td>-1</td>\n",
              "      <td>...</td>\n",
              "      <td>0</td>\n",
              "      <td>0</td>\n",
              "      <td>0</td>\n",
              "      <td>0</td>\n",
              "      <td>689</td>\n",
              "      <td>0</td>\n",
              "      <td>0</td>\n",
              "      <td>0</td>\n",
              "      <td>0</td>\n",
              "      <td>1</td>\n",
              "    </tr>\n",
              "    <tr>\n",
              "      <th>1</th>\n",
              "      <td>2</td>\n",
              "      <td>120000</td>\n",
              "      <td>2</td>\n",
              "      <td>2</td>\n",
              "      <td>2</td>\n",
              "      <td>26</td>\n",
              "      <td>-1</td>\n",
              "      <td>2</td>\n",
              "      <td>0</td>\n",
              "      <td>0</td>\n",
              "      <td>...</td>\n",
              "      <td>3272</td>\n",
              "      <td>3455</td>\n",
              "      <td>3261</td>\n",
              "      <td>0</td>\n",
              "      <td>1000</td>\n",
              "      <td>1000</td>\n",
              "      <td>1000</td>\n",
              "      <td>0</td>\n",
              "      <td>2000</td>\n",
              "      <td>1</td>\n",
              "    </tr>\n",
              "    <tr>\n",
              "      <th>2</th>\n",
              "      <td>3</td>\n",
              "      <td>90000</td>\n",
              "      <td>2</td>\n",
              "      <td>2</td>\n",
              "      <td>2</td>\n",
              "      <td>34</td>\n",
              "      <td>0</td>\n",
              "      <td>0</td>\n",
              "      <td>0</td>\n",
              "      <td>0</td>\n",
              "      <td>...</td>\n",
              "      <td>14331</td>\n",
              "      <td>14948</td>\n",
              "      <td>15549</td>\n",
              "      <td>1518</td>\n",
              "      <td>1500</td>\n",
              "      <td>1000</td>\n",
              "      <td>1000</td>\n",
              "      <td>1000</td>\n",
              "      <td>5000</td>\n",
              "      <td>0</td>\n",
              "    </tr>\n",
              "    <tr>\n",
              "      <th>3</th>\n",
              "      <td>4</td>\n",
              "      <td>50000</td>\n",
              "      <td>2</td>\n",
              "      <td>2</td>\n",
              "      <td>1</td>\n",
              "      <td>37</td>\n",
              "      <td>0</td>\n",
              "      <td>0</td>\n",
              "      <td>0</td>\n",
              "      <td>0</td>\n",
              "      <td>...</td>\n",
              "      <td>28314</td>\n",
              "      <td>28959</td>\n",
              "      <td>29547</td>\n",
              "      <td>2000</td>\n",
              "      <td>2019</td>\n",
              "      <td>1200</td>\n",
              "      <td>1100</td>\n",
              "      <td>1069</td>\n",
              "      <td>1000</td>\n",
              "      <td>0</td>\n",
              "    </tr>\n",
              "    <tr>\n",
              "      <th>4</th>\n",
              "      <td>5</td>\n",
              "      <td>50000</td>\n",
              "      <td>1</td>\n",
              "      <td>2</td>\n",
              "      <td>1</td>\n",
              "      <td>57</td>\n",
              "      <td>-1</td>\n",
              "      <td>0</td>\n",
              "      <td>-1</td>\n",
              "      <td>0</td>\n",
              "      <td>...</td>\n",
              "      <td>20940</td>\n",
              "      <td>19146</td>\n",
              "      <td>19131</td>\n",
              "      <td>2000</td>\n",
              "      <td>36681</td>\n",
              "      <td>10000</td>\n",
              "      <td>9000</td>\n",
              "      <td>689</td>\n",
              "      <td>679</td>\n",
              "      <td>0</td>\n",
              "    </tr>\n",
              "  </tbody>\n",
              "</table>\n",
              "<p>5 rows × 25 columns</p>\n",
              "</div>\n",
              "    <div class=\"colab-df-buttons\">\n",
              "\n",
              "  <div class=\"colab-df-container\">\n",
              "    <button class=\"colab-df-convert\" onclick=\"convertToInteractive('df-d1f0e81b-5c6b-4ab1-b202-618357ea58b9')\"\n",
              "            title=\"Convert this dataframe to an interactive table.\"\n",
              "            style=\"display:none;\">\n",
              "\n",
              "  <svg xmlns=\"http://www.w3.org/2000/svg\" height=\"24px\" viewBox=\"0 -960 960 960\">\n",
              "    <path d=\"M120-120v-720h720v720H120Zm60-500h600v-160H180v160Zm220 220h160v-160H400v160Zm0 220h160v-160H400v160ZM180-400h160v-160H180v160Zm440 0h160v-160H620v160ZM180-180h160v-160H180v160Zm440 0h160v-160H620v160Z\"/>\n",
              "  </svg>\n",
              "    </button>\n",
              "\n",
              "  <style>\n",
              "    .colab-df-container {\n",
              "      display:flex;\n",
              "      gap: 12px;\n",
              "    }\n",
              "\n",
              "    .colab-df-convert {\n",
              "      background-color: #E8F0FE;\n",
              "      border: none;\n",
              "      border-radius: 50%;\n",
              "      cursor: pointer;\n",
              "      display: none;\n",
              "      fill: #1967D2;\n",
              "      height: 32px;\n",
              "      padding: 0 0 0 0;\n",
              "      width: 32px;\n",
              "    }\n",
              "\n",
              "    .colab-df-convert:hover {\n",
              "      background-color: #E2EBFA;\n",
              "      box-shadow: 0px 1px 2px rgba(60, 64, 67, 0.3), 0px 1px 3px 1px rgba(60, 64, 67, 0.15);\n",
              "      fill: #174EA6;\n",
              "    }\n",
              "\n",
              "    .colab-df-buttons div {\n",
              "      margin-bottom: 4px;\n",
              "    }\n",
              "\n",
              "    [theme=dark] .colab-df-convert {\n",
              "      background-color: #3B4455;\n",
              "      fill: #D2E3FC;\n",
              "    }\n",
              "\n",
              "    [theme=dark] .colab-df-convert:hover {\n",
              "      background-color: #434B5C;\n",
              "      box-shadow: 0px 1px 3px 1px rgba(0, 0, 0, 0.15);\n",
              "      filter: drop-shadow(0px 1px 2px rgba(0, 0, 0, 0.3));\n",
              "      fill: #FFFFFF;\n",
              "    }\n",
              "  </style>\n",
              "\n",
              "    <script>\n",
              "      const buttonEl =\n",
              "        document.querySelector('#df-d1f0e81b-5c6b-4ab1-b202-618357ea58b9 button.colab-df-convert');\n",
              "      buttonEl.style.display =\n",
              "        google.colab.kernel.accessAllowed ? 'block' : 'none';\n",
              "\n",
              "      async function convertToInteractive(key) {\n",
              "        const element = document.querySelector('#df-d1f0e81b-5c6b-4ab1-b202-618357ea58b9');\n",
              "        const dataTable =\n",
              "          await google.colab.kernel.invokeFunction('convertToInteractive',\n",
              "                                                    [key], {});\n",
              "        if (!dataTable) return;\n",
              "\n",
              "        const docLinkHtml = 'Like what you see? Visit the ' +\n",
              "          '<a target=\"_blank\" href=https://colab.research.google.com/notebooks/data_table.ipynb>data table notebook</a>'\n",
              "          + ' to learn more about interactive tables.';\n",
              "        element.innerHTML = '';\n",
              "        dataTable['output_type'] = 'display_data';\n",
              "        await google.colab.output.renderOutput(dataTable, element);\n",
              "        const docLink = document.createElement('div');\n",
              "        docLink.innerHTML = docLinkHtml;\n",
              "        element.appendChild(docLink);\n",
              "      }\n",
              "    </script>\n",
              "  </div>\n",
              "\n",
              "\n",
              "<div id=\"df-4631b2f8-1008-4dc2-ac5f-843b5d6b4b9d\">\n",
              "  <button class=\"colab-df-quickchart\" onclick=\"quickchart('df-4631b2f8-1008-4dc2-ac5f-843b5d6b4b9d')\"\n",
              "            title=\"Suggest charts.\"\n",
              "            style=\"display:none;\">\n",
              "\n",
              "<svg xmlns=\"http://www.w3.org/2000/svg\" height=\"24px\"viewBox=\"0 0 24 24\"\n",
              "     width=\"24px\">\n",
              "    <g>\n",
              "        <path d=\"M19 3H5c-1.1 0-2 .9-2 2v14c0 1.1.9 2 2 2h14c1.1 0 2-.9 2-2V5c0-1.1-.9-2-2-2zM9 17H7v-7h2v7zm4 0h-2V7h2v10zm4 0h-2v-4h2v4z\"/>\n",
              "    </g>\n",
              "</svg>\n",
              "  </button>\n",
              "\n",
              "<style>\n",
              "  .colab-df-quickchart {\n",
              "      --bg-color: #E8F0FE;\n",
              "      --fill-color: #1967D2;\n",
              "      --hover-bg-color: #E2EBFA;\n",
              "      --hover-fill-color: #174EA6;\n",
              "      --disabled-fill-color: #AAA;\n",
              "      --disabled-bg-color: #DDD;\n",
              "  }\n",
              "\n",
              "  [theme=dark] .colab-df-quickchart {\n",
              "      --bg-color: #3B4455;\n",
              "      --fill-color: #D2E3FC;\n",
              "      --hover-bg-color: #434B5C;\n",
              "      --hover-fill-color: #FFFFFF;\n",
              "      --disabled-bg-color: #3B4455;\n",
              "      --disabled-fill-color: #666;\n",
              "  }\n",
              "\n",
              "  .colab-df-quickchart {\n",
              "    background-color: var(--bg-color);\n",
              "    border: none;\n",
              "    border-radius: 50%;\n",
              "    cursor: pointer;\n",
              "    display: none;\n",
              "    fill: var(--fill-color);\n",
              "    height: 32px;\n",
              "    padding: 0;\n",
              "    width: 32px;\n",
              "  }\n",
              "\n",
              "  .colab-df-quickchart:hover {\n",
              "    background-color: var(--hover-bg-color);\n",
              "    box-shadow: 0 1px 2px rgba(60, 64, 67, 0.3), 0 1px 3px 1px rgba(60, 64, 67, 0.15);\n",
              "    fill: var(--button-hover-fill-color);\n",
              "  }\n",
              "\n",
              "  .colab-df-quickchart-complete:disabled,\n",
              "  .colab-df-quickchart-complete:disabled:hover {\n",
              "    background-color: var(--disabled-bg-color);\n",
              "    fill: var(--disabled-fill-color);\n",
              "    box-shadow: none;\n",
              "  }\n",
              "\n",
              "  .colab-df-spinner {\n",
              "    border: 2px solid var(--fill-color);\n",
              "    border-color: transparent;\n",
              "    border-bottom-color: var(--fill-color);\n",
              "    animation:\n",
              "      spin 1s steps(1) infinite;\n",
              "  }\n",
              "\n",
              "  @keyframes spin {\n",
              "    0% {\n",
              "      border-color: transparent;\n",
              "      border-bottom-color: var(--fill-color);\n",
              "      border-left-color: var(--fill-color);\n",
              "    }\n",
              "    20% {\n",
              "      border-color: transparent;\n",
              "      border-left-color: var(--fill-color);\n",
              "      border-top-color: var(--fill-color);\n",
              "    }\n",
              "    30% {\n",
              "      border-color: transparent;\n",
              "      border-left-color: var(--fill-color);\n",
              "      border-top-color: var(--fill-color);\n",
              "      border-right-color: var(--fill-color);\n",
              "    }\n",
              "    40% {\n",
              "      border-color: transparent;\n",
              "      border-right-color: var(--fill-color);\n",
              "      border-top-color: var(--fill-color);\n",
              "    }\n",
              "    60% {\n",
              "      border-color: transparent;\n",
              "      border-right-color: var(--fill-color);\n",
              "    }\n",
              "    80% {\n",
              "      border-color: transparent;\n",
              "      border-right-color: var(--fill-color);\n",
              "      border-bottom-color: var(--fill-color);\n",
              "    }\n",
              "    90% {\n",
              "      border-color: transparent;\n",
              "      border-bottom-color: var(--fill-color);\n",
              "    }\n",
              "  }\n",
              "</style>\n",
              "\n",
              "  <script>\n",
              "    async function quickchart(key) {\n",
              "      const quickchartButtonEl =\n",
              "        document.querySelector('#' + key + ' button');\n",
              "      quickchartButtonEl.disabled = true;  // To prevent multiple clicks.\n",
              "      quickchartButtonEl.classList.add('colab-df-spinner');\n",
              "      try {\n",
              "        const charts = await google.colab.kernel.invokeFunction(\n",
              "            'suggestCharts', [key], {});\n",
              "      } catch (error) {\n",
              "        console.error('Error during call to suggestCharts:', error);\n",
              "      }\n",
              "      quickchartButtonEl.classList.remove('colab-df-spinner');\n",
              "      quickchartButtonEl.classList.add('colab-df-quickchart-complete');\n",
              "    }\n",
              "    (() => {\n",
              "      let quickchartButtonEl =\n",
              "        document.querySelector('#df-4631b2f8-1008-4dc2-ac5f-843b5d6b4b9d button');\n",
              "      quickchartButtonEl.style.display =\n",
              "        google.colab.kernel.accessAllowed ? 'block' : 'none';\n",
              "    })();\n",
              "  </script>\n",
              "</div>\n",
              "    </div>\n",
              "  </div>\n"
            ]
          },
          "metadata": {},
          "execution_count": 3
        }
      ]
    },
    {
      "cell_type": "code",
      "source": [
        "# adjust \"EDUCATION\" column\n",
        "data[\"EDUCATION\"] = data[\"EDUCATION\"].replace({0:4, 5:4 ,6:4})\n",
        "# adjust \"MARRIAGE\" column\n",
        "data[\"MARRIAGE\"] = data[\"MARRIAGE\"].replace({0:3})"
      ],
      "metadata": {
        "id": "hM_0Q0rjVj48"
      },
      "execution_count": 4,
      "outputs": []
    },
    {
      "cell_type": "code",
      "source": [
        "# show data information\n",
        "data.shape"
      ],
      "metadata": {
        "colab": {
          "base_uri": "https://localhost:8080/"
        },
        "id": "RjbktPOSVoE7",
        "outputId": "8fde6587-6cfc-4c83-b4ed-2671ab7eec14"
      },
      "execution_count": 5,
      "outputs": [
        {
          "output_type": "execute_result",
          "data": {
            "text/plain": [
              "(30000, 25)"
            ]
          },
          "metadata": {},
          "execution_count": 5
        }
      ]
    },
    {
      "cell_type": "code",
      "source": [
        "from sklearn.model_selection import train_test_split\n",
        "from sklearn.preprocessing import StandardScaler\n",
        "\n",
        "# split data into features (X) and target (Y)\n",
        "X = data.drop([\"ID\",\"default payment next month\"],axis = 1)  # exclude the last column (the target) and the first two rows (header)\n",
        "Y = data[\"default payment next month\"]  # last column is the target variable\n",
        "\n",
        "# standardize characteristics\n",
        "scaler = StandardScaler()\n",
        "X_scaled = scaler.fit_transform(X)\n",
        "\n",
        "# split the data into training and test sets\n",
        "X_train, X_test, Y_train, Y_test = train_test_split(X_scaled, Y, test_size=0.3, random_state=42)\n",
        "\n",
        "X_train.shape, X_test.shape"
      ],
      "metadata": {
        "colab": {
          "base_uri": "https://localhost:8080/"
        },
        "id": "kh4fGObJVoHb",
        "outputId": "cb038eb0-388b-4198-b5a8-0192767fe718"
      },
      "execution_count": 6,
      "outputs": [
        {
          "output_type": "execute_result",
          "data": {
            "text/plain": [
              "((21000, 23), (9000, 23))"
            ]
          },
          "metadata": {},
          "execution_count": 6
        }
      ]
    },
    {
      "cell_type": "markdown",
      "source": [
        "**Test neural net work**"
      ],
      "metadata": {
        "id": "DB09zDIxVuka"
      }
    },
    {
      "cell_type": "code",
      "source": [
        "from tensorflow.keras.models import Sequential\n",
        "from tensorflow.keras.layers import Dense\n",
        "from tensorflow.keras.optimizers import Adam\n",
        "\n",
        "# define model\n",
        "model = Sequential([\n",
        "    Dense(64, input_dim=23, activation='relu'),  # Input layer and the first hidden layer\n",
        "    Dense(32, activation='relu'),                # the second hidden layer\n",
        "    Dense(16, activation='relu'),                # the third hidden layer\n",
        "    Dense(1, activation='sigmoid')               # output layer\n",
        "])\n",
        "\n",
        "# compile model\n",
        "model.compile(optimizer=Adam(), loss='binary_crossentropy', metrics=['accuracy'])\n",
        "\n",
        "# train model\n",
        "history = model.fit(X_train, Y_train, validation_split=0.2, epochs=50, batch_size=64)\n"
      ],
      "metadata": {
        "colab": {
          "base_uri": "https://localhost:8080/"
        },
        "id": "u9ZQaondVoKB",
        "outputId": "d11941b4-2348-4d73-857a-caac14554aa4"
      },
      "execution_count": 7,
      "outputs": [
        {
          "output_type": "stream",
          "name": "stdout",
          "text": [
            "Epoch 1/50\n",
            "263/263 [==============================] - 8s 4ms/step - loss: 0.4773 - accuracy: 0.8054 - val_loss: 0.4600 - val_accuracy: 0.8079\n",
            "Epoch 2/50\n",
            "263/263 [==============================] - 1s 4ms/step - loss: 0.4423 - accuracy: 0.8188 - val_loss: 0.4516 - val_accuracy: 0.8117\n",
            "Epoch 3/50\n",
            "263/263 [==============================] - 1s 4ms/step - loss: 0.4336 - accuracy: 0.8201 - val_loss: 0.4518 - val_accuracy: 0.8107\n",
            "Epoch 4/50\n",
            "263/263 [==============================] - 1s 4ms/step - loss: 0.4287 - accuracy: 0.8217 - val_loss: 0.4489 - val_accuracy: 0.8126\n",
            "Epoch 5/50\n",
            "263/263 [==============================] - 1s 4ms/step - loss: 0.4243 - accuracy: 0.8235 - val_loss: 0.4472 - val_accuracy: 0.8112\n",
            "Epoch 6/50\n",
            "263/263 [==============================] - 1s 4ms/step - loss: 0.4209 - accuracy: 0.8249 - val_loss: 0.4459 - val_accuracy: 0.8107\n",
            "Epoch 7/50\n",
            "263/263 [==============================] - 1s 4ms/step - loss: 0.4190 - accuracy: 0.8236 - val_loss: 0.4491 - val_accuracy: 0.8100\n",
            "Epoch 8/50\n",
            "263/263 [==============================] - 1s 4ms/step - loss: 0.4162 - accuracy: 0.8246 - val_loss: 0.4471 - val_accuracy: 0.8105\n",
            "Epoch 9/50\n",
            "263/263 [==============================] - 1s 4ms/step - loss: 0.4145 - accuracy: 0.8258 - val_loss: 0.4508 - val_accuracy: 0.8086\n",
            "Epoch 10/50\n",
            "263/263 [==============================] - 1s 4ms/step - loss: 0.4127 - accuracy: 0.8251 - val_loss: 0.4498 - val_accuracy: 0.8110\n",
            "Epoch 11/50\n",
            "263/263 [==============================] - 1s 4ms/step - loss: 0.4114 - accuracy: 0.8263 - val_loss: 0.4527 - val_accuracy: 0.8136\n",
            "Epoch 12/50\n",
            "263/263 [==============================] - 1s 4ms/step - loss: 0.4093 - accuracy: 0.8271 - val_loss: 0.4507 - val_accuracy: 0.8126\n",
            "Epoch 13/50\n",
            "263/263 [==============================] - 1s 4ms/step - loss: 0.4076 - accuracy: 0.8273 - val_loss: 0.4536 - val_accuracy: 0.8119\n",
            "Epoch 14/50\n",
            "263/263 [==============================] - 1s 4ms/step - loss: 0.4049 - accuracy: 0.8277 - val_loss: 0.4540 - val_accuracy: 0.8107\n",
            "Epoch 15/50\n",
            "263/263 [==============================] - 1s 4ms/step - loss: 0.4052 - accuracy: 0.8271 - val_loss: 0.4536 - val_accuracy: 0.8114\n",
            "Epoch 16/50\n",
            "263/263 [==============================] - 1s 4ms/step - loss: 0.4021 - accuracy: 0.8298 - val_loss: 0.4471 - val_accuracy: 0.8133\n",
            "Epoch 17/50\n",
            "263/263 [==============================] - 1s 4ms/step - loss: 0.4022 - accuracy: 0.8287 - val_loss: 0.4582 - val_accuracy: 0.8079\n",
            "Epoch 18/50\n",
            "263/263 [==============================] - 1s 4ms/step - loss: 0.3996 - accuracy: 0.8290 - val_loss: 0.4575 - val_accuracy: 0.8088\n",
            "Epoch 19/50\n",
            "263/263 [==============================] - 1s 4ms/step - loss: 0.3975 - accuracy: 0.8305 - val_loss: 0.4577 - val_accuracy: 0.8057\n",
            "Epoch 20/50\n",
            "263/263 [==============================] - 1s 4ms/step - loss: 0.3955 - accuracy: 0.8311 - val_loss: 0.4559 - val_accuracy: 0.8088\n",
            "Epoch 21/50\n",
            "263/263 [==============================] - 1s 4ms/step - loss: 0.3948 - accuracy: 0.8299 - val_loss: 0.4632 - val_accuracy: 0.8086\n",
            "Epoch 22/50\n",
            "263/263 [==============================] - 1s 4ms/step - loss: 0.3939 - accuracy: 0.8314 - val_loss: 0.4674 - val_accuracy: 0.8081\n",
            "Epoch 23/50\n",
            "263/263 [==============================] - 1s 4ms/step - loss: 0.3916 - accuracy: 0.8318 - val_loss: 0.4615 - val_accuracy: 0.8093\n",
            "Epoch 24/50\n",
            "263/263 [==============================] - 1s 4ms/step - loss: 0.3899 - accuracy: 0.8330 - val_loss: 0.4592 - val_accuracy: 0.8112\n",
            "Epoch 25/50\n",
            "263/263 [==============================] - 1s 4ms/step - loss: 0.3887 - accuracy: 0.8329 - val_loss: 0.4657 - val_accuracy: 0.8043\n",
            "Epoch 26/50\n",
            "263/263 [==============================] - 1s 4ms/step - loss: 0.3879 - accuracy: 0.8338 - val_loss: 0.4628 - val_accuracy: 0.8029\n",
            "Epoch 27/50\n",
            "263/263 [==============================] - 1s 4ms/step - loss: 0.3862 - accuracy: 0.8350 - val_loss: 0.4648 - val_accuracy: 0.8071\n",
            "Epoch 28/50\n",
            "263/263 [==============================] - 1s 4ms/step - loss: 0.3844 - accuracy: 0.8345 - val_loss: 0.4691 - val_accuracy: 0.8050\n",
            "Epoch 29/50\n",
            "263/263 [==============================] - 1s 4ms/step - loss: 0.3838 - accuracy: 0.8367 - val_loss: 0.4675 - val_accuracy: 0.8012\n",
            "Epoch 30/50\n",
            "263/263 [==============================] - 1s 4ms/step - loss: 0.3823 - accuracy: 0.8363 - val_loss: 0.4702 - val_accuracy: 0.8036\n",
            "Epoch 31/50\n",
            "263/263 [==============================] - 1s 4ms/step - loss: 0.3812 - accuracy: 0.8358 - val_loss: 0.4719 - val_accuracy: 0.8057\n",
            "Epoch 32/50\n",
            "263/263 [==============================] - 1s 4ms/step - loss: 0.3796 - accuracy: 0.8367 - val_loss: 0.4761 - val_accuracy: 0.8031\n",
            "Epoch 33/50\n",
            "263/263 [==============================] - 1s 4ms/step - loss: 0.3780 - accuracy: 0.8368 - val_loss: 0.4751 - val_accuracy: 0.7974\n",
            "Epoch 34/50\n",
            "263/263 [==============================] - 1s 4ms/step - loss: 0.3779 - accuracy: 0.8376 - val_loss: 0.4717 - val_accuracy: 0.8024\n",
            "Epoch 35/50\n",
            "263/263 [==============================] - 1s 4ms/step - loss: 0.3754 - accuracy: 0.8386 - val_loss: 0.4816 - val_accuracy: 0.8055\n",
            "Epoch 36/50\n",
            "263/263 [==============================] - 1s 4ms/step - loss: 0.3742 - accuracy: 0.8407 - val_loss: 0.4874 - val_accuracy: 0.8029\n",
            "Epoch 37/50\n",
            "263/263 [==============================] - 1s 4ms/step - loss: 0.3728 - accuracy: 0.8397 - val_loss: 0.4775 - val_accuracy: 0.8010\n",
            "Epoch 38/50\n",
            "263/263 [==============================] - 1s 4ms/step - loss: 0.3706 - accuracy: 0.8417 - val_loss: 0.4785 - val_accuracy: 0.7945\n",
            "Epoch 39/50\n",
            "263/263 [==============================] - 1s 4ms/step - loss: 0.3703 - accuracy: 0.8411 - val_loss: 0.4851 - val_accuracy: 0.7995\n",
            "Epoch 40/50\n",
            "263/263 [==============================] - 1s 4ms/step - loss: 0.3693 - accuracy: 0.8404 - val_loss: 0.4880 - val_accuracy: 0.7931\n",
            "Epoch 41/50\n",
            "263/263 [==============================] - 1s 4ms/step - loss: 0.3669 - accuracy: 0.8428 - val_loss: 0.4909 - val_accuracy: 0.7983\n",
            "Epoch 42/50\n",
            "263/263 [==============================] - 1s 4ms/step - loss: 0.3664 - accuracy: 0.8422 - val_loss: 0.4814 - val_accuracy: 0.7964\n",
            "Epoch 43/50\n",
            "263/263 [==============================] - 1s 4ms/step - loss: 0.3648 - accuracy: 0.8432 - val_loss: 0.4891 - val_accuracy: 0.7967\n",
            "Epoch 44/50\n",
            "263/263 [==============================] - 1s 4ms/step - loss: 0.3641 - accuracy: 0.8443 - val_loss: 0.4902 - val_accuracy: 0.7940\n",
            "Epoch 45/50\n",
            "263/263 [==============================] - 1s 4ms/step - loss: 0.3639 - accuracy: 0.8444 - val_loss: 0.4901 - val_accuracy: 0.7907\n",
            "Epoch 46/50\n",
            "263/263 [==============================] - 1s 4ms/step - loss: 0.3613 - accuracy: 0.8425 - val_loss: 0.4901 - val_accuracy: 0.7890\n",
            "Epoch 47/50\n",
            "263/263 [==============================] - 1s 4ms/step - loss: 0.3601 - accuracy: 0.8456 - val_loss: 0.4938 - val_accuracy: 0.7945\n",
            "Epoch 48/50\n",
            "263/263 [==============================] - 1s 4ms/step - loss: 0.3581 - accuracy: 0.8453 - val_loss: 0.4956 - val_accuracy: 0.7940\n",
            "Epoch 49/50\n",
            "263/263 [==============================] - 1s 4ms/step - loss: 0.3576 - accuracy: 0.8460 - val_loss: 0.4932 - val_accuracy: 0.7983\n",
            "Epoch 50/50\n",
            "263/263 [==============================] - 1s 4ms/step - loss: 0.3574 - accuracy: 0.8448 - val_loss: 0.4956 - val_accuracy: 0.7950\n"
          ]
        }
      ]
    },
    {
      "cell_type": "code",
      "source": [
        "# evaluated on the test set\n",
        "loss, accuracy = model.evaluate(X_test, Y_test)\n",
        "print(f\"loss on test set: {loss:.4f}\")\n",
        "print(f\"accuracy on test set: {accuracy:.4f}\")"
      ],
      "metadata": {
        "colab": {
          "base_uri": "https://localhost:8080/"
        },
        "id": "ORrCA1khVoMW",
        "outputId": "32d9eaca-a9af-4440-ad94-177c1fd49103"
      },
      "execution_count": 8,
      "outputs": [
        {
          "output_type": "stream",
          "name": "stdout",
          "text": [
            "282/282 [==============================] - 1s 2ms/step - loss: 0.4905 - accuracy: 0.7986\n",
            "loss on test set: 0.4905\n",
            "accuracy on test set: 0.7986\n"
          ]
        }
      ]
    },
    {
      "cell_type": "code",
      "source": [
        "import matplotlib.pyplot as plt\n",
        "\n",
        "# plot the training loss and validation loss\n",
        "plt.plot(history.history['loss'], label='Train Loss')\n",
        "plt.plot(history.history['val_loss'], label='Validation Loss')\n",
        "plt.title('Model Loss')\n",
        "plt.ylabel('Loss')\n",
        "plt.xlabel('Epochs')\n",
        "plt.legend()\n",
        "plt.show()\n",
        "\n",
        "# plot the training accuracy and validation accuracy\n",
        "plt.plot(history.history['accuracy'], label='Train Accuracy')\n",
        "plt.plot(history.history['val_accuracy'], label='Validation Accuracy')\n",
        "plt.title('Model Accuracy')\n",
        "plt.ylabel('Accuracy')\n",
        "plt.xlabel('Epochs')\n",
        "plt.legend()\n",
        "plt.show()\n"
      ],
      "metadata": {
        "colab": {
          "base_uri": "https://localhost:8080/",
          "height": 927
        },
        "id": "zw_LnGEFVj7k",
        "outputId": "b483b83c-239b-4140-d64c-857c51b4c83b"
      },
      "execution_count": 9,
      "outputs": [
        {
          "output_type": "display_data",
          "data": {
            "text/plain": [
              "<Figure size 640x480 with 1 Axes>"
            ],
            "image/png": "[encoded data removed]"
          },
          "metadata": {}
        },
        {
          "output_type": "display_data",
          "data": {
            "text/plain": [
              "<Figure size 640x480 with 1 Axes>"
            ],
            "image/png": "[encoded data removed]"
          },
          "metadata": {}
        }
      ]
    },
    {
      "cell_type": "code",
      "source": [
        "from sklearn.metrics import classification_report\n",
        "\n",
        "# generating predictions (probabilities)\n",
        "y_pred_prob = model.predict(X_test)\n",
        "\n",
        "# convert probabilities to labels\n",
        "Y_pred = [1 if prob > 0.5 else 0 for prob in y_pred_prob]\n"
      ],
      "metadata": {
        "colab": {
          "base_uri": "https://localhost:8080/"
        },
        "id": "_cDguUSgVj-I",
        "outputId": "86537bd5-12dc-45f5-80f1-5ad6f6a2b758"
      },
      "execution_count": 10,
      "outputs": [
        {
          "output_type": "stream",
          "name": "stdout",
          "text": [
            "282/282 [==============================] - 1s 2ms/step\n"
          ]
        }
      ]
    },
    {
      "cell_type": "code",
      "source": [
        "print(classification_report(Y_test, Y_pred, target_names=['Not Default', 'Default']))\n"
      ],
      "metadata": {
        "colab": {
          "base_uri": "https://localhost:8080/"
        },
        "id": "iR1rTTxHVkAf",
        "outputId": "618ab9c1-b850-43e5-c3d5-89a54148ed6b"
      },
      "execution_count": 11,
      "outputs": [
        {
          "output_type": "stream",
          "name": "stdout",
          "text": [
            "              precision    recall  f1-score   support\n",
            "\n",
            " Not Default       0.84      0.91      0.88      7040\n",
            "     Default       0.55      0.39      0.46      1960\n",
            "\n",
            "    accuracy                           0.80      9000\n",
            "   macro avg       0.70      0.65      0.67      9000\n",
            "weighted avg       0.78      0.80      0.79      9000\n",
            "\n"
          ]
        }
      ]
    },
    {
      "cell_type": "markdown",
      "source": [
        "**Start cross validation(unbalanced data)**"
      ],
      "metadata": {
        "id": "WdcfO2w-WCio"
      }
    },
    {
      "cell_type": "code",
      "source": [
        "from tensorflow.keras.models import Sequential\n",
        "from tensorflow.keras.layers import Dense\n",
        "from tensorflow.keras.optimizers import Adam, SGD\n",
        "\n",
        "def build_model(n_layers, n_units, optimizer='adam', learning_rate=0.001):\n",
        "    model = Sequential()\n",
        "    model.add(Dense(n_units, input_dim=23, activation='relu'))\n",
        "\n",
        "    for _ in range(n_layers - 1):\n",
        "        model.add(Dense(n_units, activation='relu'))\n",
        "\n",
        "    model.add(Dense(1, activation='sigmoid'))\n",
        "\n",
        "    if optimizer == 'adam':\n",
        "        opt = Adam(learning_rate=learning_rate)\n",
        "    elif optimizer == 'sgd':\n",
        "        opt = SGD(learning_rate=learning_rate)\n",
        "    else:\n",
        "        raise ValueError(\"Unsupported optimizer\")\n",
        "\n",
        "    model.compile(optimizer=opt, loss='binary_crossentropy', metrics=['accuracy'])\n",
        "    return model\n"
      ],
      "metadata": {
        "id": "3GpNCuKZWBxt"
      },
      "execution_count": 12,
      "outputs": []
    },
    {
      "cell_type": "code",
      "source": [
        "import tensorflow as tf\n",
        "from sklearn.model_selection import cross_val_score\n",
        "from sklearn.model_selection import StratifiedKFold\n",
        "import numpy as np\n",
        "\n",
        "# define neural net model\n",
        "def build_model(n_layers, n_units, optimizer, learning_rate):\n",
        "    model = tf.keras.Sequential()\n",
        "    model.add(tf.keras.layers.Dense(n_units, activation='relu', input_shape=(23,)))  # input layer\n",
        "    for _ in range(1, n_layers):\n",
        "        model.add(tf.keras.layers.Dense(n_units, activation='relu'))  # hidden layer\n",
        "    model.add(tf.keras.layers.Dense(1, activation='sigmoid'))  # output layer\n",
        "\n",
        "    # optimizer\n",
        "    if optimizer == 'adam':\n",
        "        opt = tf.keras.optimizers.Adam(learning_rate=learning_rate)\n",
        "    else:\n",
        "        opt = tf.keras.optimizers.SGD(learning_rate=learning_rate)\n",
        "\n",
        "    model.compile(optimizer=opt, loss='binary_crossentropy', metrics=['accuracy'])\n",
        "    return model\n",
        "\n",
        "# parameters\n",
        "optimizer_options = ['adam', 'sgd']\n",
        "learning_rate_options = [0.001, 0.01, 0.1]\n",
        "layer_options = [1, 2, 3, 4]\n",
        "unit_options = [32, 64, 128, 256]\n",
        "batch_size_options = [32, 64, 128]\n",
        "kfold = StratifiedKFold(n_splits=3, shuffle=True, random_state=42)\n",
        "\n",
        "best_score = 0\n",
        "best_params = {}\n",
        "\n",
        "# grid search\n",
        "for optimizer in optimizer_options:\n",
        "    for learning_rate in learning_rate_options:\n",
        "        for n_layers in layer_options:\n",
        "            for n_units in unit_options:\n",
        "                for batch_size in batch_size_options:\n",
        "                    cv_scores = []\n",
        "                    for train, test in kfold.split(X_train, Y_train):\n",
        "                        # change data set typr\n",
        "                        X_train_fold = X_train[train]\n",
        "                        Y_train_fold = Y_train.iloc[train].values\n",
        "                        X_test_fold = X_train[test]\n",
        "                        Y_test_fold = Y_train.iloc[test].values\n",
        "\n",
        "                        model = build_model(n_layers, n_units, optimizer, learning_rate)\n",
        "                        model.fit(X_train_fold, Y_train_fold, epochs=50, batch_size=batch_size, verbose=0)\n",
        "                        scores = model.evaluate(X_test_fold, Y_test_fold, verbose=0)\n",
        "                        cv_scores.append(scores[1])  # suppose scores[1] is accuracy\n",
        "                    score = np.mean(cv_scores)\n",
        "                    if score > best_score:\n",
        "                        best_score = score\n",
        "                        best_params = {\n",
        "                            'optimizer': optimizer,\n",
        "                            'learning_rate': learning_rate,\n",
        "                            'n_layers': n_layers,\n",
        "                            'n_units': n_units,\n",
        "                            'batch_size': batch_size\n",
        "                        }\n",
        "                    print(f\"Opt: {optimizer}, LR: {learning_rate}, Layers: {n_layers}, Units: {n_units}, Batch Size: {batch_size}, Mean CV Accuracy: {score:.2f}\")\n",
        "\n",
        "print(f\"Best Score: {best_score:.2f}\")\n",
        "print(\"Best Parameters:\", best_params)\n"
      ],
      "metadata": {
        "id": "hL-9hFq5WB67"
      },
      "execution_count": null,
      "outputs": []
    },
    {
      "cell_type": "code",
      "source": [
        "# model with the best parameters\n",
        "best_model = build_model(best_params['n_layers'], best_params['n_units'], best_params['optimizer'], best_params['learning_rate'])\n",
        "\n",
        "# re-train model\n",
        "history = best_model.fit(X_train, Y_train, validation_split=0.2, epochs=50, batch_size=best_params['batch_size'])\n"
      ],
      "metadata": {
        "id": "gTsVzlpMWB_7"
      },
      "execution_count": null,
      "outputs": []
    },
    {
      "cell_type": "code",
      "source": [
        "# plot the training loss and validation loss\n",
        "plt.plot(history.history['loss'], label='Training Loss')\n",
        "plt.plot(history.history['val_loss'], label='Validation Loss')\n",
        "plt.title('Training and Validation Loss')\n",
        "plt.xlabel('Epoch')\n",
        "plt.ylabel('Loss')\n",
        "plt.legend()\n",
        "plt.show()\n",
        "\n",
        "# plot the training accuracy and validation accuracy\n",
        "plt.plot(history.history['accuracy'], label='Training Accuracy')\n",
        "plt.plot(history.history['val_accuracy'], label='Validation Accuracy')\n",
        "plt.title('Training and Validation Accuracy')\n",
        "plt.xlabel('Epoch')\n",
        "plt.ylabel('Accuracy')\n",
        "plt.legend()\n",
        "plt.show()\n"
      ],
      "metadata": {
        "id": "9NRN55OAaIbZ"
      },
      "execution_count": null,
      "outputs": []
    },
    {
      "cell_type": "code",
      "source": [
        "from sklearn.metrics import classification_report\n",
        "\n",
        "# generating predictions (probabilities)\n",
        "y_pred_prob = model.predict(X_test)\n",
        "\n",
        "# convert probabilities to labels\n",
        "Y_pred = [1 if prob > 0.5 else 0 for prob in y_pred_prob]"
      ],
      "metadata": {
        "id": "FmfGY7RWaIeK"
      },
      "execution_count": null,
      "outputs": []
    },
    {
      "cell_type": "code",
      "source": [
        "print(classification_report(Y_test, Y_pred, target_names=['Not Default', 'Default']))"
      ],
      "metadata": {
        "id": "pNM4l_CeaIgg"
      },
      "execution_count": null,
      "outputs": []
    },
    {
      "cell_type": "markdown",
      "source": [
        "**Start cross validation(balanced data)**"
      ],
      "metadata": {
        "id": "njs8N8nbKgFO"
      }
    },
    {
      "cell_type": "code",
      "source": [
        "# balance the data, create two data type\n",
        "from imblearn.over_sampling import SMOTE\n",
        "\n",
        "smote = SMOTE(random_state=42)\n",
        "\n",
        "X_resampled, Y_resampled = smote.fit_resample(X_train, Y_train)"
      ],
      "metadata": {
        "id": "WUI2y4pLKfIG"
      },
      "execution_count": null,
      "outputs": []
    },
    {
      "cell_type": "code",
      "source": [
        "import tensorflow as tf\n",
        "from sklearn.model_selection import cross_val_score\n",
        "from sklearn.model_selection import StratifiedKFold\n",
        "import numpy as np\n",
        "\n",
        "# define neural net model\n",
        "def build_model(n_layers, n_units, optimizer, learning_rate):\n",
        "    model = tf.keras.Sequential()\n",
        "    model.add(tf.keras.layers.Dense(n_units, activation='relu', input_shape=(23,)))  # input layer\n",
        "    for _ in range(1, n_layers):\n",
        "        model.add(tf.keras.layers.Dense(n_units, activation='relu'))  # hidden layer\n",
        "    model.add(tf.keras.layers.Dense(1, activation='sigmoid'))  # output layer\n",
        "\n",
        "    # optimizer\n",
        "    if optimizer == 'adam':\n",
        "        opt = tf.keras.optimizers.Adam(learning_rate=learning_rate)\n",
        "    else:\n",
        "        opt = tf.keras.optimizers.SGD(learning_rate=learning_rate)\n",
        "\n",
        "    model.compile(optimizer=opt, loss='binary_crossentropy', metrics=['accuracy'])\n",
        "    return model\n",
        "\n",
        "# parameters\n",
        "optimizer_options = ['adam', 'sgd']\n",
        "learning_rate_options = [0.001, 0.01, 0.1]\n",
        "layer_options = [1, 2, 3, 4]\n",
        "unit_options = [32, 64, 128, 256]\n",
        "batch_size_options = [32, 64, 128]\n",
        "kfold = StratifiedKFold(n_splits=3, shuffle=True, random_state=42)\n",
        "\n",
        "best_score = 0\n",
        "best_params = {}\n",
        "\n",
        "# grid search\n",
        "for optimizer in optimizer_options:\n",
        "    for learning_rate in learning_rate_options:\n",
        "        for n_layers in layer_options:\n",
        "            for n_units in unit_options:\n",
        "                for batch_size in batch_size_options:\n",
        "                    cv_scores = []\n",
        "                    for train, test in kfold.split(X_resampled, Y_resampled):\n",
        "                        # change data set typr\n",
        "                        X_train_fold = X_resampled[train]\n",
        "                        Y_train_fold = Y_resampled.iloc[train].values\n",
        "                        X_test_fold = X_resampled[test]\n",
        "                        Y_test_fold = Y_resampled.iloc[test].values\n",
        "\n",
        "                        model = build_model(n_layers, n_units, optimizer, learning_rate)\n",
        "                        model.fit(X_train_fold, Y_train_fold, epochs=50, batch_size=batch_size, verbose=0)\n",
        "                        scores = model.evaluate(X_test_fold, Y_test_fold, verbose=0)\n",
        "                        cv_scores.append(scores[1])  # suppose scores[1] is accuracy\n",
        "                    score = np.mean(cv_scores)\n",
        "                    if score > best_score:\n",
        "                        best_score = score\n",
        "                        best_params = {\n",
        "                            'optimizer': optimizer,\n",
        "                            'learning_rate': learning_rate,\n",
        "                            'n_layers': n_layers,\n",
        "                            'n_units': n_units,\n",
        "                            'batch_size': batch_size\n",
        "                        }\n",
        "                    print(f\"Opt: {optimizer}, LR: {learning_rate}, Layers: {n_layers}, Units: {n_units}, Batch Size: {batch_size}, Mean CV Accuracy: {score:.2f}\")\n",
        "\n",
        "print(f\"Best Score: {best_score:.2f}\")\n",
        "print(\"Best Parameters:\", best_params)\n"
      ],
      "metadata": {
        "id": "ar6Cl2ZyMald"
      },
      "execution_count": null,
      "outputs": []
    },
    {
      "cell_type": "code",
      "source": [
        "# model with the best parameters\n",
        "best_model = build_model(best_params['n_layers'], best_params['n_units'], best_params['optimizer'], best_params['learning_rate'])\n",
        "\n",
        "# re-train model\n",
        "history = best_model.fit(X_train, Y_train, validation_split=0.2, epochs=50, batch_size=best_params['batch_size'])\n"
      ],
      "metadata": {
        "id": "G1ZEAYPqP0mL"
      },
      "execution_count": null,
      "outputs": []
    },
    {
      "cell_type": "code",
      "source": [
        "# plot the training loss and validation loss\n",
        "plt.plot(history.history['loss'], label='Training Loss')\n",
        "plt.plot(history.history['val_loss'], label='Validation Loss')\n",
        "plt.title('Training and Validation Loss')\n",
        "plt.xlabel('Epoch')\n",
        "plt.ylabel('Loss')\n",
        "plt.legend()\n",
        "plt.show()\n",
        "\n",
        "# plot the training accuracy and validation accuracy\n",
        "plt.plot(history.history['accuracy'], label='Training Accuracy')\n",
        "plt.plot(history.history['val_accuracy'], label='Validation Accuracy')\n",
        "plt.title('Training and Validation Accuracy')\n",
        "plt.xlabel('Epoch')\n",
        "plt.ylabel('Accuracy')\n",
        "plt.legend()\n",
        "plt.show()\n"
      ],
      "metadata": {
        "id": "M0ZGePBAMapP"
      },
      "execution_count": null,
      "outputs": []
    },
    {
      "cell_type": "code",
      "source": [
        "from sklearn.metrics import classification_report\n",
        "\n",
        "# generating predictions (probabilities)\n",
        "y_pred_prob = model.predict(X_test)\n",
        "\n",
        "# convert probabilities to labels\n",
        "Y_pred = [1 if prob > 0.5 else 0 for prob in y_pred_prob]"
      ],
      "metadata": {
        "id": "1oAgyCNPMarw"
      },
      "execution_count": null,
      "outputs": []
    },
    {
      "cell_type": "code",
      "source": [
        "print(classification_report(Y_test, Y_pred, target_names=['Not Default', 'Default']))"
      ],
      "metadata": {
        "id": "FetrozkJP3q7"
      },
      "execution_count": null,
      "outputs": []
    }
  ]
}