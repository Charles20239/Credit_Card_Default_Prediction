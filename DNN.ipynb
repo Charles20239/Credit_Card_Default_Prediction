{
 "cells": [
  {
   "cell_type": "markdown",
   "metadata": {
    "colab_type": "text",
    "id": "view-in-github"
   },
   "source": [
    "<a href=\"https://colab.research.google.com/github/Charles20239/Credit_Card_Default_Prediction/blob/main/DNN.ipynb\" target=\"_parent\"><img src=\"https://colab.research.google.com/assets/colab-badge.svg\" alt=\"Open In Colab\"/></a>"
   ]
  },
  {
   "cell_type": "code",
   "execution_count": 1,
   "metadata": {
    "id": "9TiyjSsrUma7"
   },
   "outputs": [],
   "source": [
    "import pandas as pd\n",
    "import numpy as np"
   ]
  },
  {
   "cell_type": "code",
   "execution_count": 2,
   "metadata": {
    "id": "xL3NXsv1Vjzu"
   },
   "outputs": [],
   "source": [
    "data = pd.read_csv('default_of_credit_card_clients.csv', header=1)"
   ]
  },
  {
   "cell_type": "code",
   "execution_count": 3,
   "metadata": {
    "colab": {
     "base_uri": "https://localhost:8080/",
     "height": 307
    },
    "id": "BJGlTEIEVj2R",
    "outputId": "40eb18a0-9f01-4b12-dd10-d4cbbd5ad141"
   },
   "outputs": [
    {
     "data": {
      "text/html": [
       "<div>\n",
       "<style scoped>\n",
       "    .dataframe tbody tr th:only-of-type {\n",
       "        vertical-align: middle;\n",
       "    }\n",
       "\n",
       "    .dataframe tbody tr th {\n",
       "        vertical-align: top;\n",
       "    }\n",
       "\n",
       "    .dataframe thead th {\n",
       "        text-align: right;\n",
       "    }\n",
       "</style>\n",
       "<table border=\"1\" class=\"dataframe\">\n",
       "  <thead>\n",
       "    <tr style=\"text-align: right;\">\n",
       "      <th></th>\n",
       "      <th>ID</th>\n",
       "      <th>LIMIT_BAL</th>\n",
       "      <th>SEX</th>\n",
       "      <th>EDUCATION</th>\n",
       "      <th>MARRIAGE</th>\n",
       "      <th>AGE</th>\n",
       "      <th>PAY_0</th>\n",
       "      <th>PAY_2</th>\n",
       "      <th>PAY_3</th>\n",
       "      <th>PAY_4</th>\n",
       "      <th>...</th>\n",
       "      <th>BILL_AMT4</th>\n",
       "      <th>BILL_AMT5</th>\n",
       "      <th>BILL_AMT6</th>\n",
       "      <th>PAY_AMT1</th>\n",
       "      <th>PAY_AMT2</th>\n",
       "      <th>PAY_AMT3</th>\n",
       "      <th>PAY_AMT4</th>\n",
       "      <th>PAY_AMT5</th>\n",
       "      <th>PAY_AMT6</th>\n",
       "      <th>default payment next month</th>\n",
       "    </tr>\n",
       "  </thead>\n",
       "  <tbody>\n",
       "    <tr>\n",
       "      <th>0</th>\n",
       "      <td>1</td>\n",
       "      <td>20000</td>\n",
       "      <td>2</td>\n",
       "      <td>2</td>\n",
       "      <td>1</td>\n",
       "      <td>24</td>\n",
       "      <td>2</td>\n",
       "      <td>2</td>\n",
       "      <td>-1</td>\n",
       "      <td>-1</td>\n",
       "      <td>...</td>\n",
       "      <td>0</td>\n",
       "      <td>0</td>\n",
       "      <td>0</td>\n",
       "      <td>0</td>\n",
       "      <td>689</td>\n",
       "      <td>0</td>\n",
       "      <td>0</td>\n",
       "      <td>0</td>\n",
       "      <td>0</td>\n",
       "      <td>1</td>\n",
       "    </tr>\n",
       "    <tr>\n",
       "      <th>1</th>\n",
       "      <td>2</td>\n",
       "      <td>120000</td>\n",
       "      <td>2</td>\n",
       "      <td>2</td>\n",
       "      <td>2</td>\n",
       "      <td>26</td>\n",
       "      <td>-1</td>\n",
       "      <td>2</td>\n",
       "      <td>0</td>\n",
       "      <td>0</td>\n",
       "      <td>...</td>\n",
       "      <td>3272</td>\n",
       "      <td>3455</td>\n",
       "      <td>3261</td>\n",
       "      <td>0</td>\n",
       "      <td>1000</td>\n",
       "      <td>1000</td>\n",
       "      <td>1000</td>\n",
       "      <td>0</td>\n",
       "      <td>2000</td>\n",
       "      <td>1</td>\n",
       "    </tr>\n",
       "    <tr>\n",
       "      <th>2</th>\n",
       "      <td>3</td>\n",
       "      <td>90000</td>\n",
       "      <td>2</td>\n",
       "      <td>2</td>\n",
       "      <td>2</td>\n",
       "      <td>34</td>\n",
       "      <td>0</td>\n",
       "      <td>0</td>\n",
       "      <td>0</td>\n",
       "      <td>0</td>\n",
       "      <td>...</td>\n",
       "      <td>14331</td>\n",
       "      <td>14948</td>\n",
       "      <td>15549</td>\n",
       "      <td>1518</td>\n",
       "      <td>1500</td>\n",
       "      <td>1000</td>\n",
       "      <td>1000</td>\n",
       "      <td>1000</td>\n",
       "      <td>5000</td>\n",
       "      <td>0</td>\n",
       "    </tr>\n",
       "    <tr>\n",
       "      <th>3</th>\n",
       "      <td>4</td>\n",
       "      <td>50000</td>\n",
       "      <td>2</td>\n",
       "      <td>2</td>\n",
       "      <td>1</td>\n",
       "      <td>37</td>\n",
       "      <td>0</td>\n",
       "      <td>0</td>\n",
       "      <td>0</td>\n",
       "      <td>0</td>\n",
       "      <td>...</td>\n",
       "      <td>28314</td>\n",
       "      <td>28959</td>\n",
       "      <td>29547</td>\n",
       "      <td>2000</td>\n",
       "      <td>2019</td>\n",
       "      <td>1200</td>\n",
       "      <td>1100</td>\n",
       "      <td>1069</td>\n",
       "      <td>1000</td>\n",
       "      <td>0</td>\n",
       "    </tr>\n",
       "    <tr>\n",
       "      <th>4</th>\n",
       "      <td>5</td>\n",
       "      <td>50000</td>\n",
       "      <td>1</td>\n",
       "      <td>2</td>\n",
       "      <td>1</td>\n",
       "      <td>57</td>\n",
       "      <td>-1</td>\n",
       "      <td>0</td>\n",
       "      <td>-1</td>\n",
       "      <td>0</td>\n",
       "      <td>...</td>\n",
       "      <td>20940</td>\n",
       "      <td>19146</td>\n",
       "      <td>19131</td>\n",
       "      <td>2000</td>\n",
       "      <td>36681</td>\n",
       "      <td>10000</td>\n",
       "      <td>9000</td>\n",
       "      <td>689</td>\n",
       "      <td>679</td>\n",
       "      <td>0</td>\n",
       "    </tr>\n",
       "  </tbody>\n",
       "</table>\n",
       "<p>5 rows × 25 columns</p>\n",
       "</div>"
      ],
      "text/plain": [
       "   ID  LIMIT_BAL  SEX  EDUCATION  MARRIAGE  AGE  PAY_0  PAY_2  PAY_3  PAY_4  \\\n",
       "0   1      20000    2          2         1   24      2      2     -1     -1   \n",
       "1   2     120000    2          2         2   26     -1      2      0      0   \n",
       "2   3      90000    2          2         2   34      0      0      0      0   \n",
       "3   4      50000    2          2         1   37      0      0      0      0   \n",
       "4   5      50000    1          2         1   57     -1      0     -1      0   \n",
       "\n",
       "   ...  BILL_AMT4  BILL_AMT5  BILL_AMT6  PAY_AMT1  PAY_AMT2  PAY_AMT3  \\\n",
       "0  ...          0          0          0         0       689         0   \n",
       "1  ...       3272       3455       3261         0      1000      1000   \n",
       "2  ...      14331      14948      15549      1518      1500      1000   \n",
       "3  ...      28314      28959      29547      2000      2019      1200   \n",
       "4  ...      20940      19146      19131      2000     36681     10000   \n",
       "\n",
       "   PAY_AMT4  PAY_AMT5  PAY_AMT6  default payment next month  \n",
       "0         0         0         0                           1  \n",
       "1      1000         0      2000                           1  \n",
       "2      1000      1000      5000                           0  \n",
       "3      1100      1069      1000                           0  \n",
       "4      9000       689       679                           0  \n",
       "\n",
       "[5 rows x 25 columns]"
      ]
     },
     "execution_count": 3,
     "metadata": {},
     "output_type": "execute_result"
    }
   ],
   "source": [
    "# show data\n",
    "data.head(5)"
   ]
  },
  {
   "cell_type": "code",
   "execution_count": 4,
   "metadata": {
    "id": "hM_0Q0rjVj48"
   },
   "outputs": [],
   "source": [
    "# adjust \"EDUCATION\" column\n",
    "data[\"EDUCATION\"] = data[\"EDUCATION\"].replace({0:4, 5:4 ,6:4})\n",
    "# adjust \"MARRIAGE\" column\n",
    "data[\"MARRIAGE\"] = data[\"MARRIAGE\"].replace({0:3})"
   ]
  },
  {
   "cell_type": "code",
   "execution_count": 5,
   "metadata": {
    "colab": {
     "base_uri": "https://localhost:8080/"
    },
    "id": "RjbktPOSVoE7",
    "outputId": "8fde6587-6cfc-4c83-b4ed-2671ab7eec14"
   },
   "outputs": [
    {
     "data": {
      "text/plain": [
       "(30000, 25)"
      ]
     },
     "execution_count": 5,
     "metadata": {},
     "output_type": "execute_result"
    }
   ],
   "source": [
    "# show data information\n",
    "data.shape"
   ]
  },
  {
   "cell_type": "code",
   "execution_count": 6,
   "metadata": {
    "colab": {
     "base_uri": "https://localhost:8080/"
    },
    "id": "kh4fGObJVoHb",
    "outputId": "cb038eb0-388b-4198-b5a8-0192767fe718"
   },
   "outputs": [
    {
     "data": {
      "text/plain": [
       "((21000, 23), (9000, 23))"
      ]
     },
     "execution_count": 6,
     "metadata": {},
     "output_type": "execute_result"
    }
   ],
   "source": [
    "from sklearn.model_selection import train_test_split\n",
    "from sklearn.preprocessing import StandardScaler\n",
    "\n",
    "# split data into features (X) and target (Y)\n",
    "X = data.drop([\"ID\",\"default payment next month\"],axis = 1)  # exclude the last column (the target) and the first two rows (header)\n",
    "Y = data[\"default payment next month\"]  # last column is the target variable\n",
    "\n",
    "# standardize characteristics\n",
    "scaler = StandardScaler()\n",
    "X_scaled = scaler.fit_transform(X)\n",
    "\n",
    "# split the data into training and test sets\n",
    "X_train, X_test, Y_train, Y_test = train_test_split(X_scaled, Y, test_size=0.3, random_state=42)\n",
    "\n",
    "X_train.shape, X_test.shape"
   ]
  },
  {
   "cell_type": "markdown",
   "metadata": {
    "id": "DB09zDIxVuka"
   },
   "source": [
    "**Test neural net work**"
   ]
  },
  {
   "cell_type": "code",
   "execution_count": 7,
   "metadata": {
    "colab": {
     "base_uri": "https://localhost:8080/"
    },
    "id": "u9ZQaondVoKB",
    "outputId": "d11941b4-2348-4d73-857a-caac14554aa4"
   },
   "outputs": [
    {
     "name": "stdout",
     "output_type": "stream",
     "text": [
      "Epoch 1/50\n",
      "263/263 [==============================] - 1s 3ms/step - loss: 0.4775 - accuracy: 0.8058 - val_loss: 0.4654 - val_accuracy: 0.8095\n",
      "Epoch 2/50\n",
      "263/263 [==============================] - 0s 2ms/step - loss: 0.4422 - accuracy: 0.8182 - val_loss: 0.4566 - val_accuracy: 0.8140\n",
      "Epoch 3/50\n",
      "263/263 [==============================] - 0s 2ms/step - loss: 0.4340 - accuracy: 0.8199 - val_loss: 0.4524 - val_accuracy: 0.8095\n",
      "Epoch 4/50\n",
      "263/263 [==============================] - 0s 1ms/step - loss: 0.4294 - accuracy: 0.8218 - val_loss: 0.4536 - val_accuracy: 0.8119\n",
      "Epoch 5/50\n",
      "263/263 [==============================] - 0s 2ms/step - loss: 0.4266 - accuracy: 0.8227 - val_loss: 0.4513 - val_accuracy: 0.8124\n",
      "Epoch 6/50\n",
      "263/263 [==============================] - 1s 2ms/step - loss: 0.4234 - accuracy: 0.8229 - val_loss: 0.4471 - val_accuracy: 0.8124\n",
      "Epoch 7/50\n",
      "263/263 [==============================] - 0s 2ms/step - loss: 0.4216 - accuracy: 0.8239 - val_loss: 0.4484 - val_accuracy: 0.8124\n",
      "Epoch 8/50\n",
      "263/263 [==============================] - 0s 2ms/step - loss: 0.4193 - accuracy: 0.8240 - val_loss: 0.4447 - val_accuracy: 0.8138\n",
      "Epoch 9/50\n",
      "263/263 [==============================] - 0s 2ms/step - loss: 0.4173 - accuracy: 0.8246 - val_loss: 0.4468 - val_accuracy: 0.8131\n",
      "Epoch 10/50\n",
      "263/263 [==============================] - 0s 2ms/step - loss: 0.4162 - accuracy: 0.8239 - val_loss: 0.4483 - val_accuracy: 0.8105\n",
      "Epoch 11/50\n",
      "263/263 [==============================] - 0s 2ms/step - loss: 0.4148 - accuracy: 0.8248 - val_loss: 0.4464 - val_accuracy: 0.8129\n",
      "Epoch 12/50\n",
      "263/263 [==============================] - 0s 1ms/step - loss: 0.4139 - accuracy: 0.8248 - val_loss: 0.4491 - val_accuracy: 0.8145\n",
      "Epoch 13/50\n",
      "263/263 [==============================] - 0s 2ms/step - loss: 0.4125 - accuracy: 0.8251 - val_loss: 0.4473 - val_accuracy: 0.8133\n",
      "Epoch 14/50\n",
      "263/263 [==============================] - 0s 2ms/step - loss: 0.4098 - accuracy: 0.8261 - val_loss: 0.4528 - val_accuracy: 0.8117\n",
      "Epoch 15/50\n",
      "263/263 [==============================] - 1s 2ms/step - loss: 0.4090 - accuracy: 0.8277 - val_loss: 0.4493 - val_accuracy: 0.8129\n",
      "Epoch 16/50\n",
      "263/263 [==============================] - 0s 2ms/step - loss: 0.4072 - accuracy: 0.8277 - val_loss: 0.4469 - val_accuracy: 0.8117\n",
      "Epoch 17/50\n",
      "263/263 [==============================] - 1s 2ms/step - loss: 0.4053 - accuracy: 0.8290 - val_loss: 0.4512 - val_accuracy: 0.8117\n",
      "Epoch 18/50\n",
      "263/263 [==============================] - 0s 1ms/step - loss: 0.4051 - accuracy: 0.8276 - val_loss: 0.4523 - val_accuracy: 0.8121\n",
      "Epoch 19/50\n",
      "263/263 [==============================] - 0s 2ms/step - loss: 0.4031 - accuracy: 0.8292 - val_loss: 0.4468 - val_accuracy: 0.8133\n",
      "Epoch 20/50\n",
      "263/263 [==============================] - 0s 2ms/step - loss: 0.4023 - accuracy: 0.8293 - val_loss: 0.4490 - val_accuracy: 0.8136\n",
      "Epoch 21/50\n",
      "263/263 [==============================] - 0s 2ms/step - loss: 0.4005 - accuracy: 0.8298 - val_loss: 0.4501 - val_accuracy: 0.8112\n",
      "Epoch 22/50\n",
      "263/263 [==============================] - 0s 1ms/step - loss: 0.4002 - accuracy: 0.8306 - val_loss: 0.4520 - val_accuracy: 0.8102\n",
      "Epoch 23/50\n",
      "263/263 [==============================] - 0s 2ms/step - loss: 0.3969 - accuracy: 0.8315 - val_loss: 0.4503 - val_accuracy: 0.8138\n",
      "Epoch 24/50\n",
      "263/263 [==============================] - 0s 2ms/step - loss: 0.3972 - accuracy: 0.8290 - val_loss: 0.4540 - val_accuracy: 0.8117\n",
      "Epoch 25/50\n",
      "263/263 [==============================] - 0s 2ms/step - loss: 0.3957 - accuracy: 0.8314 - val_loss: 0.4571 - val_accuracy: 0.8114\n",
      "Epoch 26/50\n",
      "263/263 [==============================] - 0s 2ms/step - loss: 0.3941 - accuracy: 0.8321 - val_loss: 0.4543 - val_accuracy: 0.8062\n",
      "Epoch 27/50\n",
      "263/263 [==============================] - 0s 2ms/step - loss: 0.3921 - accuracy: 0.8329 - val_loss: 0.4599 - val_accuracy: 0.8083\n",
      "Epoch 28/50\n",
      "263/263 [==============================] - 0s 2ms/step - loss: 0.3920 - accuracy: 0.8327 - val_loss: 0.4561 - val_accuracy: 0.8052\n",
      "Epoch 29/50\n",
      "263/263 [==============================] - 0s 2ms/step - loss: 0.3908 - accuracy: 0.8322 - val_loss: 0.4581 - val_accuracy: 0.8076\n",
      "Epoch 30/50\n",
      "263/263 [==============================] - 1s 2ms/step - loss: 0.3884 - accuracy: 0.8332 - val_loss: 0.4602 - val_accuracy: 0.8105\n",
      "Epoch 31/50\n",
      "263/263 [==============================] - 0s 2ms/step - loss: 0.3878 - accuracy: 0.8330 - val_loss: 0.4602 - val_accuracy: 0.8100\n",
      "Epoch 32/50\n",
      "263/263 [==============================] - 0s 1ms/step - loss: 0.3853 - accuracy: 0.8354 - val_loss: 0.4596 - val_accuracy: 0.8074\n",
      "Epoch 33/50\n",
      "263/263 [==============================] - 1s 2ms/step - loss: 0.3838 - accuracy: 0.8351 - val_loss: 0.4617 - val_accuracy: 0.8038\n",
      "Epoch 34/50\n",
      "263/263 [==============================] - 1s 2ms/step - loss: 0.3848 - accuracy: 0.8372 - val_loss: 0.4631 - val_accuracy: 0.8067\n",
      "Epoch 35/50\n",
      "263/263 [==============================] - 1s 2ms/step - loss: 0.3835 - accuracy: 0.8371 - val_loss: 0.4631 - val_accuracy: 0.8067\n",
      "Epoch 36/50\n",
      "263/263 [==============================] - 1s 2ms/step - loss: 0.3811 - accuracy: 0.8377 - val_loss: 0.4720 - val_accuracy: 0.8090\n",
      "Epoch 37/50\n",
      "263/263 [==============================] - 0s 2ms/step - loss: 0.3802 - accuracy: 0.8367 - val_loss: 0.4671 - val_accuracy: 0.8005\n",
      "Epoch 38/50\n",
      "263/263 [==============================] - 1s 2ms/step - loss: 0.3785 - accuracy: 0.8386 - val_loss: 0.4679 - val_accuracy: 0.8071\n",
      "Epoch 39/50\n",
      "263/263 [==============================] - 0s 2ms/step - loss: 0.3769 - accuracy: 0.8373 - val_loss: 0.4647 - val_accuracy: 0.8005\n",
      "Epoch 40/50\n",
      "263/263 [==============================] - 1s 2ms/step - loss: 0.3769 - accuracy: 0.8389 - val_loss: 0.4678 - val_accuracy: 0.8038\n",
      "Epoch 41/50\n",
      "263/263 [==============================] - 0s 2ms/step - loss: 0.3758 - accuracy: 0.8406 - val_loss: 0.4735 - val_accuracy: 0.8060\n",
      "Epoch 42/50\n",
      "263/263 [==============================] - 1s 2ms/step - loss: 0.3726 - accuracy: 0.8394 - val_loss: 0.4684 - val_accuracy: 0.8017\n",
      "Epoch 43/50\n",
      "263/263 [==============================] - 1s 2ms/step - loss: 0.3711 - accuracy: 0.8418 - val_loss: 0.4774 - val_accuracy: 0.7998\n",
      "Epoch 44/50\n",
      "263/263 [==============================] - 1s 2ms/step - loss: 0.3702 - accuracy: 0.8426 - val_loss: 0.4751 - val_accuracy: 0.8043\n",
      "Epoch 45/50\n",
      "263/263 [==============================] - 1s 2ms/step - loss: 0.3695 - accuracy: 0.8421 - val_loss: 0.4793 - val_accuracy: 0.8024\n",
      "Epoch 46/50\n",
      "263/263 [==============================] - 0s 2ms/step - loss: 0.3701 - accuracy: 0.8422 - val_loss: 0.4795 - val_accuracy: 0.7979\n",
      "Epoch 47/50\n",
      "263/263 [==============================] - 0s 2ms/step - loss: 0.3676 - accuracy: 0.8451 - val_loss: 0.4766 - val_accuracy: 0.8014\n",
      "Epoch 48/50\n",
      "263/263 [==============================] - 1s 2ms/step - loss: 0.3667 - accuracy: 0.8438 - val_loss: 0.4821 - val_accuracy: 0.8017\n",
      "Epoch 49/50\n",
      "263/263 [==============================] - 0s 1ms/step - loss: 0.3652 - accuracy: 0.8435 - val_loss: 0.4836 - val_accuracy: 0.8048\n",
      "Epoch 50/50\n",
      "263/263 [==============================] - 0s 2ms/step - loss: 0.3631 - accuracy: 0.8452 - val_loss: 0.4816 - val_accuracy: 0.7998\n"
     ]
    }
   ],
   "source": [
    "from tensorflow.keras.models import Sequential\n",
    "from tensorflow.keras.layers import Dense\n",
    "from tensorflow.keras.optimizers import Adam\n",
    "\n",
    "# define model\n",
    "model = Sequential([\n",
    "    Dense(64, input_dim=23, activation='relu'),  # Input layer and the first hidden layer\n",
    "    Dense(32, activation='relu'),                # the second hidden layer\n",
    "    Dense(16, activation='relu'),                # the third hidden layer\n",
    "    Dense(1, activation='sigmoid')               # output layer\n",
    "])\n",
    "\n",
    "# compile model\n",
    "model.compile(optimizer=Adam(), loss='binary_crossentropy', metrics=['accuracy'])\n",
    "\n",
    "# train model\n",
    "history = model.fit(X_train, Y_train, validation_split=0.2, epochs=50, batch_size=64)\n"
   ]
  },
  {
   "cell_type": "code",
   "execution_count": 10,
   "metadata": {
    "colab": {
     "base_uri": "https://localhost:8080/"
    },
    "id": "ORrCA1khVoMW",
    "outputId": "32d9eaca-a9af-4440-ad94-177c1fd49103"
   },
   "outputs": [
    {
     "name": "stdout",
     "output_type": "stream",
     "text": [
      "282/282 [==============================] - 0s 1ms/step - loss: 0.4821 - accuracy: 0.8008\n",
      "loss on test set: 0.4821\n",
      "accuracy on test set: 0.8008\n"
     ]
    }
   ],
   "source": [
    "# evaluated on the test set\n",
    "loss, accuracy = model.evaluate(X_test, Y_test)\n",
    "print(f\"loss on test set: {loss:.4f}\")\n",
    "print(f\"accuracy on test set: {accuracy:.4f}\")"
   ]
  },
  {
   "cell_type": "code",
   "execution_count": 11,
   "metadata": {
    "colab": {
     "base_uri": "https://localhost:8080/",
     "height": 927
    },
    "id": "zw_LnGEFVj7k",
    "outputId": "b483b83c-239b-4140-d64c-857c51b4c83b"
   },
   "outputs": [
    {
     "data": {
      "image/png": "[encoded data removed]",
      "text/plain": [
       "<Figure size 432x288 with 1 Axes>"
      ]
     },
     "metadata": {
      "needs_background": "light"
     },
     "output_type": "display_data"
    },
    {
     "data": {
      "image/png": "[encoded data removed]",
      "text/plain": [
       "<Figure size 432x288 with 1 Axes>"
      ]
     },
     "metadata": {
      "needs_background": "light"
     },
     "output_type": "display_data"
    }
   ],
   "source": [
    "import matplotlib.pyplot as plt\n",
    "\n",
    "# plot the training loss and validation loss\n",
    "plt.plot(history.history['loss'], label='Train Loss')\n",
    "plt.plot(history.history['val_loss'], label='Validation Loss')\n",
    "plt.title('Model Loss')\n",
    "plt.ylabel('Loss')\n",
    "plt.xlabel('Epochs')\n",
    "plt.legend()\n",
    "plt.show()\n",
    "\n",
    "# plot the training accuracy and validation accuracy\n",
    "plt.plot(history.history['accuracy'], label='Train Accuracy')\n",
    "plt.plot(history.history['val_accuracy'], label='Validation Accuracy')\n",
    "plt.title('Model Accuracy')\n",
    "plt.ylabel('Accuracy')\n",
    "plt.xlabel('Epochs')\n",
    "plt.legend()\n",
    "plt.show()\n"
   ]
  },
  {
   "cell_type": "code",
   "execution_count": 12,
   "metadata": {
    "colab": {
     "base_uri": "https://localhost:8080/"
    },
    "id": "_cDguUSgVj-I",
    "outputId": "86537bd5-12dc-45f5-80f1-5ad6f6a2b758"
   },
   "outputs": [
    {
     "name": "stdout",
     "output_type": "stream",
     "text": [
      "282/282 [==============================] - 0s 981us/step\n"
     ]
    }
   ],
   "source": [
    "from sklearn.metrics import classification_report\n",
    "\n",
    "# generating predictions (probabilities)\n",
    "y_pred_prob = model.predict(X_test)\n",
    "\n",
    "# convert probabilities to labels\n",
    "Y_pred = [1 if prob > 0.5 else 0 for prob in y_pred_prob]\n"
   ]
  },
  {
   "cell_type": "code",
   "execution_count": 13,
   "metadata": {
    "colab": {
     "base_uri": "https://localhost:8080/"
    },
    "id": "iR1rTTxHVkAf",
    "outputId": "618ab9c1-b850-43e5-c3d5-89a54148ed6b"
   },
   "outputs": [
    {
     "name": "stdout",
     "output_type": "stream",
     "text": [
      "              precision    recall  f1-score   support\n",
      "\n",
      " Not Default       0.84      0.92      0.88      7040\n",
      "     Default       0.56      0.38      0.45      1960\n",
      "\n",
      "    accuracy                           0.80      9000\n",
      "   macro avg       0.70      0.65      0.67      9000\n",
      "weighted avg       0.78      0.80      0.79      9000\n",
      "\n"
     ]
    }
   ],
   "source": [
    "print(classification_report(Y_test, Y_pred, target_names=['Not Default', 'Default']))\n"
   ]
  },
  {
   "cell_type": "markdown",
   "metadata": {
    "id": "WdcfO2w-WCio"
   },
   "source": [
    "**Start cross validation(unbalanced data)**"
   ]
  },
  {
   "cell_type": "code",
   "execution_count": 14,
   "metadata": {
    "id": "3GpNCuKZWBxt"
   },
   "outputs": [],
   "source": [
    "from tensorflow.keras.models import Sequential\n",
    "from tensorflow.keras.layers import Dense\n",
    "from tensorflow.keras.optimizers import Adam, SGD\n",
    "\n",
    "def build_model(n_layers, n_units, optimizer='adam', learning_rate=0.001):\n",
    "    model = Sequential()\n",
    "    model.add(Dense(n_units, input_dim=23, activation='relu'))\n",
    "\n",
    "    for _ in range(n_layers - 1):\n",
    "        model.add(Dense(n_units, activation='relu'))\n",
    "\n",
    "    model.add(Dense(1, activation='sigmoid'))\n",
    "\n",
    "    if optimizer == 'adam':\n",
    "        opt = Adam(learning_rate=learning_rate)\n",
    "    elif optimizer == 'sgd':\n",
    "        opt = SGD(learning_rate=learning_rate)\n",
    "    else:\n",
    "        raise ValueError(\"Unsupported optimizer\")\n",
    "\n",
    "    model.compile(optimizer=opt, loss='binary_crossentropy', metrics=['accuracy'])\n",
    "    return model\n"
   ]
  },
  {
   "cell_type": "code",
   "execution_count": 15,
   "metadata": {
    "id": "hL-9hFq5WB67"
   },
   "outputs": [
    {
     "name": "stdout",
     "output_type": "stream",
     "text": [
      "Opt: adam, LR: 0.001, Layers: 1, Units: 32, Batch Size: 32, Mean CV Accuracy: 0.82\n",
      "Opt: adam, LR: 0.001, Layers: 1, Units: 32, Batch Size: 64, Mean CV Accuracy: 0.82\n",
      "Opt: adam, LR: 0.001, Layers: 1, Units: 32, Batch Size: 128, Mean CV Accuracy: 0.82\n",
      "Opt: adam, LR: 0.001, Layers: 1, Units: 64, Batch Size: 32, Mean CV Accuracy: 0.82\n",
      "Opt: adam, LR: 0.001, Layers: 1, Units: 64, Batch Size: 64, Mean CV Accuracy: 0.82\n",
      "Opt: adam, LR: 0.001, Layers: 1, Units: 64, Batch Size: 128, Mean CV Accuracy: 0.82\n",
      "Opt: adam, LR: 0.001, Layers: 1, Units: 128, Batch Size: 32, Mean CV Accuracy: 0.81\n",
      "Opt: adam, LR: 0.001, Layers: 1, Units: 128, Batch Size: 64, Mean CV Accuracy: 0.81\n",
      "Opt: adam, LR: 0.001, Layers: 1, Units: 128, Batch Size: 128, Mean CV Accuracy: 0.82\n",
      "Opt: adam, LR: 0.001, Layers: 1, Units: 256, Batch Size: 32, Mean CV Accuracy: 0.81\n",
      "Opt: adam, LR: 0.001, Layers: 1, Units: 256, Batch Size: 64, Mean CV Accuracy: 0.82\n",
      "Opt: adam, LR: 0.001, Layers: 1, Units: 256, Batch Size: 128, Mean CV Accuracy: 0.81\n",
      "Opt: adam, LR: 0.001, Layers: 2, Units: 32, Batch Size: 32, Mean CV Accuracy: 0.81\n",
      "Opt: adam, LR: 0.001, Layers: 2, Units: 32, Batch Size: 64, Mean CV Accuracy: 0.81\n",
      "Opt: adam, LR: 0.001, Layers: 2, Units: 32, Batch Size: 128, Mean CV Accuracy: 0.81\n",
      "Opt: adam, LR: 0.001, Layers: 2, Units: 64, Batch Size: 32, Mean CV Accuracy: 0.80\n",
      "Opt: adam, LR: 0.001, Layers: 2, Units: 64, Batch Size: 64, Mean CV Accuracy: 0.81\n",
      "Opt: adam, LR: 0.001, Layers: 2, Units: 64, Batch Size: 128, Mean CV Accuracy: 0.81\n",
      "Opt: adam, LR: 0.001, Layers: 2, Units: 128, Batch Size: 32, Mean CV Accuracy: 0.78\n",
      "Opt: adam, LR: 0.001, Layers: 2, Units: 128, Batch Size: 64, Mean CV Accuracy: 0.80\n",
      "Opt: adam, LR: 0.001, Layers: 2, Units: 128, Batch Size: 128, Mean CV Accuracy: 0.80\n",
      "Opt: adam, LR: 0.001, Layers: 2, Units: 256, Batch Size: 32, Mean CV Accuracy: 0.78\n",
      "Opt: adam, LR: 0.001, Layers: 2, Units: 256, Batch Size: 64, Mean CV Accuracy: 0.78\n",
      "Opt: adam, LR: 0.001, Layers: 2, Units: 256, Batch Size: 128, Mean CV Accuracy: 0.79\n",
      "Opt: adam, LR: 0.001, Layers: 3, Units: 32, Batch Size: 32, Mean CV Accuracy: 0.81\n",
      "Opt: adam, LR: 0.001, Layers: 3, Units: 32, Batch Size: 64, Mean CV Accuracy: 0.81\n",
      "Opt: adam, LR: 0.001, Layers: 3, Units: 32, Batch Size: 128, Mean CV Accuracy: 0.81\n",
      "Opt: adam, LR: 0.001, Layers: 3, Units: 64, Batch Size: 32, Mean CV Accuracy: 0.78\n",
      "Opt: adam, LR: 0.001, Layers: 3, Units: 64, Batch Size: 64, Mean CV Accuracy: 0.79\n",
      "Opt: adam, LR: 0.001, Layers: 3, Units: 64, Batch Size: 128, Mean CV Accuracy: 0.80\n",
      "Opt: adam, LR: 0.001, Layers: 3, Units: 128, Batch Size: 32, Mean CV Accuracy: 0.77\n",
      "Opt: adam, LR: 0.001, Layers: 3, Units: 128, Batch Size: 64, Mean CV Accuracy: 0.77\n",
      "Opt: adam, LR: 0.001, Layers: 3, Units: 128, Batch Size: 128, Mean CV Accuracy: 0.78\n",
      "Opt: adam, LR: 0.001, Layers: 3, Units: 256, Batch Size: 32, Mean CV Accuracy: 0.77\n",
      "Opt: adam, LR: 0.001, Layers: 3, Units: 256, Batch Size: 64, Mean CV Accuracy: 0.77\n",
      "Opt: adam, LR: 0.001, Layers: 3, Units: 256, Batch Size: 128, Mean CV Accuracy: 0.77\n",
      "Opt: adam, LR: 0.001, Layers: 4, Units: 32, Batch Size: 32, Mean CV Accuracy: 0.80\n",
      "Opt: adam, LR: 0.001, Layers: 4, Units: 32, Batch Size: 64, Mean CV Accuracy: 0.80\n",
      "Opt: adam, LR: 0.001, Layers: 4, Units: 32, Batch Size: 128, Mean CV Accuracy: 0.80\n",
      "Opt: adam, LR: 0.001, Layers: 4, Units: 64, Batch Size: 32, Mean CV Accuracy: 0.77\n",
      "Opt: adam, LR: 0.001, Layers: 4, Units: 64, Batch Size: 64, Mean CV Accuracy: 0.78\n",
      "Opt: adam, LR: 0.001, Layers: 4, Units: 64, Batch Size: 128, Mean CV Accuracy: 0.78\n",
      "Opt: adam, LR: 0.001, Layers: 4, Units: 128, Batch Size: 32, Mean CV Accuracy: 0.76\n",
      "Opt: adam, LR: 0.001, Layers: 4, Units: 128, Batch Size: 64, Mean CV Accuracy: 0.77\n",
      "Opt: adam, LR: 0.001, Layers: 4, Units: 128, Batch Size: 128, Mean CV Accuracy: 0.77\n",
      "Opt: adam, LR: 0.001, Layers: 4, Units: 256, Batch Size: 32, Mean CV Accuracy: 0.77\n",
      "Opt: adam, LR: 0.001, Layers: 4, Units: 256, Batch Size: 64, Mean CV Accuracy: 0.77\n",
      "Opt: adam, LR: 0.001, Layers: 4, Units: 256, Batch Size: 128, Mean CV Accuracy: 0.76\n",
      "Opt: adam, LR: 0.01, Layers: 1, Units: 32, Batch Size: 32, Mean CV Accuracy: 0.82\n",
      "Opt: adam, LR: 0.01, Layers: 1, Units: 32, Batch Size: 64, Mean CV Accuracy: 0.81\n",
      "Opt: adam, LR: 0.01, Layers: 1, Units: 32, Batch Size: 128, Mean CV Accuracy: 0.81\n",
      "Opt: adam, LR: 0.01, Layers: 1, Units: 64, Batch Size: 32, Mean CV Accuracy: 0.81\n",
      "Opt: adam, LR: 0.01, Layers: 1, Units: 64, Batch Size: 64, Mean CV Accuracy: 0.82\n",
      "Opt: adam, LR: 0.01, Layers: 1, Units: 64, Batch Size: 128, Mean CV Accuracy: 0.81\n",
      "Opt: adam, LR: 0.01, Layers: 1, Units: 128, Batch Size: 32, Mean CV Accuracy: 0.81\n",
      "Opt: adam, LR: 0.01, Layers: 1, Units: 128, Batch Size: 64, Mean CV Accuracy: 0.81\n",
      "Opt: adam, LR: 0.01, Layers: 1, Units: 128, Batch Size: 128, Mean CV Accuracy: 0.81\n",
      "Opt: adam, LR: 0.01, Layers: 1, Units: 256, Batch Size: 32, Mean CV Accuracy: 0.81\n",
      "Opt: adam, LR: 0.01, Layers: 1, Units: 256, Batch Size: 64, Mean CV Accuracy: 0.81\n",
      "Opt: adam, LR: 0.01, Layers: 1, Units: 256, Batch Size: 128, Mean CV Accuracy: 0.81\n",
      "Opt: adam, LR: 0.01, Layers: 2, Units: 32, Batch Size: 32, Mean CV Accuracy: 0.81\n",
      "Opt: adam, LR: 0.01, Layers: 2, Units: 32, Batch Size: 64, Mean CV Accuracy: 0.81\n",
      "Opt: adam, LR: 0.01, Layers: 2, Units: 32, Batch Size: 128, Mean CV Accuracy: 0.81\n",
      "Opt: adam, LR: 0.01, Layers: 2, Units: 64, Batch Size: 32, Mean CV Accuracy: 0.81\n",
      "Opt: adam, LR: 0.01, Layers: 2, Units: 64, Batch Size: 64, Mean CV Accuracy: 0.81\n",
      "Opt: adam, LR: 0.01, Layers: 2, Units: 64, Batch Size: 128, Mean CV Accuracy: 0.80\n",
      "Opt: adam, LR: 0.01, Layers: 2, Units: 128, Batch Size: 32, Mean CV Accuracy: 0.81\n",
      "Opt: adam, LR: 0.01, Layers: 2, Units: 128, Batch Size: 64, Mean CV Accuracy: 0.81\n",
      "Opt: adam, LR: 0.01, Layers: 2, Units: 128, Batch Size: 128, Mean CV Accuracy: 0.80\n",
      "Opt: adam, LR: 0.01, Layers: 2, Units: 256, Batch Size: 32, Mean CV Accuracy: 0.81\n",
      "Opt: adam, LR: 0.01, Layers: 2, Units: 256, Batch Size: 64, Mean CV Accuracy: 0.81\n",
      "Opt: adam, LR: 0.01, Layers: 2, Units: 256, Batch Size: 128, Mean CV Accuracy: 0.80\n",
      "Opt: adam, LR: 0.01, Layers: 3, Units: 32, Batch Size: 32, Mean CV Accuracy: 0.81\n",
      "Opt: adam, LR: 0.01, Layers: 3, Units: 32, Batch Size: 64, Mean CV Accuracy: 0.81\n",
      "Opt: adam, LR: 0.01, Layers: 3, Units: 32, Batch Size: 128, Mean CV Accuracy: 0.81\n",
      "Opt: adam, LR: 0.01, Layers: 3, Units: 64, Batch Size: 32, Mean CV Accuracy: 0.81\n",
      "Opt: adam, LR: 0.01, Layers: 3, Units: 64, Batch Size: 64, Mean CV Accuracy: 0.81\n",
      "Opt: adam, LR: 0.01, Layers: 3, Units: 64, Batch Size: 128, Mean CV Accuracy: 0.81\n",
      "Opt: adam, LR: 0.01, Layers: 3, Units: 128, Batch Size: 32, Mean CV Accuracy: 0.81\n",
      "Opt: adam, LR: 0.01, Layers: 3, Units: 128, Batch Size: 64, Mean CV Accuracy: 0.81\n",
      "Opt: adam, LR: 0.01, Layers: 3, Units: 128, Batch Size: 128, Mean CV Accuracy: 0.81\n",
      "Opt: adam, LR: 0.01, Layers: 3, Units: 256, Batch Size: 32, Mean CV Accuracy: 0.81\n",
      "Opt: adam, LR: 0.01, Layers: 3, Units: 256, Batch Size: 64, Mean CV Accuracy: 0.81\n",
      "Opt: adam, LR: 0.01, Layers: 3, Units: 256, Batch Size: 128, Mean CV Accuracy: 0.81\n",
      "Opt: adam, LR: 0.01, Layers: 4, Units: 32, Batch Size: 32, Mean CV Accuracy: 0.81\n",
      "Opt: adam, LR: 0.01, Layers: 4, Units: 32, Batch Size: 64, Mean CV Accuracy: 0.81\n",
      "Opt: adam, LR: 0.01, Layers: 4, Units: 32, Batch Size: 128, Mean CV Accuracy: 0.81\n",
      "Opt: adam, LR: 0.01, Layers: 4, Units: 64, Batch Size: 32, Mean CV Accuracy: 0.81\n",
      "Opt: adam, LR: 0.01, Layers: 4, Units: 64, Batch Size: 64, Mean CV Accuracy: 0.81\n",
      "Opt: adam, LR: 0.01, Layers: 4, Units: 64, Batch Size: 128, Mean CV Accuracy: 0.81\n",
      "Opt: adam, LR: 0.01, Layers: 4, Units: 128, Batch Size: 32, Mean CV Accuracy: 0.81\n",
      "Opt: adam, LR: 0.01, Layers: 4, Units: 128, Batch Size: 64, Mean CV Accuracy: 0.81\n",
      "Opt: adam, LR: 0.01, Layers: 4, Units: 128, Batch Size: 128, Mean CV Accuracy: 0.80\n",
      "Opt: adam, LR: 0.01, Layers: 4, Units: 256, Batch Size: 32, Mean CV Accuracy: 0.80\n",
      "Opt: adam, LR: 0.01, Layers: 4, Units: 256, Batch Size: 64, Mean CV Accuracy: 0.81\n",
      "Opt: adam, LR: 0.01, Layers: 4, Units: 256, Batch Size: 128, Mean CV Accuracy: 0.81\n",
      "Opt: adam, LR: 0.1, Layers: 1, Units: 32, Batch Size: 32, Mean CV Accuracy: 0.81\n",
      "Opt: adam, LR: 0.1, Layers: 1, Units: 32, Batch Size: 64, Mean CV Accuracy: 0.82\n",
      "Opt: adam, LR: 0.1, Layers: 1, Units: 32, Batch Size: 128, Mean CV Accuracy: 0.82\n",
      "Opt: adam, LR: 0.1, Layers: 1, Units: 64, Batch Size: 32, Mean CV Accuracy: 0.81\n",
      "Opt: adam, LR: 0.1, Layers: 1, Units: 64, Batch Size: 64, Mean CV Accuracy: 0.82\n",
      "Opt: adam, LR: 0.1, Layers: 1, Units: 64, Batch Size: 128, Mean CV Accuracy: 0.82\n",
      "Opt: adam, LR: 0.1, Layers: 1, Units: 128, Batch Size: 32, Mean CV Accuracy: 0.79\n",
      "Opt: adam, LR: 0.1, Layers: 1, Units: 128, Batch Size: 64, Mean CV Accuracy: 0.82\n",
      "Opt: adam, LR: 0.1, Layers: 1, Units: 128, Batch Size: 128, Mean CV Accuracy: 0.82\n",
      "Opt: adam, LR: 0.1, Layers: 1, Units: 256, Batch Size: 32, Mean CV Accuracy: 0.80\n",
      "Opt: adam, LR: 0.1, Layers: 1, Units: 256, Batch Size: 64, Mean CV Accuracy: 0.80\n",
      "Opt: adam, LR: 0.1, Layers: 1, Units: 256, Batch Size: 128, Mean CV Accuracy: 0.81\n",
      "Opt: adam, LR: 0.1, Layers: 2, Units: 32, Batch Size: 32, Mean CV Accuracy: 0.79\n",
      "Opt: adam, LR: 0.1, Layers: 2, Units: 32, Batch Size: 64, Mean CV Accuracy: 0.80\n",
      "Opt: adam, LR: 0.1, Layers: 2, Units: 32, Batch Size: 128, Mean CV Accuracy: 0.81\n",
      "Opt: adam, LR: 0.1, Layers: 2, Units: 64, Batch Size: 32, Mean CV Accuracy: 0.78\n",
      "Opt: adam, LR: 0.1, Layers: 2, Units: 64, Batch Size: 64, Mean CV Accuracy: 0.81\n",
      "Opt: adam, LR: 0.1, Layers: 2, Units: 64, Batch Size: 128, Mean CV Accuracy: 0.80\n",
      "Opt: adam, LR: 0.1, Layers: 2, Units: 128, Batch Size: 32, Mean CV Accuracy: 0.78\n",
      "Opt: adam, LR: 0.1, Layers: 2, Units: 128, Batch Size: 64, Mean CV Accuracy: 0.78\n",
      "Opt: adam, LR: 0.1, Layers: 2, Units: 128, Batch Size: 128, Mean CV Accuracy: 0.78\n",
      "Opt: adam, LR: 0.1, Layers: 2, Units: 256, Batch Size: 32, Mean CV Accuracy: 0.78\n",
      "Opt: adam, LR: 0.1, Layers: 2, Units: 256, Batch Size: 64, Mean CV Accuracy: 0.78\n",
      "Opt: adam, LR: 0.1, Layers: 2, Units: 256, Batch Size: 128, Mean CV Accuracy: 0.78\n",
      "Opt: adam, LR: 0.1, Layers: 3, Units: 32, Batch Size: 32, Mean CV Accuracy: 0.78\n",
      "Opt: adam, LR: 0.1, Layers: 3, Units: 32, Batch Size: 64, Mean CV Accuracy: 0.79\n",
      "Opt: adam, LR: 0.1, Layers: 3, Units: 32, Batch Size: 128, Mean CV Accuracy: 0.79\n",
      "Opt: adam, LR: 0.1, Layers: 3, Units: 64, Batch Size: 32, Mean CV Accuracy: 0.78\n",
      "Opt: adam, LR: 0.1, Layers: 3, Units: 64, Batch Size: 64, Mean CV Accuracy: 0.78\n",
      "Opt: adam, LR: 0.1, Layers: 3, Units: 64, Batch Size: 128, Mean CV Accuracy: 0.78\n",
      "Opt: adam, LR: 0.1, Layers: 3, Units: 128, Batch Size: 32, Mean CV Accuracy: 0.78\n",
      "Opt: adam, LR: 0.1, Layers: 3, Units: 128, Batch Size: 64, Mean CV Accuracy: 0.78\n",
      "Opt: adam, LR: 0.1, Layers: 3, Units: 128, Batch Size: 128, Mean CV Accuracy: 0.80\n",
      "Opt: adam, LR: 0.1, Layers: 3, Units: 256, Batch Size: 32, Mean CV Accuracy: 0.78\n",
      "Opt: adam, LR: 0.1, Layers: 3, Units: 256, Batch Size: 64, Mean CV Accuracy: 0.78\n",
      "Opt: adam, LR: 0.1, Layers: 3, Units: 256, Batch Size: 128, Mean CV Accuracy: 0.78\n",
      "Opt: adam, LR: 0.1, Layers: 4, Units: 32, Batch Size: 32, Mean CV Accuracy: 0.78\n",
      "Opt: adam, LR: 0.1, Layers: 4, Units: 32, Batch Size: 64, Mean CV Accuracy: 0.78\n",
      "Opt: adam, LR: 0.1, Layers: 4, Units: 32, Batch Size: 128, Mean CV Accuracy: 0.78\n",
      "Opt: adam, LR: 0.1, Layers: 4, Units: 64, Batch Size: 32, Mean CV Accuracy: 0.78\n",
      "Opt: adam, LR: 0.1, Layers: 4, Units: 64, Batch Size: 64, Mean CV Accuracy: 0.78\n",
      "Opt: adam, LR: 0.1, Layers: 4, Units: 64, Batch Size: 128, Mean CV Accuracy: 0.78\n",
      "Opt: adam, LR: 0.1, Layers: 4, Units: 128, Batch Size: 32, Mean CV Accuracy: 0.78\n",
      "Opt: adam, LR: 0.1, Layers: 4, Units: 128, Batch Size: 64, Mean CV Accuracy: 0.78\n",
      "Opt: adam, LR: 0.1, Layers: 4, Units: 128, Batch Size: 128, Mean CV Accuracy: 0.78\n",
      "Opt: adam, LR: 0.1, Layers: 4, Units: 256, Batch Size: 32, Mean CV Accuracy: 0.78\n",
      "Opt: adam, LR: 0.1, Layers: 4, Units: 256, Batch Size: 64, Mean CV Accuracy: 0.78\n",
      "Opt: adam, LR: 0.1, Layers: 4, Units: 256, Batch Size: 128, Mean CV Accuracy: 0.78\n",
      "Opt: sgd, LR: 0.001, Layers: 1, Units: 32, Batch Size: 32, Mean CV Accuracy: 0.81\n",
      "Opt: sgd, LR: 0.001, Layers: 1, Units: 32, Batch Size: 64, Mean CV Accuracy: 0.81\n",
      "Opt: sgd, LR: 0.001, Layers: 1, Units: 32, Batch Size: 128, Mean CV Accuracy: 0.80\n",
      "Opt: sgd, LR: 0.001, Layers: 1, Units: 64, Batch Size: 32, Mean CV Accuracy: 0.81\n",
      "Opt: sgd, LR: 0.001, Layers: 1, Units: 64, Batch Size: 64, Mean CV Accuracy: 0.81\n",
      "Opt: sgd, LR: 0.001, Layers: 1, Units: 64, Batch Size: 128, Mean CV Accuracy: 0.80\n",
      "Opt: sgd, LR: 0.001, Layers: 1, Units: 128, Batch Size: 32, Mean CV Accuracy: 0.81\n",
      "Opt: sgd, LR: 0.001, Layers: 1, Units: 128, Batch Size: 64, Mean CV Accuracy: 0.81\n",
      "Opt: sgd, LR: 0.001, Layers: 1, Units: 128, Batch Size: 128, Mean CV Accuracy: 0.80\n",
      "Opt: sgd, LR: 0.001, Layers: 1, Units: 256, Batch Size: 32, Mean CV Accuracy: 0.81\n",
      "Opt: sgd, LR: 0.001, Layers: 1, Units: 256, Batch Size: 64, Mean CV Accuracy: 0.81\n",
      "Opt: sgd, LR: 0.001, Layers: 1, Units: 256, Batch Size: 128, Mean CV Accuracy: 0.81\n",
      "Opt: sgd, LR: 0.001, Layers: 2, Units: 32, Batch Size: 32, Mean CV Accuracy: 0.81\n",
      "Opt: sgd, LR: 0.001, Layers: 2, Units: 32, Batch Size: 64, Mean CV Accuracy: 0.81\n",
      "Opt: sgd, LR: 0.001, Layers: 2, Units: 32, Batch Size: 128, Mean CV Accuracy: 0.80\n",
      "Opt: sgd, LR: 0.001, Layers: 2, Units: 64, Batch Size: 32, Mean CV Accuracy: 0.81\n",
      "Opt: sgd, LR: 0.001, Layers: 2, Units: 64, Batch Size: 64, Mean CV Accuracy: 0.81\n",
      "Opt: sgd, LR: 0.001, Layers: 2, Units: 64, Batch Size: 128, Mean CV Accuracy: 0.80\n",
      "Opt: sgd, LR: 0.001, Layers: 2, Units: 128, Batch Size: 32, Mean CV Accuracy: 0.81\n",
      "Opt: sgd, LR: 0.001, Layers: 2, Units: 128, Batch Size: 64, Mean CV Accuracy: 0.81\n",
      "Opt: sgd, LR: 0.001, Layers: 2, Units: 128, Batch Size: 128, Mean CV Accuracy: 0.80\n",
      "Opt: sgd, LR: 0.001, Layers: 2, Units: 256, Batch Size: 32, Mean CV Accuracy: 0.81\n",
      "Opt: sgd, LR: 0.001, Layers: 2, Units: 256, Batch Size: 64, Mean CV Accuracy: 0.81\n",
      "Opt: sgd, LR: 0.001, Layers: 2, Units: 256, Batch Size: 128, Mean CV Accuracy: 0.81\n",
      "Opt: sgd, LR: 0.001, Layers: 3, Units: 32, Batch Size: 32, Mean CV Accuracy: 0.81\n",
      "Opt: sgd, LR: 0.001, Layers: 3, Units: 32, Batch Size: 64, Mean CV Accuracy: 0.81\n",
      "Opt: sgd, LR: 0.001, Layers: 3, Units: 32, Batch Size: 128, Mean CV Accuracy: 0.79\n",
      "Opt: sgd, LR: 0.001, Layers: 3, Units: 64, Batch Size: 32, Mean CV Accuracy: 0.81\n",
      "Opt: sgd, LR: 0.001, Layers: 3, Units: 64, Batch Size: 64, Mean CV Accuracy: 0.81\n",
      "Opt: sgd, LR: 0.001, Layers: 3, Units: 64, Batch Size: 128, Mean CV Accuracy: 0.80\n",
      "Opt: sgd, LR: 0.001, Layers: 3, Units: 128, Batch Size: 32, Mean CV Accuracy: 0.81\n",
      "Opt: sgd, LR: 0.001, Layers: 3, Units: 128, Batch Size: 64, Mean CV Accuracy: 0.81\n",
      "Opt: sgd, LR: 0.001, Layers: 3, Units: 128, Batch Size: 128, Mean CV Accuracy: 0.80\n",
      "Opt: sgd, LR: 0.001, Layers: 3, Units: 256, Batch Size: 32, Mean CV Accuracy: 0.81\n",
      "Opt: sgd, LR: 0.001, Layers: 3, Units: 256, Batch Size: 64, Mean CV Accuracy: 0.81\n",
      "Opt: sgd, LR: 0.001, Layers: 3, Units: 256, Batch Size: 128, Mean CV Accuracy: 0.80\n",
      "Opt: sgd, LR: 0.001, Layers: 4, Units: 32, Batch Size: 32, Mean CV Accuracy: 0.81\n",
      "Opt: sgd, LR: 0.001, Layers: 4, Units: 32, Batch Size: 64, Mean CV Accuracy: 0.80\n",
      "Opt: sgd, LR: 0.001, Layers: 4, Units: 32, Batch Size: 128, Mean CV Accuracy: 0.78\n",
      "Opt: sgd, LR: 0.001, Layers: 4, Units: 64, Batch Size: 32, Mean CV Accuracy: 0.81\n",
      "Opt: sgd, LR: 0.001, Layers: 4, Units: 64, Batch Size: 64, Mean CV Accuracy: 0.81\n",
      "Opt: sgd, LR: 0.001, Layers: 4, Units: 64, Batch Size: 128, Mean CV Accuracy: 0.80\n",
      "Opt: sgd, LR: 0.001, Layers: 4, Units: 128, Batch Size: 32, Mean CV Accuracy: 0.82\n",
      "Opt: sgd, LR: 0.001, Layers: 4, Units: 128, Batch Size: 64, Mean CV Accuracy: 0.81\n",
      "Opt: sgd, LR: 0.001, Layers: 4, Units: 128, Batch Size: 128, Mean CV Accuracy: 0.80\n",
      "Opt: sgd, LR: 0.001, Layers: 4, Units: 256, Batch Size: 32, Mean CV Accuracy: 0.82\n",
      "Opt: sgd, LR: 0.001, Layers: 4, Units: 256, Batch Size: 64, Mean CV Accuracy: 0.81\n",
      "Opt: sgd, LR: 0.001, Layers: 4, Units: 256, Batch Size: 128, Mean CV Accuracy: 0.80\n",
      "Opt: sgd, LR: 0.01, Layers: 1, Units: 32, Batch Size: 32, Mean CV Accuracy: 0.82\n",
      "Opt: sgd, LR: 0.01, Layers: 1, Units: 32, Batch Size: 64, Mean CV Accuracy: 0.82\n",
      "Opt: sgd, LR: 0.01, Layers: 1, Units: 32, Batch Size: 128, Mean CV Accuracy: 0.82\n",
      "Opt: sgd, LR: 0.01, Layers: 1, Units: 64, Batch Size: 32, Mean CV Accuracy: 0.82\n",
      "Opt: sgd, LR: 0.01, Layers: 1, Units: 64, Batch Size: 64, Mean CV Accuracy: 0.82\n",
      "Opt: sgd, LR: 0.01, Layers: 1, Units: 64, Batch Size: 128, Mean CV Accuracy: 0.81\n",
      "Opt: sgd, LR: 0.01, Layers: 1, Units: 128, Batch Size: 32, Mean CV Accuracy: 0.82\n",
      "Opt: sgd, LR: 0.01, Layers: 1, Units: 128, Batch Size: 64, Mean CV Accuracy: 0.82\n",
      "Opt: sgd, LR: 0.01, Layers: 1, Units: 128, Batch Size: 128, Mean CV Accuracy: 0.81\n",
      "Opt: sgd, LR: 0.01, Layers: 1, Units: 256, Batch Size: 32, Mean CV Accuracy: 0.82\n",
      "Opt: sgd, LR: 0.01, Layers: 1, Units: 256, Batch Size: 64, Mean CV Accuracy: 0.82\n",
      "Opt: sgd, LR: 0.01, Layers: 1, Units: 256, Batch Size: 128, Mean CV Accuracy: 0.82\n",
      "Opt: sgd, LR: 0.01, Layers: 2, Units: 32, Batch Size: 32, Mean CV Accuracy: 0.82\n",
      "Opt: sgd, LR: 0.01, Layers: 2, Units: 32, Batch Size: 64, Mean CV Accuracy: 0.82\n",
      "Opt: sgd, LR: 0.01, Layers: 2, Units: 32, Batch Size: 128, Mean CV Accuracy: 0.82\n",
      "Opt: sgd, LR: 0.01, Layers: 2, Units: 64, Batch Size: 32, Mean CV Accuracy: 0.82\n",
      "Opt: sgd, LR: 0.01, Layers: 2, Units: 64, Batch Size: 64, Mean CV Accuracy: 0.82\n",
      "Opt: sgd, LR: 0.01, Layers: 2, Units: 64, Batch Size: 128, Mean CV Accuracy: 0.82\n",
      "Opt: sgd, LR: 0.01, Layers: 2, Units: 128, Batch Size: 32, Mean CV Accuracy: 0.82\n",
      "Opt: sgd, LR: 0.01, Layers: 2, Units: 128, Batch Size: 64, Mean CV Accuracy: 0.82\n",
      "Opt: sgd, LR: 0.01, Layers: 2, Units: 128, Batch Size: 128, Mean CV Accuracy: 0.82\n",
      "Opt: sgd, LR: 0.01, Layers: 2, Units: 256, Batch Size: 32, Mean CV Accuracy: 0.82\n",
      "Opt: sgd, LR: 0.01, Layers: 2, Units: 256, Batch Size: 64, Mean CV Accuracy: 0.82\n",
      "Opt: sgd, LR: 0.01, Layers: 2, Units: 256, Batch Size: 128, Mean CV Accuracy: 0.82\n",
      "Opt: sgd, LR: 0.01, Layers: 3, Units: 32, Batch Size: 32, Mean CV Accuracy: 0.82\n",
      "Opt: sgd, LR: 0.01, Layers: 3, Units: 32, Batch Size: 64, Mean CV Accuracy: 0.82\n",
      "Opt: sgd, LR: 0.01, Layers: 3, Units: 32, Batch Size: 128, Mean CV Accuracy: 0.82\n",
      "Opt: sgd, LR: 0.01, Layers: 3, Units: 64, Batch Size: 32, Mean CV Accuracy: 0.82\n",
      "Opt: sgd, LR: 0.01, Layers: 3, Units: 64, Batch Size: 64, Mean CV Accuracy: 0.82\n",
      "Opt: sgd, LR: 0.01, Layers: 3, Units: 64, Batch Size: 128, Mean CV Accuracy: 0.82\n",
      "Opt: sgd, LR: 0.01, Layers: 3, Units: 128, Batch Size: 32, Mean CV Accuracy: 0.81\n",
      "Opt: sgd, LR: 0.01, Layers: 3, Units: 128, Batch Size: 64, Mean CV Accuracy: 0.82\n",
      "Opt: sgd, LR: 0.01, Layers: 3, Units: 128, Batch Size: 128, Mean CV Accuracy: 0.82\n",
      "Opt: sgd, LR: 0.01, Layers: 3, Units: 256, Batch Size: 32, Mean CV Accuracy: 0.82\n",
      "Opt: sgd, LR: 0.01, Layers: 3, Units: 256, Batch Size: 64, Mean CV Accuracy: 0.82\n",
      "Opt: sgd, LR: 0.01, Layers: 3, Units: 256, Batch Size: 128, Mean CV Accuracy: 0.82\n",
      "Opt: sgd, LR: 0.01, Layers: 4, Units: 32, Batch Size: 32, Mean CV Accuracy: 0.82\n",
      "Opt: sgd, LR: 0.01, Layers: 4, Units: 32, Batch Size: 64, Mean CV Accuracy: 0.82\n",
      "Opt: sgd, LR: 0.01, Layers: 4, Units: 32, Batch Size: 128, Mean CV Accuracy: 0.82\n",
      "Opt: sgd, LR: 0.01, Layers: 4, Units: 64, Batch Size: 32, Mean CV Accuracy: 0.82\n",
      "Opt: sgd, LR: 0.01, Layers: 4, Units: 64, Batch Size: 64, Mean CV Accuracy: 0.82\n",
      "Opt: sgd, LR: 0.01, Layers: 4, Units: 64, Batch Size: 128, Mean CV Accuracy: 0.82\n",
      "Opt: sgd, LR: 0.01, Layers: 4, Units: 128, Batch Size: 32, Mean CV Accuracy: 0.81\n",
      "Opt: sgd, LR: 0.01, Layers: 4, Units: 128, Batch Size: 64, Mean CV Accuracy: 0.82\n",
      "Opt: sgd, LR: 0.01, Layers: 4, Units: 128, Batch Size: 128, Mean CV Accuracy: 0.82\n",
      "Opt: sgd, LR: 0.01, Layers: 4, Units: 256, Batch Size: 32, Mean CV Accuracy: 0.81\n",
      "Opt: sgd, LR: 0.01, Layers: 4, Units: 256, Batch Size: 64, Mean CV Accuracy: 0.82\n",
      "Opt: sgd, LR: 0.01, Layers: 4, Units: 256, Batch Size: 128, Mean CV Accuracy: 0.82\n",
      "Opt: sgd, LR: 0.1, Layers: 1, Units: 32, Batch Size: 32, Mean CV Accuracy: 0.82\n",
      "Opt: sgd, LR: 0.1, Layers: 1, Units: 32, Batch Size: 64, Mean CV Accuracy: 0.82\n",
      "Opt: sgd, LR: 0.1, Layers: 1, Units: 32, Batch Size: 128, Mean CV Accuracy: 0.82\n",
      "Opt: sgd, LR: 0.1, Layers: 1, Units: 64, Batch Size: 32, Mean CV Accuracy: 0.81\n",
      "Opt: sgd, LR: 0.1, Layers: 1, Units: 64, Batch Size: 64, Mean CV Accuracy: 0.81\n",
      "Opt: sgd, LR: 0.1, Layers: 1, Units: 64, Batch Size: 128, Mean CV Accuracy: 0.82\n",
      "Opt: sgd, LR: 0.1, Layers: 1, Units: 128, Batch Size: 32, Mean CV Accuracy: 0.80\n",
      "Opt: sgd, LR: 0.1, Layers: 1, Units: 128, Batch Size: 64, Mean CV Accuracy: 0.81\n",
      "Opt: sgd, LR: 0.1, Layers: 1, Units: 128, Batch Size: 128, Mean CV Accuracy: 0.81\n",
      "Opt: sgd, LR: 0.1, Layers: 1, Units: 256, Batch Size: 32, Mean CV Accuracy: 0.81\n",
      "Opt: sgd, LR: 0.1, Layers: 1, Units: 256, Batch Size: 64, Mean CV Accuracy: 0.81\n",
      "Opt: sgd, LR: 0.1, Layers: 1, Units: 256, Batch Size: 128, Mean CV Accuracy: 0.81\n",
      "Opt: sgd, LR: 0.1, Layers: 2, Units: 32, Batch Size: 32, Mean CV Accuracy: 0.81\n",
      "Opt: sgd, LR: 0.1, Layers: 2, Units: 32, Batch Size: 64, Mean CV Accuracy: 0.81\n",
      "Opt: sgd, LR: 0.1, Layers: 2, Units: 32, Batch Size: 128, Mean CV Accuracy: 0.82\n",
      "Opt: sgd, LR: 0.1, Layers: 2, Units: 64, Batch Size: 32, Mean CV Accuracy: 0.80\n",
      "Opt: sgd, LR: 0.1, Layers: 2, Units: 64, Batch Size: 64, Mean CV Accuracy: 0.81\n",
      "Opt: sgd, LR: 0.1, Layers: 2, Units: 64, Batch Size: 128, Mean CV Accuracy: 0.81\n",
      "Opt: sgd, LR: 0.1, Layers: 2, Units: 128, Batch Size: 32, Mean CV Accuracy: 0.80\n",
      "Opt: sgd, LR: 0.1, Layers: 2, Units: 128, Batch Size: 64, Mean CV Accuracy: 0.80\n",
      "Opt: sgd, LR: 0.1, Layers: 2, Units: 128, Batch Size: 128, Mean CV Accuracy: 0.81\n",
      "Opt: sgd, LR: 0.1, Layers: 2, Units: 256, Batch Size: 32, Mean CV Accuracy: 0.79\n",
      "Opt: sgd, LR: 0.1, Layers: 2, Units: 256, Batch Size: 64, Mean CV Accuracy: 0.79\n",
      "Opt: sgd, LR: 0.1, Layers: 2, Units: 256, Batch Size: 128, Mean CV Accuracy: 0.81\n",
      "Opt: sgd, LR: 0.1, Layers: 3, Units: 32, Batch Size: 32, Mean CV Accuracy: 0.81\n",
      "Opt: sgd, LR: 0.1, Layers: 3, Units: 32, Batch Size: 64, Mean CV Accuracy: 0.81\n",
      "Opt: sgd, LR: 0.1, Layers: 3, Units: 32, Batch Size: 128, Mean CV Accuracy: 0.81\n",
      "Opt: sgd, LR: 0.1, Layers: 3, Units: 64, Batch Size: 32, Mean CV Accuracy: 0.80\n",
      "Opt: sgd, LR: 0.1, Layers: 3, Units: 64, Batch Size: 64, Mean CV Accuracy: 0.81\n",
      "Opt: sgd, LR: 0.1, Layers: 3, Units: 64, Batch Size: 128, Mean CV Accuracy: 0.78\n",
      "Opt: sgd, LR: 0.1, Layers: 3, Units: 128, Batch Size: 32, Mean CV Accuracy: 0.79\n",
      "Opt: sgd, LR: 0.1, Layers: 3, Units: 128, Batch Size: 64, Mean CV Accuracy: 0.81\n",
      "Opt: sgd, LR: 0.1, Layers: 3, Units: 128, Batch Size: 128, Mean CV Accuracy: 0.81\n",
      "Opt: sgd, LR: 0.1, Layers: 3, Units: 256, Batch Size: 32, Mean CV Accuracy: 0.78\n",
      "Opt: sgd, LR: 0.1, Layers: 3, Units: 256, Batch Size: 64, Mean CV Accuracy: 0.79\n",
      "Opt: sgd, LR: 0.1, Layers: 3, Units: 256, Batch Size: 128, Mean CV Accuracy: 0.80\n",
      "Opt: sgd, LR: 0.1, Layers: 4, Units: 32, Batch Size: 32, Mean CV Accuracy: 0.81\n",
      "Opt: sgd, LR: 0.1, Layers: 4, Units: 32, Batch Size: 64, Mean CV Accuracy: 0.81\n",
      "Opt: sgd, LR: 0.1, Layers: 4, Units: 32, Batch Size: 128, Mean CV Accuracy: 0.81\n",
      "Opt: sgd, LR: 0.1, Layers: 4, Units: 64, Batch Size: 32, Mean CV Accuracy: 0.80\n",
      "Opt: sgd, LR: 0.1, Layers: 4, Units: 64, Batch Size: 64, Mean CV Accuracy: 0.79\n",
      "Opt: sgd, LR: 0.1, Layers: 4, Units: 64, Batch Size: 128, Mean CV Accuracy: 0.79\n",
      "Opt: sgd, LR: 0.1, Layers: 4, Units: 128, Batch Size: 32, Mean CV Accuracy: 0.79\n",
      "Opt: sgd, LR: 0.1, Layers: 4, Units: 128, Batch Size: 64, Mean CV Accuracy: 0.79\n",
      "Opt: sgd, LR: 0.1, Layers: 4, Units: 128, Batch Size: 128, Mean CV Accuracy: 0.81\n",
      "Opt: sgd, LR: 0.1, Layers: 4, Units: 256, Batch Size: 32, Mean CV Accuracy: 0.78\n",
      "Opt: sgd, LR: 0.1, Layers: 4, Units: 256, Batch Size: 64, Mean CV Accuracy: 0.78\n",
      "Opt: sgd, LR: 0.1, Layers: 4, Units: 256, Batch Size: 128, Mean CV Accuracy: 0.78\n",
      "Best Score: 0.82\n",
      "Best Parameters: {'optimizer': 'sgd', 'learning_rate': 0.01, 'n_layers': 3, 'n_units': 32, 'batch_size': 32}\n"
     ]
    }
   ],
   "source": [
    "import tensorflow as tf\n",
    "from sklearn.model_selection import cross_val_score\n",
    "from sklearn.model_selection import StratifiedKFold\n",
    "import numpy as np\n",
    "\n",
    "# define neural net model\n",
    "def build_model(n_layers, n_units, optimizer, learning_rate):\n",
    "    model = tf.keras.Sequential()\n",
    "    model.add(tf.keras.layers.Dense(n_units, activation='relu', input_shape=(23,)))  # input layer\n",
    "    for _ in range(1, n_layers):\n",
    "        model.add(tf.keras.layers.Dense(n_units, activation='relu'))  # hidden layer\n",
    "    model.add(tf.keras.layers.Dense(1, activation='sigmoid'))  # output layer\n",
    "\n",
    "    # optimizer\n",
    "    if optimizer == 'adam':\n",
    "        opt = tf.keras.optimizers.Adam(learning_rate=learning_rate)\n",
    "    else:\n",
    "        opt = tf.keras.optimizers.SGD(learning_rate=learning_rate)\n",
    "\n",
    "    model.compile(optimizer=opt, loss='binary_crossentropy', metrics=['accuracy'])\n",
    "    return model\n",
    "\n",
    "# parameters\n",
    "optimizer_options = ['adam', 'sgd']\n",
    "learning_rate_options = [0.001, 0.01, 0.1]\n",
    "layer_options = [1, 2, 3, 4]\n",
    "unit_options = [32, 64, 128, 256]\n",
    "batch_size_options = [32, 64, 128]\n",
    "kfold = StratifiedKFold(n_splits=3, shuffle=True, random_state=42)\n",
    "\n",
    "best_score = 0\n",
    "best_params = {}\n",
    "\n",
    "# grid search\n",
    "for optimizer in optimizer_options:\n",
    "    for learning_rate in learning_rate_options:\n",
    "        for n_layers in layer_options:\n",
    "            for n_units in unit_options:\n",
    "                for batch_size in batch_size_options:\n",
    "                    cv_scores = []\n",
    "                    for train, test in kfold.split(X_train, Y_train):\n",
    "                        # change data set typr\n",
    "                        X_train_fold = X_train[train]\n",
    "                        Y_train_fold = Y_train.iloc[train].values\n",
    "                        X_test_fold = X_train[test]\n",
    "                        Y_test_fold = Y_train.iloc[test].values\n",
    "\n",
    "                        model = build_model(n_layers, n_units, optimizer, learning_rate)\n",
    "                        model.fit(X_train_fold, Y_train_fold, epochs=50, batch_size=batch_size, verbose=0)\n",
    "                        scores = model.evaluate(X_test_fold, Y_test_fold, verbose=0)\n",
    "                        cv_scores.append(scores[1])  # suppose scores[1] is accuracy\n",
    "                    score = np.mean(cv_scores)\n",
    "                    if score > best_score:\n",
    "                        best_score = score\n",
    "                        best_params = {\n",
    "                            'optimizer': optimizer,\n",
    "                            'learning_rate': learning_rate,\n",
    "                            'n_layers': n_layers,\n",
    "                            'n_units': n_units,\n",
    "                            'batch_size': batch_size\n",
    "                        }\n",
    "                    print(f\"Opt: {optimizer}, LR: {learning_rate}, Layers: {n_layers}, Units: {n_units}, Batch Size: {batch_size}, Mean CV Accuracy: {score:.2f}\")\n",
    "\n",
    "print(f\"Best Score: {best_score:.2f}\")\n",
    "print(\"Best Parameters:\", best_params)\n"
   ]
  },
  {
   "cell_type": "code",
   "execution_count": 29,
   "metadata": {},
   "outputs": [
    {
     "name": "stdout",
     "output_type": "stream",
     "text": [
      "{'optimizer': 'sgd', 'learning_rate': 0.01, 'n_layers': 4, 'n_units': 32, 'batch_size': 64}\n"
     ]
    }
   ],
   "source": [
    "#best_params1 =  {'optimizer': 'sgd', 'learning_rate': 0.01, 'n_layers': 4, 'n_units': 32, 'batch_size': 64}\n",
    "#print(best_params1)"
   ]
  },
  {
   "cell_type": "code",
   "execution_count": 17,
   "metadata": {
    "id": "gTsVzlpMWB_7"
   },
   "outputs": [
    {
     "name": "stdout",
     "output_type": "stream",
     "text": [
      "Epoch 1/50\n",
      "525/525 [==============================] - 1s 2ms/step - loss: 0.5224 - accuracy: 0.7764 - val_loss: 0.4917 - val_accuracy: 0.7838\n",
      "Epoch 2/50\n",
      "525/525 [==============================] - 1s 2ms/step - loss: 0.4728 - accuracy: 0.8032 - val_loss: 0.4698 - val_accuracy: 0.8040\n",
      "Epoch 3/50\n",
      "525/525 [==============================] - 1s 2ms/step - loss: 0.4562 - accuracy: 0.8130 - val_loss: 0.4619 - val_accuracy: 0.8050\n",
      "Epoch 4/50\n",
      "525/525 [==============================] - 1s 1ms/step - loss: 0.4494 - accuracy: 0.8165 - val_loss: 0.4591 - val_accuracy: 0.8093\n",
      "Epoch 5/50\n",
      "525/525 [==============================] - 1s 2ms/step - loss: 0.4454 - accuracy: 0.8177 - val_loss: 0.4566 - val_accuracy: 0.8119\n",
      "Epoch 6/50\n",
      "525/525 [==============================] - 1s 2ms/step - loss: 0.4426 - accuracy: 0.8200 - val_loss: 0.4545 - val_accuracy: 0.8121\n",
      "Epoch 7/50\n",
      "525/525 [==============================] - 1s 2ms/step - loss: 0.4402 - accuracy: 0.8199 - val_loss: 0.4537 - val_accuracy: 0.8121\n",
      "Epoch 8/50\n",
      "525/525 [==============================] - 1s 2ms/step - loss: 0.4384 - accuracy: 0.8201 - val_loss: 0.4528 - val_accuracy: 0.8143\n",
      "Epoch 9/50\n",
      "525/525 [==============================] - 1s 1ms/step - loss: 0.4369 - accuracy: 0.8211 - val_loss: 0.4509 - val_accuracy: 0.8155\n",
      "Epoch 10/50\n",
      "525/525 [==============================] - 1s 2ms/step - loss: 0.4355 - accuracy: 0.8208 - val_loss: 0.4504 - val_accuracy: 0.8126\n",
      "Epoch 11/50\n",
      "525/525 [==============================] - 1s 2ms/step - loss: 0.4341 - accuracy: 0.8213 - val_loss: 0.4513 - val_accuracy: 0.8117\n",
      "Epoch 12/50\n",
      "525/525 [==============================] - 1s 2ms/step - loss: 0.4330 - accuracy: 0.8227 - val_loss: 0.4478 - val_accuracy: 0.8162\n",
      "Epoch 13/50\n",
      "525/525 [==============================] - 1s 2ms/step - loss: 0.4321 - accuracy: 0.8221 - val_loss: 0.4479 - val_accuracy: 0.8140\n",
      "Epoch 14/50\n",
      "525/525 [==============================] - 1s 2ms/step - loss: 0.4310 - accuracy: 0.8223 - val_loss: 0.4475 - val_accuracy: 0.8138\n",
      "Epoch 15/50\n",
      "525/525 [==============================] - 1s 2ms/step - loss: 0.4301 - accuracy: 0.8227 - val_loss: 0.4471 - val_accuracy: 0.8167\n",
      "Epoch 16/50\n",
      "525/525 [==============================] - 1s 2ms/step - loss: 0.4294 - accuracy: 0.8217 - val_loss: 0.4474 - val_accuracy: 0.8140\n",
      "Epoch 17/50\n",
      "525/525 [==============================] - 1s 1ms/step - loss: 0.4283 - accuracy: 0.8217 - val_loss: 0.4493 - val_accuracy: 0.8126\n",
      "Epoch 18/50\n",
      "525/525 [==============================] - 1s 2ms/step - loss: 0.4277 - accuracy: 0.8223 - val_loss: 0.4467 - val_accuracy: 0.8124\n",
      "Epoch 19/50\n",
      "525/525 [==============================] - 1s 2ms/step - loss: 0.4269 - accuracy: 0.8224 - val_loss: 0.4463 - val_accuracy: 0.8148\n",
      "Epoch 20/50\n",
      "525/525 [==============================] - 1s 2ms/step - loss: 0.4262 - accuracy: 0.8228 - val_loss: 0.4471 - val_accuracy: 0.8150\n",
      "Epoch 21/50\n",
      "525/525 [==============================] - 1s 1ms/step - loss: 0.4256 - accuracy: 0.8233 - val_loss: 0.4463 - val_accuracy: 0.8110\n",
      "Epoch 22/50\n",
      "525/525 [==============================] - 1s 2ms/step - loss: 0.4248 - accuracy: 0.8227 - val_loss: 0.4448 - val_accuracy: 0.8145\n",
      "Epoch 23/50\n",
      "525/525 [==============================] - 1s 1ms/step - loss: 0.4243 - accuracy: 0.8230 - val_loss: 0.4454 - val_accuracy: 0.8117\n",
      "Epoch 24/50\n",
      "525/525 [==============================] - 1s 2ms/step - loss: 0.4236 - accuracy: 0.8239 - val_loss: 0.4467 - val_accuracy: 0.8110\n",
      "Epoch 25/50\n",
      "525/525 [==============================] - 1s 1ms/step - loss: 0.4231 - accuracy: 0.8236 - val_loss: 0.4446 - val_accuracy: 0.8131\n",
      "Epoch 26/50\n",
      "525/525 [==============================] - 1s 2ms/step - loss: 0.4225 - accuracy: 0.8237 - val_loss: 0.4446 - val_accuracy: 0.8112\n",
      "Epoch 27/50\n",
      "525/525 [==============================] - 1s 2ms/step - loss: 0.4219 - accuracy: 0.8233 - val_loss: 0.4453 - val_accuracy: 0.8114\n",
      "Epoch 28/50\n",
      "525/525 [==============================] - 1s 1ms/step - loss: 0.4213 - accuracy: 0.8233 - val_loss: 0.4447 - val_accuracy: 0.8129\n",
      "Epoch 29/50\n",
      "525/525 [==============================] - 1s 1ms/step - loss: 0.4208 - accuracy: 0.8238 - val_loss: 0.4442 - val_accuracy: 0.8148\n",
      "Epoch 30/50\n",
      "525/525 [==============================] - 1s 1ms/step - loss: 0.4205 - accuracy: 0.8236 - val_loss: 0.4443 - val_accuracy: 0.8112\n",
      "Epoch 31/50\n",
      "525/525 [==============================] - 1s 2ms/step - loss: 0.4200 - accuracy: 0.8241 - val_loss: 0.4449 - val_accuracy: 0.8124\n",
      "Epoch 32/50\n",
      "525/525 [==============================] - 1s 2ms/step - loss: 0.4192 - accuracy: 0.8250 - val_loss: 0.4443 - val_accuracy: 0.8126\n",
      "Epoch 33/50\n",
      "525/525 [==============================] - 1s 2ms/step - loss: 0.4190 - accuracy: 0.8237 - val_loss: 0.4437 - val_accuracy: 0.8140\n",
      "Epoch 34/50\n",
      "525/525 [==============================] - 1s 2ms/step - loss: 0.4186 - accuracy: 0.8243 - val_loss: 0.4435 - val_accuracy: 0.8124\n",
      "Epoch 35/50\n",
      "525/525 [==============================] - 1s 2ms/step - loss: 0.4181 - accuracy: 0.8242 - val_loss: 0.4445 - val_accuracy: 0.8114\n",
      "Epoch 36/50\n",
      "525/525 [==============================] - 1s 2ms/step - loss: 0.4177 - accuracy: 0.8242 - val_loss: 0.4446 - val_accuracy: 0.8126\n",
      "Epoch 37/50\n",
      "525/525 [==============================] - 1s 2ms/step - loss: 0.4174 - accuracy: 0.8241 - val_loss: 0.4431 - val_accuracy: 0.8129\n",
      "Epoch 38/50\n",
      "525/525 [==============================] - 1s 2ms/step - loss: 0.4171 - accuracy: 0.8246 - val_loss: 0.4443 - val_accuracy: 0.8129\n",
      "Epoch 39/50\n",
      "525/525 [==============================] - 1s 2ms/step - loss: 0.4168 - accuracy: 0.8252 - val_loss: 0.4443 - val_accuracy: 0.8105\n",
      "Epoch 40/50\n",
      "525/525 [==============================] - 1s 2ms/step - loss: 0.4160 - accuracy: 0.8245 - val_loss: 0.4442 - val_accuracy: 0.8126\n",
      "Epoch 41/50\n",
      "525/525 [==============================] - 1s 2ms/step - loss: 0.4160 - accuracy: 0.8245 - val_loss: 0.4444 - val_accuracy: 0.8119\n",
      "Epoch 42/50\n",
      "525/525 [==============================] - 1s 2ms/step - loss: 0.4158 - accuracy: 0.8254 - val_loss: 0.4431 - val_accuracy: 0.8119\n",
      "Epoch 43/50\n",
      "525/525 [==============================] - 1s 2ms/step - loss: 0.4153 - accuracy: 0.8254 - val_loss: 0.4432 - val_accuracy: 0.8095\n",
      "Epoch 44/50\n",
      "525/525 [==============================] - 1s 1ms/step - loss: 0.4148 - accuracy: 0.8258 - val_loss: 0.4433 - val_accuracy: 0.8093\n",
      "Epoch 45/50\n",
      "525/525 [==============================] - 1s 1ms/step - loss: 0.4142 - accuracy: 0.8255 - val_loss: 0.4470 - val_accuracy: 0.8124\n",
      "Epoch 46/50\n",
      "525/525 [==============================] - 1s 2ms/step - loss: 0.4142 - accuracy: 0.8258 - val_loss: 0.4442 - val_accuracy: 0.8138\n",
      "Epoch 47/50\n",
      "525/525 [==============================] - 1s 1ms/step - loss: 0.4140 - accuracy: 0.8252 - val_loss: 0.4438 - val_accuracy: 0.8124\n",
      "Epoch 48/50\n",
      "525/525 [==============================] - 1s 2ms/step - loss: 0.4133 - accuracy: 0.8257 - val_loss: 0.4442 - val_accuracy: 0.8107\n",
      "Epoch 49/50\n",
      "525/525 [==============================] - 1s 2ms/step - loss: 0.4134 - accuracy: 0.8258 - val_loss: 0.4438 - val_accuracy: 0.8114\n",
      "Epoch 50/50\n",
      "525/525 [==============================] - 1s 2ms/step - loss: 0.4131 - accuracy: 0.8258 - val_loss: 0.4436 - val_accuracy: 0.8093\n"
     ]
    }
   ],
   "source": [
    "# model with the best parameters\n",
    "best_model = build_model(best_params['n_layers'], best_params['n_units'], best_params['optimizer'], best_params['learning_rate'])\n",
    "\n",
    "# re-train model\n",
    "history = best_model.fit(X_train, Y_train, validation_split=0.2, epochs=50, batch_size=best_params['batch_size'])\n"
   ]
  },
  {
   "cell_type": "code",
   "execution_count": 18,
   "metadata": {
    "id": "9NRN55OAaIbZ"
   },
   "outputs": [
    {
     "data": {
      "image/png": "[encoded data removed]",
      "text/plain": [
       "<Figure size 432x288 with 1 Axes>"
      ]
     },
     "metadata": {
      "needs_background": "light"
     },
     "output_type": "display_data"
    },
    {
     "data": {
      "image/png": "[encoded data removed]",
      "text/plain": [
       "<Figure size 432x288 with 1 Axes>"
      ]
     },
     "metadata": {
      "needs_background": "light"
     },
     "output_type": "display_data"
    }
   ],
   "source": [
    "# plot the training loss and validation loss\n",
    "plt.plot(history.history['loss'], label='Training Loss')\n",
    "plt.plot(history.history['val_loss'], label='Validation Loss')\n",
    "plt.title('Training and Validation Loss')\n",
    "plt.xlabel('Epoch')\n",
    "plt.ylabel('Loss')\n",
    "plt.legend()\n",
    "plt.show()\n",
    "\n",
    "# plot the training accuracy and validation accuracy\n",
    "plt.plot(history.history['accuracy'], label='Training Accuracy')\n",
    "plt.plot(history.history['val_accuracy'], label='Validation Accuracy')\n",
    "plt.title('Training and Validation Accuracy')\n",
    "plt.xlabel('Epoch')\n",
    "plt.ylabel('Accuracy')\n",
    "plt.legend()\n",
    "plt.show()\n"
   ]
  },
  {
   "cell_type": "code",
   "execution_count": 19,
   "metadata": {
    "id": "FmfGY7RWaIeK"
   },
   "outputs": [
    {
     "name": "stdout",
     "output_type": "stream",
     "text": [
      "282/282 [==============================] - 1s 2ms/step\n"
     ]
    }
   ],
   "source": [
    "from sklearn.metrics import classification_report\n",
    "\n",
    "# generating predictions (probabilities)\n",
    "y_pred_prob = model.predict(X_test)\n",
    "\n",
    "# convert probabilities to labels\n",
    "Y_pred = [1 if prob > 0.5 else 0 for prob in y_pred_prob]"
   ]
  },
  {
   "cell_type": "code",
   "execution_count": 20,
   "metadata": {},
   "outputs": [
    {
     "data": {
      "image/png": "[encoded data removed]",
      "text/plain": [
       "<Figure size 432x288 with 2 Axes>"
      ]
     },
     "metadata": {
      "needs_background": "light"
     },
     "output_type": "display_data"
    }
   ],
   "source": [
    "# confusion matrix\n",
    "import matplotlib.pyplot as plt\n",
    "import seaborn as sns\n",
    "from sklearn.metrics import confusion_matrix\n",
    "\n",
    "# calculate the confusion matrix\n",
    "cm = confusion_matrix(Y_test, Y_pred)\n",
    "\n",
    "# plot the confusion matrix\n",
    "plt.figure(figsize=(6, 4))\n",
    "sns.heatmap(cm, annot=True,annot_kws={\"size\": 20}, fmt=\"d\", cmap=\"Blues\", xticklabels=['Not Default', 'Default'], yticklabels=['Not Default', 'Default'])\n",
    "plt.xlabel('Predicted labels')\n",
    "plt.ylabel('True labels')\n",
    "plt.title('Confusion Matrix')\n",
    "plt.show()"
   ]
  },
  {
   "cell_type": "code",
   "execution_count": 21,
   "metadata": {
    "id": "pNM4l_CeaIgg"
   },
   "outputs": [
    {
     "name": "stdout",
     "output_type": "stream",
     "text": [
      "              precision    recall  f1-score   support\n",
      "\n",
      " Not Default       0.86      0.80      0.83      7040\n",
      "     Default       0.42      0.53      0.47      1960\n",
      "\n",
      "    accuracy                           0.74      9000\n",
      "   macro avg       0.64      0.66      0.65      9000\n",
      "weighted avg       0.76      0.74      0.75      9000\n",
      "\n"
     ]
    }
   ],
   "source": [
    "print(classification_report(Y_test, Y_pred, target_names=['Not Default', 'Default']))"
   ]
  },
  {
   "cell_type": "code",
   "execution_count": null,
   "metadata": {},
   "outputs": [],
   "source": []
  },
  {
   "cell_type": "code",
   "execution_count": null,
   "metadata": {},
   "outputs": [],
   "source": []
  },
  {
   "cell_type": "code",
   "execution_count": null,
   "metadata": {},
   "outputs": [],
   "source": []
  },
  {
   "cell_type": "code",
   "execution_count": null,
   "metadata": {},
   "outputs": [],
   "source": []
  },
  {
   "cell_type": "code",
   "execution_count": null,
   "metadata": {},
   "outputs": [],
   "source": []
  },
  {
   "cell_type": "markdown",
   "metadata": {
    "id": "njs8N8nbKgFO"
   },
   "source": [
    "**Start cross validation(balanced data)**"
   ]
  },
  {
   "cell_type": "code",
   "execution_count": 19,
   "metadata": {},
   "outputs": [
    {
     "name": "stdout",
     "output_type": "stream",
     "text": [
      "Collecting imblearn\n",
      "  Downloading imblearn-0.0-py2.py3-none-any.whl (1.9 kB)\n",
      "Collecting imbalanced-learn (from imblearn)\n",
      "  Downloading imbalanced_learn-0.11.0-py3-none-any.whl (235 kB)\n",
      "     ------------------------------------- 235.6/235.6 kB 29.1 kB/s eta 0:00:00\n",
      "Requirement already satisfied: numpy>=1.17.3 in e:\\software\\lib\\site-packages (from imbalanced-learn->imblearn) (1.21.5)\n",
      "Requirement already satisfied: scipy>=1.5.0 in e:\\software\\lib\\site-packages (from imbalanced-learn->imblearn) (1.7.3)\n",
      "Requirement already satisfied: scikit-learn>=1.0.2 in e:\\software\\lib\\site-packages (from imbalanced-learn->imblearn) (1.0.2)\n",
      "Collecting joblib>=1.1.1 (from imbalanced-learn->imblearn)\n",
      "  Downloading joblib-1.3.2-py3-none-any.whl (302 kB)\n",
      "     ------------------------------------- 302.2/302.2 kB 34.9 kB/s eta 0:00:00\n",
      "Requirement already satisfied: threadpoolctl>=2.0.0 in e:\\software\\lib\\site-packages (from imbalanced-learn->imblearn) (2.2.0)\n",
      "Installing collected packages: joblib, imbalanced-learn, imblearn\n",
      "  Attempting uninstall: joblib\n",
      "    Found existing installation: joblib 1.1.0\n",
      "    Uninstalling joblib-1.1.0:\n",
      "      Successfully uninstalled joblib-1.1.0\n",
      "Successfully installed imbalanced-learn-0.11.0 imblearn-0.0 joblib-1.3.2\n",
      "Note: you may need to restart the kernel to use updated packages.\n"
     ]
    },
    {
     "name": "stderr",
     "output_type": "stream",
     "text": [
      "WARNING: Ignoring invalid distribution -illow (e:\\software\\lib\\site-packages)\n",
      "WARNING: Ignoring invalid distribution -illow (e:\\software\\lib\\site-packages)\n",
      "\n",
      "[notice] A new release of pip is available: 23.1.2 -> 23.3.1\n",
      "[notice] To update, run: python.exe -m pip install --upgrade pip\n"
     ]
    }
   ],
   "source": [
    "pip install imblearn"
   ]
  },
  {
   "cell_type": "code",
   "execution_count": 20,
   "metadata": {
    "id": "WUI2y4pLKfIG"
   },
   "outputs": [],
   "source": [
    "# balance the data, create two data type\n",
    "from imblearn.over_sampling import SMOTE\n",
    "\n",
    "smote = SMOTE(random_state=42)\n",
    "\n",
    "X_resampled, Y_resampled = smote.fit_resample(X_train, Y_train)"
   ]
  },
  {
   "cell_type": "code",
   "execution_count": 21,
   "metadata": {
    "id": "ar6Cl2ZyMald"
   },
   "outputs": [
    {
     "name": "stdout",
     "output_type": "stream",
     "text": [
      "Opt: adam, LR: 0.001, Layers: 1, Units: 32, Batch Size: 32, Mean CV Accuracy: 0.72\n",
      "Opt: adam, LR: 0.001, Layers: 1, Units: 32, Batch Size: 64, Mean CV Accuracy: 0.72\n",
      "Opt: adam, LR: 0.001, Layers: 1, Units: 32, Batch Size: 128, Mean CV Accuracy: 0.72\n",
      "Opt: adam, LR: 0.001, Layers: 1, Units: 64, Batch Size: 32, Mean CV Accuracy: 0.72\n",
      "Opt: adam, LR: 0.001, Layers: 1, Units: 64, Batch Size: 64, Mean CV Accuracy: 0.72\n",
      "Opt: adam, LR: 0.001, Layers: 1, Units: 64, Batch Size: 128, Mean CV Accuracy: 0.72\n",
      "Opt: adam, LR: 0.001, Layers: 1, Units: 128, Batch Size: 32, Mean CV Accuracy: 0.73\n",
      "Opt: adam, LR: 0.001, Layers: 1, Units: 128, Batch Size: 64, Mean CV Accuracy: 0.73\n",
      "Opt: adam, LR: 0.001, Layers: 1, Units: 128, Batch Size: 128, Mean CV Accuracy: 0.73\n",
      "Opt: adam, LR: 0.001, Layers: 1, Units: 256, Batch Size: 32, Mean CV Accuracy: 0.74\n",
      "Opt: adam, LR: 0.001, Layers: 1, Units: 256, Batch Size: 64, Mean CV Accuracy: 0.73\n",
      "Opt: adam, LR: 0.001, Layers: 1, Units: 256, Batch Size: 128, Mean CV Accuracy: 0.73\n",
      "Opt: adam, LR: 0.001, Layers: 2, Units: 32, Batch Size: 32, Mean CV Accuracy: 0.73\n",
      "Opt: adam, LR: 0.001, Layers: 2, Units: 32, Batch Size: 64, Mean CV Accuracy: 0.73\n",
      "Opt: adam, LR: 0.001, Layers: 2, Units: 32, Batch Size: 128, Mean CV Accuracy: 0.73\n",
      "Opt: adam, LR: 0.001, Layers: 2, Units: 64, Batch Size: 32, Mean CV Accuracy: 0.75\n",
      "Opt: adam, LR: 0.001, Layers: 2, Units: 64, Batch Size: 64, Mean CV Accuracy: 0.75\n",
      "Opt: adam, LR: 0.001, Layers: 2, Units: 64, Batch Size: 128, Mean CV Accuracy: 0.74\n",
      "Opt: adam, LR: 0.001, Layers: 2, Units: 128, Batch Size: 32, Mean CV Accuracy: 0.78\n",
      "Opt: adam, LR: 0.001, Layers: 2, Units: 128, Batch Size: 64, Mean CV Accuracy: 0.78\n",
      "Opt: adam, LR: 0.001, Layers: 2, Units: 128, Batch Size: 128, Mean CV Accuracy: 0.76\n",
      "Opt: adam, LR: 0.001, Layers: 2, Units: 256, Batch Size: 32, Mean CV Accuracy: 0.81\n",
      "Opt: adam, LR: 0.001, Layers: 2, Units: 256, Batch Size: 64, Mean CV Accuracy: 0.80\n",
      "Opt: adam, LR: 0.001, Layers: 2, Units: 256, Batch Size: 128, Mean CV Accuracy: 0.79\n",
      "Opt: adam, LR: 0.001, Layers: 3, Units: 32, Batch Size: 32, Mean CV Accuracy: 0.74\n",
      "Opt: adam, LR: 0.001, Layers: 3, Units: 32, Batch Size: 64, Mean CV Accuracy: 0.74\n",
      "Opt: adam, LR: 0.001, Layers: 3, Units: 32, Batch Size: 128, Mean CV Accuracy: 0.73\n",
      "Opt: adam, LR: 0.001, Layers: 3, Units: 64, Batch Size: 32, Mean CV Accuracy: 0.77\n",
      "Opt: adam, LR: 0.001, Layers: 3, Units: 64, Batch Size: 64, Mean CV Accuracy: 0.77\n",
      "Opt: adam, LR: 0.001, Layers: 3, Units: 64, Batch Size: 128, Mean CV Accuracy: 0.76\n",
      "Opt: adam, LR: 0.001, Layers: 3, Units: 128, Batch Size: 32, Mean CV Accuracy: 0.81\n",
      "Opt: adam, LR: 0.001, Layers: 3, Units: 128, Batch Size: 64, Mean CV Accuracy: 0.80\n",
      "Opt: adam, LR: 0.001, Layers: 3, Units: 128, Batch Size: 128, Mean CV Accuracy: 0.79\n",
      "Opt: adam, LR: 0.001, Layers: 3, Units: 256, Batch Size: 32, Mean CV Accuracy: 0.82\n",
      "Opt: adam, LR: 0.001, Layers: 3, Units: 256, Batch Size: 64, Mean CV Accuracy: 0.82\n",
      "Opt: adam, LR: 0.001, Layers: 3, Units: 256, Batch Size: 128, Mean CV Accuracy: 0.82\n",
      "Opt: adam, LR: 0.001, Layers: 4, Units: 32, Batch Size: 32, Mean CV Accuracy: 0.74\n",
      "Opt: adam, LR: 0.001, Layers: 4, Units: 32, Batch Size: 64, Mean CV Accuracy: 0.74\n",
      "Opt: adam, LR: 0.001, Layers: 4, Units: 32, Batch Size: 128, Mean CV Accuracy: 0.74\n",
      "Opt: adam, LR: 0.001, Layers: 4, Units: 64, Batch Size: 32, Mean CV Accuracy: 0.79\n",
      "Opt: adam, LR: 0.001, Layers: 4, Units: 64, Batch Size: 64, Mean CV Accuracy: 0.78\n",
      "Opt: adam, LR: 0.001, Layers: 4, Units: 64, Batch Size: 128, Mean CV Accuracy: 0.78\n",
      "Opt: adam, LR: 0.001, Layers: 4, Units: 128, Batch Size: 32, Mean CV Accuracy: 0.80\n",
      "Opt: adam, LR: 0.001, Layers: 4, Units: 128, Batch Size: 64, Mean CV Accuracy: 0.81\n",
      "Opt: adam, LR: 0.001, Layers: 4, Units: 128, Batch Size: 128, Mean CV Accuracy: 0.81\n",
      "Opt: adam, LR: 0.001, Layers: 4, Units: 256, Batch Size: 32, Mean CV Accuracy: 0.82\n",
      "Opt: adam, LR: 0.001, Layers: 4, Units: 256, Batch Size: 64, Mean CV Accuracy: 0.82\n",
      "Opt: adam, LR: 0.001, Layers: 4, Units: 256, Batch Size: 128, Mean CV Accuracy: 0.83\n",
      "Opt: adam, LR: 0.01, Layers: 1, Units: 32, Batch Size: 32, Mean CV Accuracy: 0.72\n",
      "Opt: adam, LR: 0.01, Layers: 1, Units: 32, Batch Size: 64, Mean CV Accuracy: 0.72\n",
      "Opt: adam, LR: 0.01, Layers: 1, Units: 32, Batch Size: 128, Mean CV Accuracy: 0.71\n",
      "Opt: adam, LR: 0.01, Layers: 1, Units: 64, Batch Size: 32, Mean CV Accuracy: 0.72\n",
      "Opt: adam, LR: 0.01, Layers: 1, Units: 64, Batch Size: 64, Mean CV Accuracy: 0.73\n",
      "Opt: adam, LR: 0.01, Layers: 1, Units: 64, Batch Size: 128, Mean CV Accuracy: 0.72\n",
      "Opt: adam, LR: 0.01, Layers: 1, Units: 128, Batch Size: 32, Mean CV Accuracy: 0.72\n",
      "Opt: adam, LR: 0.01, Layers: 1, Units: 128, Batch Size: 64, Mean CV Accuracy: 0.73\n",
      "Opt: adam, LR: 0.01, Layers: 1, Units: 128, Batch Size: 128, Mean CV Accuracy: 0.73\n",
      "Opt: adam, LR: 0.01, Layers: 1, Units: 256, Batch Size: 32, Mean CV Accuracy: 0.72\n",
      "Opt: adam, LR: 0.01, Layers: 1, Units: 256, Batch Size: 64, Mean CV Accuracy: 0.73\n",
      "Opt: adam, LR: 0.01, Layers: 1, Units: 256, Batch Size: 128, Mean CV Accuracy: 0.73\n",
      "Opt: adam, LR: 0.01, Layers: 2, Units: 32, Batch Size: 32, Mean CV Accuracy: 0.72\n",
      "Opt: adam, LR: 0.01, Layers: 2, Units: 32, Batch Size: 64, Mean CV Accuracy: 0.73\n",
      "Opt: adam, LR: 0.01, Layers: 2, Units: 32, Batch Size: 128, Mean CV Accuracy: 0.73\n",
      "Opt: adam, LR: 0.01, Layers: 2, Units: 64, Batch Size: 32, Mean CV Accuracy: 0.73\n",
      "Opt: adam, LR: 0.01, Layers: 2, Units: 64, Batch Size: 64, Mean CV Accuracy: 0.74\n",
      "Opt: adam, LR: 0.01, Layers: 2, Units: 64, Batch Size: 128, Mean CV Accuracy: 0.75\n",
      "Opt: adam, LR: 0.01, Layers: 2, Units: 128, Batch Size: 32, Mean CV Accuracy: 0.73\n",
      "Opt: adam, LR: 0.01, Layers: 2, Units: 128, Batch Size: 64, Mean CV Accuracy: 0.74\n",
      "Opt: adam, LR: 0.01, Layers: 2, Units: 128, Batch Size: 128, Mean CV Accuracy: 0.76\n",
      "Opt: adam, LR: 0.01, Layers: 2, Units: 256, Batch Size: 32, Mean CV Accuracy: 0.73\n",
      "Opt: adam, LR: 0.01, Layers: 2, Units: 256, Batch Size: 64, Mean CV Accuracy: 0.74\n",
      "Opt: adam, LR: 0.01, Layers: 2, Units: 256, Batch Size: 128, Mean CV Accuracy: 0.76\n",
      "Opt: adam, LR: 0.01, Layers: 3, Units: 32, Batch Size: 32, Mean CV Accuracy: 0.73\n",
      "Opt: adam, LR: 0.01, Layers: 3, Units: 32, Batch Size: 64, Mean CV Accuracy: 0.73\n",
      "Opt: adam, LR: 0.01, Layers: 3, Units: 32, Batch Size: 128, Mean CV Accuracy: 0.73\n",
      "Opt: adam, LR: 0.01, Layers: 3, Units: 64, Batch Size: 32, Mean CV Accuracy: 0.74\n",
      "Opt: adam, LR: 0.01, Layers: 3, Units: 64, Batch Size: 64, Mean CV Accuracy: 0.74\n",
      "Opt: adam, LR: 0.01, Layers: 3, Units: 64, Batch Size: 128, Mean CV Accuracy: 0.74\n",
      "Opt: adam, LR: 0.01, Layers: 3, Units: 128, Batch Size: 32, Mean CV Accuracy: 0.74\n",
      "Opt: adam, LR: 0.01, Layers: 3, Units: 128, Batch Size: 64, Mean CV Accuracy: 0.75\n",
      "Opt: adam, LR: 0.01, Layers: 3, Units: 128, Batch Size: 128, Mean CV Accuracy: 0.76\n",
      "Opt: adam, LR: 0.01, Layers: 3, Units: 256, Batch Size: 32, Mean CV Accuracy: 0.74\n",
      "Opt: adam, LR: 0.01, Layers: 3, Units: 256, Batch Size: 64, Mean CV Accuracy: 0.75\n",
      "Opt: adam, LR: 0.01, Layers: 3, Units: 256, Batch Size: 128, Mean CV Accuracy: 0.75\n",
      "Opt: adam, LR: 0.01, Layers: 4, Units: 32, Batch Size: 32, Mean CV Accuracy: 0.72\n",
      "Opt: adam, LR: 0.01, Layers: 4, Units: 32, Batch Size: 64, Mean CV Accuracy: 0.73\n",
      "Opt: adam, LR: 0.01, Layers: 4, Units: 32, Batch Size: 128, Mean CV Accuracy: 0.74\n",
      "Opt: adam, LR: 0.01, Layers: 4, Units: 64, Batch Size: 32, Mean CV Accuracy: 0.74\n",
      "Opt: adam, LR: 0.01, Layers: 4, Units: 64, Batch Size: 64, Mean CV Accuracy: 0.74\n",
      "Opt: adam, LR: 0.01, Layers: 4, Units: 64, Batch Size: 128, Mean CV Accuracy: 0.75\n",
      "Opt: adam, LR: 0.01, Layers: 4, Units: 128, Batch Size: 32, Mean CV Accuracy: 0.75\n",
      "Opt: adam, LR: 0.01, Layers: 4, Units: 128, Batch Size: 64, Mean CV Accuracy: 0.75\n",
      "Opt: adam, LR: 0.01, Layers: 4, Units: 128, Batch Size: 128, Mean CV Accuracy: 0.76\n",
      "Opt: adam, LR: 0.01, Layers: 4, Units: 256, Batch Size: 32, Mean CV Accuracy: 0.74\n",
      "Opt: adam, LR: 0.01, Layers: 4, Units: 256, Batch Size: 64, Mean CV Accuracy: 0.75\n",
      "Opt: adam, LR: 0.01, Layers: 4, Units: 256, Batch Size: 128, Mean CV Accuracy: 0.75\n",
      "Opt: adam, LR: 0.1, Layers: 1, Units: 32, Batch Size: 32, Mean CV Accuracy: 0.68\n",
      "Opt: adam, LR: 0.1, Layers: 1, Units: 32, Batch Size: 64, Mean CV Accuracy: 0.69\n",
      "Opt: adam, LR: 0.1, Layers: 1, Units: 32, Batch Size: 128, Mean CV Accuracy: 0.70\n",
      "Opt: adam, LR: 0.1, Layers: 1, Units: 64, Batch Size: 32, Mean CV Accuracy: 0.69\n",
      "Opt: adam, LR: 0.1, Layers: 1, Units: 64, Batch Size: 64, Mean CV Accuracy: 0.69\n",
      "Opt: adam, LR: 0.1, Layers: 1, Units: 64, Batch Size: 128, Mean CV Accuracy: 0.70\n",
      "Opt: adam, LR: 0.1, Layers: 1, Units: 128, Batch Size: 32, Mean CV Accuracy: 0.69\n",
      "Opt: adam, LR: 0.1, Layers: 1, Units: 128, Batch Size: 64, Mean CV Accuracy: 0.70\n",
      "Opt: adam, LR: 0.1, Layers: 1, Units: 128, Batch Size: 128, Mean CV Accuracy: 0.70\n",
      "Opt: adam, LR: 0.1, Layers: 1, Units: 256, Batch Size: 32, Mean CV Accuracy: 0.64\n",
      "Opt: adam, LR: 0.1, Layers: 1, Units: 256, Batch Size: 64, Mean CV Accuracy: 0.69\n",
      "Opt: adam, LR: 0.1, Layers: 1, Units: 256, Batch Size: 128, Mean CV Accuracy: 0.70\n",
      "Opt: adam, LR: 0.1, Layers: 2, Units: 32, Batch Size: 32, Mean CV Accuracy: 0.61\n",
      "Opt: adam, LR: 0.1, Layers: 2, Units: 32, Batch Size: 64, Mean CV Accuracy: 0.65\n",
      "Opt: adam, LR: 0.1, Layers: 2, Units: 32, Batch Size: 128, Mean CV Accuracy: 0.70\n",
      "Opt: adam, LR: 0.1, Layers: 2, Units: 64, Batch Size: 32, Mean CV Accuracy: 0.50\n",
      "Opt: adam, LR: 0.1, Layers: 2, Units: 64, Batch Size: 64, Mean CV Accuracy: 0.61\n",
      "Opt: adam, LR: 0.1, Layers: 2, Units: 64, Batch Size: 128, Mean CV Accuracy: 0.69\n",
      "Opt: adam, LR: 0.1, Layers: 2, Units: 128, Batch Size: 32, Mean CV Accuracy: 0.50\n",
      "Opt: adam, LR: 0.1, Layers: 2, Units: 128, Batch Size: 64, Mean CV Accuracy: 0.50\n",
      "Opt: adam, LR: 0.1, Layers: 2, Units: 128, Batch Size: 128, Mean CV Accuracy: 0.68\n",
      "Opt: adam, LR: 0.1, Layers: 2, Units: 256, Batch Size: 32, Mean CV Accuracy: 0.50\n",
      "Opt: adam, LR: 0.1, Layers: 2, Units: 256, Batch Size: 64, Mean CV Accuracy: 0.50\n",
      "Opt: adam, LR: 0.1, Layers: 2, Units: 256, Batch Size: 128, Mean CV Accuracy: 0.50\n",
      "Opt: adam, LR: 0.1, Layers: 3, Units: 32, Batch Size: 32, Mean CV Accuracy: 0.50\n",
      "Opt: adam, LR: 0.1, Layers: 3, Units: 32, Batch Size: 64, Mean CV Accuracy: 0.50\n",
      "Opt: adam, LR: 0.1, Layers: 3, Units: 32, Batch Size: 128, Mean CV Accuracy: 0.66\n",
      "Opt: adam, LR: 0.1, Layers: 3, Units: 64, Batch Size: 32, Mean CV Accuracy: 0.50\n",
      "Opt: adam, LR: 0.1, Layers: 3, Units: 64, Batch Size: 64, Mean CV Accuracy: 0.56\n",
      "Opt: adam, LR: 0.1, Layers: 3, Units: 64, Batch Size: 128, Mean CV Accuracy: 0.56\n",
      "Opt: adam, LR: 0.1, Layers: 3, Units: 128, Batch Size: 32, Mean CV Accuracy: 0.50\n",
      "Opt: adam, LR: 0.1, Layers: 3, Units: 128, Batch Size: 64, Mean CV Accuracy: 0.56\n",
      "Opt: adam, LR: 0.1, Layers: 3, Units: 128, Batch Size: 128, Mean CV Accuracy: 0.56\n",
      "Opt: adam, LR: 0.1, Layers: 3, Units: 256, Batch Size: 32, Mean CV Accuracy: 0.52\n",
      "Opt: adam, LR: 0.1, Layers: 3, Units: 256, Batch Size: 64, Mean CV Accuracy: 0.50\n",
      "Opt: adam, LR: 0.1, Layers: 3, Units: 256, Batch Size: 128, Mean CV Accuracy: 0.57\n",
      "Opt: adam, LR: 0.1, Layers: 4, Units: 32, Batch Size: 32, Mean CV Accuracy: 0.50\n",
      "Opt: adam, LR: 0.1, Layers: 4, Units: 32, Batch Size: 64, Mean CV Accuracy: 0.50\n",
      "Opt: adam, LR: 0.1, Layers: 4, Units: 32, Batch Size: 128, Mean CV Accuracy: 0.54\n",
      "Opt: adam, LR: 0.1, Layers: 4, Units: 64, Batch Size: 32, Mean CV Accuracy: 0.50\n",
      "Opt: adam, LR: 0.1, Layers: 4, Units: 64, Batch Size: 64, Mean CV Accuracy: 0.50\n",
      "Opt: adam, LR: 0.1, Layers: 4, Units: 64, Batch Size: 128, Mean CV Accuracy: 0.50\n",
      "Opt: adam, LR: 0.1, Layers: 4, Units: 128, Batch Size: 32, Mean CV Accuracy: 0.50\n",
      "Opt: adam, LR: 0.1, Layers: 4, Units: 128, Batch Size: 64, Mean CV Accuracy: 0.50\n",
      "Opt: adam, LR: 0.1, Layers: 4, Units: 128, Batch Size: 128, Mean CV Accuracy: 0.50\n",
      "Opt: adam, LR: 0.1, Layers: 4, Units: 256, Batch Size: 32, Mean CV Accuracy: 0.50\n",
      "Opt: adam, LR: 0.1, Layers: 4, Units: 256, Batch Size: 64, Mean CV Accuracy: 0.50\n",
      "Opt: adam, LR: 0.1, Layers: 4, Units: 256, Batch Size: 128, Mean CV Accuracy: 0.55\n",
      "Opt: sgd, LR: 0.001, Layers: 1, Units: 32, Batch Size: 32, Mean CV Accuracy: 0.70\n",
      "Opt: sgd, LR: 0.001, Layers: 1, Units: 32, Batch Size: 64, Mean CV Accuracy: 0.69\n",
      "Opt: sgd, LR: 0.001, Layers: 1, Units: 32, Batch Size: 128, Mean CV Accuracy: 0.67\n",
      "Opt: sgd, LR: 0.001, Layers: 1, Units: 64, Batch Size: 32, Mean CV Accuracy: 0.70\n",
      "Opt: sgd, LR: 0.001, Layers: 1, Units: 64, Batch Size: 64, Mean CV Accuracy: 0.70\n",
      "Opt: sgd, LR: 0.001, Layers: 1, Units: 64, Batch Size: 128, Mean CV Accuracy: 0.68\n",
      "Opt: sgd, LR: 0.001, Layers: 1, Units: 128, Batch Size: 32, Mean CV Accuracy: 0.70\n",
      "Opt: sgd, LR: 0.001, Layers: 1, Units: 128, Batch Size: 64, Mean CV Accuracy: 0.70\n",
      "Opt: sgd, LR: 0.001, Layers: 1, Units: 128, Batch Size: 128, Mean CV Accuracy: 0.69\n",
      "Opt: sgd, LR: 0.001, Layers: 1, Units: 256, Batch Size: 32, Mean CV Accuracy: 0.70\n",
      "Opt: sgd, LR: 0.001, Layers: 1, Units: 256, Batch Size: 64, Mean CV Accuracy: 0.70\n",
      "Opt: sgd, LR: 0.001, Layers: 1, Units: 256, Batch Size: 128, Mean CV Accuracy: 0.70\n",
      "Opt: sgd, LR: 0.001, Layers: 2, Units: 32, Batch Size: 32, Mean CV Accuracy: 0.70\n",
      "Opt: sgd, LR: 0.001, Layers: 2, Units: 32, Batch Size: 64, Mean CV Accuracy: 0.69\n",
      "Opt: sgd, LR: 0.001, Layers: 2, Units: 32, Batch Size: 128, Mean CV Accuracy: 0.68\n",
      "Opt: sgd, LR: 0.001, Layers: 2, Units: 64, Batch Size: 32, Mean CV Accuracy: 0.70\n",
      "Opt: sgd, LR: 0.001, Layers: 2, Units: 64, Batch Size: 64, Mean CV Accuracy: 0.70\n",
      "Opt: sgd, LR: 0.001, Layers: 2, Units: 64, Batch Size: 128, Mean CV Accuracy: 0.68\n",
      "Opt: sgd, LR: 0.001, Layers: 2, Units: 128, Batch Size: 32, Mean CV Accuracy: 0.71\n",
      "Opt: sgd, LR: 0.001, Layers: 2, Units: 128, Batch Size: 64, Mean CV Accuracy: 0.70\n",
      "Opt: sgd, LR: 0.001, Layers: 2, Units: 128, Batch Size: 128, Mean CV Accuracy: 0.69\n",
      "Opt: sgd, LR: 0.001, Layers: 2, Units: 256, Batch Size: 32, Mean CV Accuracy: 0.71\n",
      "Opt: sgd, LR: 0.001, Layers: 2, Units: 256, Batch Size: 64, Mean CV Accuracy: 0.70\n",
      "Opt: sgd, LR: 0.001, Layers: 2, Units: 256, Batch Size: 128, Mean CV Accuracy: 0.70\n",
      "Opt: sgd, LR: 0.001, Layers: 3, Units: 32, Batch Size: 32, Mean CV Accuracy: 0.70\n",
      "Opt: sgd, LR: 0.001, Layers: 3, Units: 32, Batch Size: 64, Mean CV Accuracy: 0.69\n",
      "Opt: sgd, LR: 0.001, Layers: 3, Units: 32, Batch Size: 128, Mean CV Accuracy: 0.68\n",
      "Opt: sgd, LR: 0.001, Layers: 3, Units: 64, Batch Size: 32, Mean CV Accuracy: 0.70\n",
      "Opt: sgd, LR: 0.001, Layers: 3, Units: 64, Batch Size: 64, Mean CV Accuracy: 0.70\n",
      "Opt: sgd, LR: 0.001, Layers: 3, Units: 64, Batch Size: 128, Mean CV Accuracy: 0.68\n",
      "Opt: sgd, LR: 0.001, Layers: 3, Units: 128, Batch Size: 32, Mean CV Accuracy: 0.70\n",
      "Opt: sgd, LR: 0.001, Layers: 3, Units: 128, Batch Size: 64, Mean CV Accuracy: 0.70\n",
      "Opt: sgd, LR: 0.001, Layers: 3, Units: 128, Batch Size: 128, Mean CV Accuracy: 0.70\n",
      "Opt: sgd, LR: 0.001, Layers: 3, Units: 256, Batch Size: 32, Mean CV Accuracy: 0.71\n",
      "Opt: sgd, LR: 0.001, Layers: 3, Units: 256, Batch Size: 64, Mean CV Accuracy: 0.70\n",
      "Opt: sgd, LR: 0.001, Layers: 3, Units: 256, Batch Size: 128, Mean CV Accuracy: 0.70\n",
      "Opt: sgd, LR: 0.001, Layers: 4, Units: 32, Batch Size: 32, Mean CV Accuracy: 0.70\n",
      "Opt: sgd, LR: 0.001, Layers: 4, Units: 32, Batch Size: 64, Mean CV Accuracy: 0.69\n",
      "Opt: sgd, LR: 0.001, Layers: 4, Units: 32, Batch Size: 128, Mean CV Accuracy: 0.67\n",
      "Opt: sgd, LR: 0.001, Layers: 4, Units: 64, Batch Size: 32, Mean CV Accuracy: 0.71\n",
      "Opt: sgd, LR: 0.001, Layers: 4, Units: 64, Batch Size: 64, Mean CV Accuracy: 0.70\n",
      "Opt: sgd, LR: 0.001, Layers: 4, Units: 64, Batch Size: 128, Mean CV Accuracy: 0.69\n",
      "Opt: sgd, LR: 0.001, Layers: 4, Units: 128, Batch Size: 32, Mean CV Accuracy: 0.71\n",
      "Opt: sgd, LR: 0.001, Layers: 4, Units: 128, Batch Size: 64, Mean CV Accuracy: 0.70\n",
      "Opt: sgd, LR: 0.001, Layers: 4, Units: 128, Batch Size: 128, Mean CV Accuracy: 0.70\n",
      "Opt: sgd, LR: 0.001, Layers: 4, Units: 256, Batch Size: 32, Mean CV Accuracy: 0.71\n",
      "Opt: sgd, LR: 0.001, Layers: 4, Units: 256, Batch Size: 64, Mean CV Accuracy: 0.70\n",
      "Opt: sgd, LR: 0.001, Layers: 4, Units: 256, Batch Size: 128, Mean CV Accuracy: 0.70\n",
      "Opt: sgd, LR: 0.01, Layers: 1, Units: 32, Batch Size: 32, Mean CV Accuracy: 0.71\n",
      "Opt: sgd, LR: 0.01, Layers: 1, Units: 32, Batch Size: 64, Mean CV Accuracy: 0.71\n",
      "Opt: sgd, LR: 0.01, Layers: 1, Units: 32, Batch Size: 128, Mean CV Accuracy: 0.71\n",
      "Opt: sgd, LR: 0.01, Layers: 1, Units: 64, Batch Size: 32, Mean CV Accuracy: 0.72\n",
      "Opt: sgd, LR: 0.01, Layers: 1, Units: 64, Batch Size: 64, Mean CV Accuracy: 0.71\n",
      "Opt: sgd, LR: 0.01, Layers: 1, Units: 64, Batch Size: 128, Mean CV Accuracy: 0.71\n",
      "Opt: sgd, LR: 0.01, Layers: 1, Units: 128, Batch Size: 32, Mean CV Accuracy: 0.72\n",
      "Opt: sgd, LR: 0.01, Layers: 1, Units: 128, Batch Size: 64, Mean CV Accuracy: 0.71\n",
      "Opt: sgd, LR: 0.01, Layers: 1, Units: 128, Batch Size: 128, Mean CV Accuracy: 0.71\n",
      "Opt: sgd, LR: 0.01, Layers: 1, Units: 256, Batch Size: 32, Mean CV Accuracy: 0.72\n",
      "Opt: sgd, LR: 0.01, Layers: 1, Units: 256, Batch Size: 64, Mean CV Accuracy: 0.72\n",
      "Opt: sgd, LR: 0.01, Layers: 1, Units: 256, Batch Size: 128, Mean CV Accuracy: 0.71\n",
      "Opt: sgd, LR: 0.01, Layers: 2, Units: 32, Batch Size: 32, Mean CV Accuracy: 0.72\n",
      "Opt: sgd, LR: 0.01, Layers: 2, Units: 32, Batch Size: 64, Mean CV Accuracy: 0.71\n",
      "Opt: sgd, LR: 0.01, Layers: 2, Units: 32, Batch Size: 128, Mean CV Accuracy: 0.71\n",
      "Opt: sgd, LR: 0.01, Layers: 2, Units: 64, Batch Size: 32, Mean CV Accuracy: 0.72\n",
      "Opt: sgd, LR: 0.01, Layers: 2, Units: 64, Batch Size: 64, Mean CV Accuracy: 0.72\n",
      "Opt: sgd, LR: 0.01, Layers: 2, Units: 64, Batch Size: 128, Mean CV Accuracy: 0.71\n",
      "Opt: sgd, LR: 0.01, Layers: 2, Units: 128, Batch Size: 32, Mean CV Accuracy: 0.73\n",
      "Opt: sgd, LR: 0.01, Layers: 2, Units: 128, Batch Size: 64, Mean CV Accuracy: 0.72\n",
      "Opt: sgd, LR: 0.01, Layers: 2, Units: 128, Batch Size: 128, Mean CV Accuracy: 0.71\n",
      "Opt: sgd, LR: 0.01, Layers: 2, Units: 256, Batch Size: 32, Mean CV Accuracy: 0.73\n",
      "Opt: sgd, LR: 0.01, Layers: 2, Units: 256, Batch Size: 64, Mean CV Accuracy: 0.72\n",
      "Opt: sgd, LR: 0.01, Layers: 2, Units: 256, Batch Size: 128, Mean CV Accuracy: 0.72\n",
      "Opt: sgd, LR: 0.01, Layers: 3, Units: 32, Batch Size: 32, Mean CV Accuracy: 0.72\n",
      "Opt: sgd, LR: 0.01, Layers: 3, Units: 32, Batch Size: 64, Mean CV Accuracy: 0.71\n",
      "Opt: sgd, LR: 0.01, Layers: 3, Units: 32, Batch Size: 128, Mean CV Accuracy: 0.71\n",
      "Opt: sgd, LR: 0.01, Layers: 3, Units: 64, Batch Size: 32, Mean CV Accuracy: 0.71\n",
      "Opt: sgd, LR: 0.01, Layers: 3, Units: 64, Batch Size: 64, Mean CV Accuracy: 0.72\n",
      "Opt: sgd, LR: 0.01, Layers: 3, Units: 64, Batch Size: 128, Mean CV Accuracy: 0.71\n",
      "Opt: sgd, LR: 0.01, Layers: 3, Units: 128, Batch Size: 32, Mean CV Accuracy: 0.71\n",
      "Opt: sgd, LR: 0.01, Layers: 3, Units: 128, Batch Size: 64, Mean CV Accuracy: 0.73\n",
      "Opt: sgd, LR: 0.01, Layers: 3, Units: 128, Batch Size: 128, Mean CV Accuracy: 0.72\n",
      "Opt: sgd, LR: 0.01, Layers: 3, Units: 256, Batch Size: 32, Mean CV Accuracy: 0.73\n",
      "Opt: sgd, LR: 0.01, Layers: 3, Units: 256, Batch Size: 64, Mean CV Accuracy: 0.73\n",
      "Opt: sgd, LR: 0.01, Layers: 3, Units: 256, Batch Size: 128, Mean CV Accuracy: 0.72\n",
      "Opt: sgd, LR: 0.01, Layers: 4, Units: 32, Batch Size: 32, Mean CV Accuracy: 0.72\n",
      "Opt: sgd, LR: 0.01, Layers: 4, Units: 32, Batch Size: 64, Mean CV Accuracy: 0.71\n",
      "Opt: sgd, LR: 0.01, Layers: 4, Units: 32, Batch Size: 128, Mean CV Accuracy: 0.71\n",
      "Opt: sgd, LR: 0.01, Layers: 4, Units: 64, Batch Size: 32, Mean CV Accuracy: 0.73\n",
      "Opt: sgd, LR: 0.01, Layers: 4, Units: 64, Batch Size: 64, Mean CV Accuracy: 0.72\n",
      "Opt: sgd, LR: 0.01, Layers: 4, Units: 64, Batch Size: 128, Mean CV Accuracy: 0.71\n",
      "Opt: sgd, LR: 0.01, Layers: 4, Units: 128, Batch Size: 32, Mean CV Accuracy: 0.73\n",
      "Opt: sgd, LR: 0.01, Layers: 4, Units: 128, Batch Size: 64, Mean CV Accuracy: 0.70\n",
      "Opt: sgd, LR: 0.01, Layers: 4, Units: 128, Batch Size: 128, Mean CV Accuracy: 0.71\n",
      "Opt: sgd, LR: 0.01, Layers: 4, Units: 256, Batch Size: 32, Mean CV Accuracy: 0.75\n",
      "Opt: sgd, LR: 0.01, Layers: 4, Units: 256, Batch Size: 64, Mean CV Accuracy: 0.69\n",
      "Opt: sgd, LR: 0.01, Layers: 4, Units: 256, Batch Size: 128, Mean CV Accuracy: 0.72\n",
      "Opt: sgd, LR: 0.1, Layers: 1, Units: 32, Batch Size: 32, Mean CV Accuracy: 0.72\n",
      "Opt: sgd, LR: 0.1, Layers: 1, Units: 32, Batch Size: 64, Mean CV Accuracy: 0.70\n",
      "Opt: sgd, LR: 0.1, Layers: 1, Units: 32, Batch Size: 128, Mean CV Accuracy: 0.70\n",
      "Opt: sgd, LR: 0.1, Layers: 1, Units: 64, Batch Size: 32, Mean CV Accuracy: 0.71\n",
      "Opt: sgd, LR: 0.1, Layers: 1, Units: 64, Batch Size: 64, Mean CV Accuracy: 0.70\n",
      "Opt: sgd, LR: 0.1, Layers: 1, Units: 64, Batch Size: 128, Mean CV Accuracy: 0.70\n",
      "Opt: sgd, LR: 0.1, Layers: 1, Units: 128, Batch Size: 32, Mean CV Accuracy: 0.66\n",
      "Opt: sgd, LR: 0.1, Layers: 1, Units: 128, Batch Size: 64, Mean CV Accuracy: 0.71\n",
      "Opt: sgd, LR: 0.1, Layers: 1, Units: 128, Batch Size: 128, Mean CV Accuracy: 0.69\n",
      "Opt: sgd, LR: 0.1, Layers: 1, Units: 256, Batch Size: 32, Mean CV Accuracy: 0.72\n",
      "Opt: sgd, LR: 0.1, Layers: 1, Units: 256, Batch Size: 64, Mean CV Accuracy: 0.70\n",
      "Opt: sgd, LR: 0.1, Layers: 1, Units: 256, Batch Size: 128, Mean CV Accuracy: 0.70\n",
      "Opt: sgd, LR: 0.1, Layers: 2, Units: 32, Batch Size: 32, Mean CV Accuracy: 0.71\n",
      "Opt: sgd, LR: 0.1, Layers: 2, Units: 32, Batch Size: 64, Mean CV Accuracy: 0.71\n",
      "Opt: sgd, LR: 0.1, Layers: 2, Units: 32, Batch Size: 128, Mean CV Accuracy: 0.69\n",
      "Opt: sgd, LR: 0.1, Layers: 2, Units: 64, Batch Size: 32, Mean CV Accuracy: 0.68\n",
      "Opt: sgd, LR: 0.1, Layers: 2, Units: 64, Batch Size: 64, Mean CV Accuracy: 0.71\n",
      "Opt: sgd, LR: 0.1, Layers: 2, Units: 64, Batch Size: 128, Mean CV Accuracy: 0.69\n",
      "Opt: sgd, LR: 0.1, Layers: 2, Units: 128, Batch Size: 32, Mean CV Accuracy: 0.76\n",
      "Opt: sgd, LR: 0.1, Layers: 2, Units: 128, Batch Size: 64, Mean CV Accuracy: 0.71\n",
      "Opt: sgd, LR: 0.1, Layers: 2, Units: 128, Batch Size: 128, Mean CV Accuracy: 0.72\n",
      "Opt: sgd, LR: 0.1, Layers: 2, Units: 256, Batch Size: 32, Mean CV Accuracy: 0.74\n",
      "Opt: sgd, LR: 0.1, Layers: 2, Units: 256, Batch Size: 64, Mean CV Accuracy: 0.65\n",
      "Opt: sgd, LR: 0.1, Layers: 2, Units: 256, Batch Size: 128, Mean CV Accuracy: 0.68\n",
      "Opt: sgd, LR: 0.1, Layers: 3, Units: 32, Batch Size: 32, Mean CV Accuracy: 0.73\n",
      "Opt: sgd, LR: 0.1, Layers: 3, Units: 32, Batch Size: 64, Mean CV Accuracy: 0.72\n",
      "Opt: sgd, LR: 0.1, Layers: 3, Units: 32, Batch Size: 128, Mean CV Accuracy: 0.68\n",
      "Opt: sgd, LR: 0.1, Layers: 3, Units: 64, Batch Size: 32, Mean CV Accuracy: 0.74\n",
      "Opt: sgd, LR: 0.1, Layers: 3, Units: 64, Batch Size: 64, Mean CV Accuracy: 0.72\n",
      "Opt: sgd, LR: 0.1, Layers: 3, Units: 64, Batch Size: 128, Mean CV Accuracy: 0.65\n",
      "Opt: sgd, LR: 0.1, Layers: 3, Units: 128, Batch Size: 32, Mean CV Accuracy: 0.78\n",
      "Opt: sgd, LR: 0.1, Layers: 3, Units: 128, Batch Size: 64, Mean CV Accuracy: 0.73\n",
      "Opt: sgd, LR: 0.1, Layers: 3, Units: 128, Batch Size: 128, Mean CV Accuracy: 0.68\n",
      "Opt: sgd, LR: 0.1, Layers: 3, Units: 256, Batch Size: 32, Mean CV Accuracy: 0.80\n",
      "Opt: sgd, LR: 0.1, Layers: 3, Units: 256, Batch Size: 64, Mean CV Accuracy: 0.73\n",
      "Opt: sgd, LR: 0.1, Layers: 3, Units: 256, Batch Size: 128, Mean CV Accuracy: 0.70\n",
      "Opt: sgd, LR: 0.1, Layers: 4, Units: 32, Batch Size: 32, Mean CV Accuracy: 0.72\n",
      "Opt: sgd, LR: 0.1, Layers: 4, Units: 32, Batch Size: 64, Mean CV Accuracy: 0.72\n",
      "Opt: sgd, LR: 0.1, Layers: 4, Units: 32, Batch Size: 128, Mean CV Accuracy: 0.70\n",
      "Opt: sgd, LR: 0.1, Layers: 4, Units: 64, Batch Size: 32, Mean CV Accuracy: 0.75\n",
      "Opt: sgd, LR: 0.1, Layers: 4, Units: 64, Batch Size: 64, Mean CV Accuracy: 0.69\n",
      "Opt: sgd, LR: 0.1, Layers: 4, Units: 64, Batch Size: 128, Mean CV Accuracy: 0.69\n",
      "Opt: sgd, LR: 0.1, Layers: 4, Units: 128, Batch Size: 32, Mean CV Accuracy: 0.77\n",
      "Opt: sgd, LR: 0.1, Layers: 4, Units: 128, Batch Size: 64, Mean CV Accuracy: 0.75\n",
      "Opt: sgd, LR: 0.1, Layers: 4, Units: 128, Batch Size: 128, Mean CV Accuracy: 0.67\n",
      "Opt: sgd, LR: 0.1, Layers: 4, Units: 256, Batch Size: 32, Mean CV Accuracy: 0.79\n",
      "Opt: sgd, LR: 0.1, Layers: 4, Units: 256, Batch Size: 64, Mean CV Accuracy: 0.74\n",
      "Opt: sgd, LR: 0.1, Layers: 4, Units: 256, Batch Size: 128, Mean CV Accuracy: 0.65\n",
      "Best Score: 0.83\n",
      "Best Parameters: {'optimizer': 'adam', 'learning_rate': 0.001, 'n_layers': 4, 'n_units': 256, 'batch_size': 128}\n"
     ]
    }
   ],
   "source": [
    "import tensorflow as tf\n",
    "from sklearn.model_selection import cross_val_score\n",
    "from sklearn.model_selection import StratifiedKFold\n",
    "import numpy as np\n",
    "\n",
    "# define neural net model\n",
    "def build_model(n_layers, n_units, optimizer, learning_rate):\n",
    "    model = tf.keras.Sequential()\n",
    "    model.add(tf.keras.layers.Dense(n_units, activation='relu', input_shape=(23,)))  # input layer\n",
    "    for _ in range(1, n_layers):\n",
    "        model.add(tf.keras.layers.Dense(n_units, activation='relu'))  # hidden layer\n",
    "    model.add(tf.keras.layers.Dense(1, activation='sigmoid'))  # output layer\n",
    "\n",
    "    # optimizer\n",
    "    if optimizer == 'adam':\n",
    "        opt = tf.keras.optimizers.Adam(learning_rate=learning_rate)\n",
    "    else:\n",
    "        opt = tf.keras.optimizers.SGD(learning_rate=learning_rate)\n",
    "\n",
    "    model.compile(optimizer=opt, loss='binary_crossentropy', metrics=['accuracy'])\n",
    "    return model\n",
    "\n",
    "# parameters\n",
    "optimizer_options = ['adam', 'sgd']\n",
    "learning_rate_options = [0.001, 0.01, 0.1]\n",
    "layer_options = [1, 2, 3, 4]\n",
    "unit_options = [32, 64, 128, 256]\n",
    "batch_size_options = [32, 64, 128]\n",
    "kfold = StratifiedKFold(n_splits=3, shuffle=True, random_state=42)\n",
    "\n",
    "best_score = 0\n",
    "best_params = {}\n",
    "\n",
    "# grid search\n",
    "for optimizer in optimizer_options:\n",
    "    for learning_rate in learning_rate_options:\n",
    "        for n_layers in layer_options:\n",
    "            for n_units in unit_options:\n",
    "                for batch_size in batch_size_options:\n",
    "                    cv_scores = []\n",
    "                    for train, test in kfold.split(X_resampled, Y_resampled):\n",
    "                        # change data set typr\n",
    "                        X_train_fold = X_resampled[train]\n",
    "                        Y_train_fold = Y_resampled.iloc[train].values\n",
    "                        X_test_fold = X_resampled[test]\n",
    "                        Y_test_fold = Y_resampled.iloc[test].values\n",
    "\n",
    "                        model = build_model(n_layers, n_units, optimizer, learning_rate)\n",
    "                        model.fit(X_train_fold, Y_train_fold, epochs=50, batch_size=batch_size, verbose=0)\n",
    "                        scores = model.evaluate(X_test_fold, Y_test_fold, verbose=0)\n",
    "                        cv_scores.append(scores[1])  # suppose scores[1] is accuracy\n",
    "                    score = np.mean(cv_scores)\n",
    "                    if score > best_score:\n",
    "                        best_score = score\n",
    "                        best_params = {\n",
    "                            'optimizer': optimizer,\n",
    "                            'learning_rate': learning_rate,\n",
    "                            'n_layers': n_layers,\n",
    "                            'n_units': n_units,\n",
    "                            'batch_size': batch_size\n",
    "                        }\n",
    "                    print(f\"Opt: {optimizer}, LR: {learning_rate}, Layers: {n_layers}, Units: {n_units}, Batch Size: {batch_size}, Mean CV Accuracy: {score:.2f}\")\n",
    "\n",
    "print(f\"Best Score: {best_score:.2f}\")\n",
    "print(\"Best Parameters:\", best_params)\n"
   ]
  },
  {
   "cell_type": "code",
   "execution_count": 22,
   "metadata": {
    "id": "G1ZEAYPqP0mL"
   },
   "outputs": [
    {
     "name": "stdout",
     "output_type": "stream",
     "text": [
      "Epoch 1/50\n",
      "132/132 [==============================] - 7s 52ms/step - loss: 0.4720 - accuracy: 0.8081 - val_loss: 0.4591 - val_accuracy: 0.8098\n",
      "Epoch 2/50\n",
      "132/132 [==============================] - 7s 51ms/step - loss: 0.4350 - accuracy: 0.8193 - val_loss: 0.4452 - val_accuracy: 0.8148\n",
      "Epoch 3/50\n",
      "132/132 [==============================] - 7s 51ms/step - loss: 0.4275 - accuracy: 0.8226 - val_loss: 0.4485 - val_accuracy: 0.8140\n",
      "Epoch 4/50\n",
      "132/132 [==============================] - 7s 53ms/step - loss: 0.4223 - accuracy: 0.8241 - val_loss: 0.4504 - val_accuracy: 0.8114\n",
      "Epoch 5/50\n",
      "132/132 [==============================] - 7s 51ms/step - loss: 0.4192 - accuracy: 0.8239 - val_loss: 0.4445 - val_accuracy: 0.8105\n",
      "Epoch 6/50\n",
      "132/132 [==============================] - 7s 52ms/step - loss: 0.4146 - accuracy: 0.8257 - val_loss: 0.4538 - val_accuracy: 0.8102\n",
      "Epoch 7/50\n",
      "132/132 [==============================] - 7s 51ms/step - loss: 0.4117 - accuracy: 0.8268 - val_loss: 0.4512 - val_accuracy: 0.8155\n",
      "Epoch 8/50\n",
      "132/132 [==============================] - 7s 54ms/step - loss: 0.4070 - accuracy: 0.8266 - val_loss: 0.4612 - val_accuracy: 0.8102\n",
      "Epoch 9/50\n",
      "132/132 [==============================] - 7s 55ms/step - loss: 0.4029 - accuracy: 0.8304 - val_loss: 0.4548 - val_accuracy: 0.8119\n",
      "Epoch 10/50\n",
      "132/132 [==============================] - 7s 53ms/step - loss: 0.3977 - accuracy: 0.8310 - val_loss: 0.4564 - val_accuracy: 0.8076\n",
      "Epoch 11/50\n",
      "132/132 [==============================] - 7s 53ms/step - loss: 0.3955 - accuracy: 0.8321 - val_loss: 0.4641 - val_accuracy: 0.8048\n",
      "Epoch 12/50\n",
      "132/132 [==============================] - 7s 52ms/step - loss: 0.3905 - accuracy: 0.8342 - val_loss: 0.4723 - val_accuracy: 0.8064\n",
      "Epoch 13/50\n",
      "132/132 [==============================] - 7s 53ms/step - loss: 0.3876 - accuracy: 0.8338 - val_loss: 0.4659 - val_accuracy: 0.8060\n",
      "Epoch 14/50\n",
      "132/132 [==============================] - 7s 52ms/step - loss: 0.3794 - accuracy: 0.8386 - val_loss: 0.4784 - val_accuracy: 0.7962\n",
      "Epoch 15/50\n",
      "132/132 [==============================] - 7s 52ms/step - loss: 0.3737 - accuracy: 0.8424 - val_loss: 0.4900 - val_accuracy: 0.8052\n",
      "Epoch 16/50\n",
      "132/132 [==============================] - 7s 52ms/step - loss: 0.3655 - accuracy: 0.8442 - val_loss: 0.4920 - val_accuracy: 0.7950\n",
      "Epoch 17/50\n",
      "132/132 [==============================] - 7s 52ms/step - loss: 0.3594 - accuracy: 0.8474 - val_loss: 0.4967 - val_accuracy: 0.7986\n",
      "Epoch 18/50\n",
      "132/132 [==============================] - 7s 54ms/step - loss: 0.3516 - accuracy: 0.8510 - val_loss: 0.4821 - val_accuracy: 0.8029\n",
      "Epoch 19/50\n",
      "132/132 [==============================] - 7s 53ms/step - loss: 0.3426 - accuracy: 0.8529 - val_loss: 0.5388 - val_accuracy: 0.7890\n",
      "Epoch 20/50\n",
      "132/132 [==============================] - 7s 54ms/step - loss: 0.3350 - accuracy: 0.8571 - val_loss: 0.5403 - val_accuracy: 0.7948\n",
      "Epoch 21/50\n",
      "132/132 [==============================] - 7s 53ms/step - loss: 0.3207 - accuracy: 0.8636 - val_loss: 0.5867 - val_accuracy: 0.7836\n",
      "Epoch 22/50\n",
      "132/132 [==============================] - 7s 53ms/step - loss: 0.3201 - accuracy: 0.8627 - val_loss: 0.5710 - val_accuracy: 0.7867\n",
      "Epoch 23/50\n",
      "132/132 [==============================] - 7s 55ms/step - loss: 0.3037 - accuracy: 0.8701 - val_loss: 0.6131 - val_accuracy: 0.7902\n",
      "Epoch 24/50\n",
      "132/132 [==============================] - 7s 53ms/step - loss: 0.2980 - accuracy: 0.8745 - val_loss: 0.6246 - val_accuracy: 0.7976\n",
      "Epoch 25/50\n",
      "132/132 [==============================] - 7s 54ms/step - loss: 0.2835 - accuracy: 0.8799 - val_loss: 0.6739 - val_accuracy: 0.7817\n",
      "Epoch 26/50\n",
      "132/132 [==============================] - 7s 52ms/step - loss: 0.2768 - accuracy: 0.8826 - val_loss: 0.6780 - val_accuracy: 0.7700\n",
      "Epoch 27/50\n",
      "132/132 [==============================] - 7s 55ms/step - loss: 0.2718 - accuracy: 0.8852 - val_loss: 0.7008 - val_accuracy: 0.7755\n",
      "Epoch 28/50\n",
      "132/132 [==============================] - 7s 54ms/step - loss: 0.2684 - accuracy: 0.8880 - val_loss: 0.6547 - val_accuracy: 0.7810\n",
      "Epoch 29/50\n",
      "132/132 [==============================] - 7s 53ms/step - loss: 0.2516 - accuracy: 0.8924 - val_loss: 0.7549 - val_accuracy: 0.7645\n",
      "Epoch 30/50\n",
      "132/132 [==============================] - 7s 53ms/step - loss: 0.2439 - accuracy: 0.8980 - val_loss: 0.7955 - val_accuracy: 0.7633\n",
      "Epoch 31/50\n",
      "132/132 [==============================] - 7s 53ms/step - loss: 0.2331 - accuracy: 0.9033 - val_loss: 0.8021 - val_accuracy: 0.7710\n",
      "Epoch 32/50\n",
      "132/132 [==============================] - 7s 55ms/step - loss: 0.2283 - accuracy: 0.9023 - val_loss: 0.8449 - val_accuracy: 0.7679\n",
      "Epoch 33/50\n",
      "132/132 [==============================] - 7s 55ms/step - loss: 0.2154 - accuracy: 0.9096 - val_loss: 0.9187 - val_accuracy: 0.7695\n",
      "Epoch 34/50\n",
      "132/132 [==============================] - 7s 57ms/step - loss: 0.2180 - accuracy: 0.9087 - val_loss: 0.8667 - val_accuracy: 0.7593\n",
      "Epoch 35/50\n",
      "132/132 [==============================] - 7s 54ms/step - loss: 0.2067 - accuracy: 0.9143 - val_loss: 0.9342 - val_accuracy: 0.7657\n",
      "Epoch 36/50\n",
      "132/132 [==============================] - 7s 57ms/step - loss: 0.2019 - accuracy: 0.9140 - val_loss: 0.9640 - val_accuracy: 0.7598\n",
      "Epoch 37/50\n",
      "132/132 [==============================] - 7s 53ms/step - loss: 0.1955 - accuracy: 0.9182 - val_loss: 1.0769 - val_accuracy: 0.7581\n",
      "Epoch 38/50\n",
      "132/132 [==============================] - 7s 54ms/step - loss: 0.1949 - accuracy: 0.9186 - val_loss: 1.0789 - val_accuracy: 0.7667\n",
      "Epoch 39/50\n",
      "132/132 [==============================] - 7s 53ms/step - loss: 0.1958 - accuracy: 0.9180 - val_loss: 0.9881 - val_accuracy: 0.7633\n",
      "Epoch 40/50\n",
      "132/132 [==============================] - 7s 54ms/step - loss: 0.1750 - accuracy: 0.9271 - val_loss: 1.1425 - val_accuracy: 0.7683\n",
      "Epoch 41/50\n",
      "132/132 [==============================] - 7s 55ms/step - loss: 0.1781 - accuracy: 0.9251 - val_loss: 1.1015 - val_accuracy: 0.7533\n",
      "Epoch 42/50\n",
      "132/132 [==============================] - 7s 56ms/step - loss: 0.1707 - accuracy: 0.9271 - val_loss: 1.1717 - val_accuracy: 0.7574\n",
      "Epoch 43/50\n",
      "132/132 [==============================] - 7s 54ms/step - loss: 0.1713 - accuracy: 0.9276 - val_loss: 1.1457 - val_accuracy: 0.7526\n",
      "Epoch 44/50\n",
      "132/132 [==============================] - 7s 53ms/step - loss: 0.1604 - accuracy: 0.9321 - val_loss: 1.2008 - val_accuracy: 0.7526\n",
      "Epoch 45/50\n",
      "132/132 [==============================] - 7s 53ms/step - loss: 0.1761 - accuracy: 0.9276 - val_loss: 1.1268 - val_accuracy: 0.7507\n",
      "Epoch 46/50\n",
      "132/132 [==============================] - 7s 51ms/step - loss: 0.1615 - accuracy: 0.9334 - val_loss: 1.2429 - val_accuracy: 0.7517\n",
      "Epoch 47/50\n",
      "132/132 [==============================] - 7s 52ms/step - loss: 0.1534 - accuracy: 0.9358 - val_loss: 1.3361 - val_accuracy: 0.7571\n",
      "Epoch 48/50\n",
      "132/132 [==============================] - 7s 52ms/step - loss: 0.1369 - accuracy: 0.9417 - val_loss: 1.3686 - val_accuracy: 0.7569\n",
      "Epoch 49/50\n",
      "132/132 [==============================] - 7s 51ms/step - loss: 0.1408 - accuracy: 0.9403 - val_loss: 1.4811 - val_accuracy: 0.7586\n",
      "Epoch 50/50\n",
      "132/132 [==============================] - 7s 53ms/step - loss: 0.1442 - accuracy: 0.9403 - val_loss: 1.4321 - val_accuracy: 0.7536\n"
     ]
    }
   ],
   "source": [
    "# model with the best parameters\n",
    "best_model = build_model(best_params['n_layers'], best_params['n_units'], best_params['optimizer'], best_params['learning_rate'])\n",
    "\n",
    "# re-train model\n",
    "history = best_model.fit(X_train, Y_train, validation_split=0.2, epochs=50, batch_size=best_params['batch_size'])\n"
   ]
  },
  {
   "cell_type": "code",
   "execution_count": 23,
   "metadata": {
    "id": "M0ZGePBAMapP"
   },
   "outputs": [
    {
     "data": {
      "image/png": "[encoded data removed]",
      "text/plain": [
       "<Figure size 432x288 with 1 Axes>"
      ]
     },
     "metadata": {
      "needs_background": "light"
     },
     "output_type": "display_data"
    },
    {
     "data": {
      "image/png": "[encoded data removed]",
      "text/plain": [
       "<Figure size 432x288 with 1 Axes>"
      ]
     },
     "metadata": {
      "needs_background": "light"
     },
     "output_type": "display_data"
    }
   ],
   "source": [
    "# plot the training loss and validation loss\n",
    "plt.plot(history.history['loss'], label='Training Loss')\n",
    "plt.plot(history.history['val_loss'], label='Validation Loss')\n",
    "plt.title('Training and Validation Loss')\n",
    "plt.xlabel('Epoch')\n",
    "plt.ylabel('Loss')\n",
    "plt.legend()\n",
    "plt.show()\n",
    "\n",
    "# plot the training accuracy and validation accuracy\n",
    "plt.plot(history.history['accuracy'], label='Training Accuracy')\n",
    "plt.plot(history.history['val_accuracy'], label='Validation Accuracy')\n",
    "plt.title('Training and Validation Accuracy')\n",
    "plt.xlabel('Epoch')\n",
    "plt.ylabel('Accuracy')\n",
    "plt.legend()\n",
    "plt.show()\n"
   ]
  },
  {
   "cell_type": "code",
   "execution_count": 24,
   "metadata": {
    "id": "1oAgyCNPMarw"
   },
   "outputs": [
    {
     "name": "stdout",
     "output_type": "stream",
     "text": [
      "282/282 [==============================] - 2s 5ms/step\n"
     ]
    }
   ],
   "source": [
    "from sklearn.metrics import classification_report\n",
    "\n",
    "# generating predictions (probabilities)\n",
    "y_pred_prob = model.predict(X_test)\n",
    "\n",
    "# convert probabilities to labels\n",
    "Y_pred = [1 if prob > 0.5 else 0 for prob in y_pred_prob]"
   ]
  },
  {
   "cell_type": "code",
   "execution_count": 26,
   "metadata": {},
   "outputs": [
    {
     "data": {
      "image/png": "[encoded data removed]",
      "text/plain": [
       "<Figure size 432x288 with 2 Axes>"
      ]
     },
     "metadata": {
      "needs_background": "light"
     },
     "output_type": "display_data"
    }
   ],
   "source": [
    "# confusion matrix\n",
    "import matplotlib.pyplot as plt\n",
    "import seaborn as sns\n",
    "from sklearn.metrics import confusion_matrix\n",
    "\n",
    "# calculate the confusion matrix\n",
    "cm = confusion_matrix(Y_test, Y_pred)\n",
    "\n",
    "# plot the confusion matrix\n",
    "plt.figure(figsize=(6, 4))\n",
    "sns.heatmap(cm, annot=True,annot_kws={\"size\": 20}, fmt=\"d\", cmap=\"Blues\", xticklabels=['Not Default', 'Default'], yticklabels=['Not Default', 'Default'])\n",
    "plt.xlabel('Predicted labels')\n",
    "plt.ylabel('True labels')\n",
    "plt.title('Confusion Matrix')\n",
    "plt.show()"
   ]
  },
  {
   "cell_type": "code",
   "execution_count": 25,
   "metadata": {
    "id": "FetrozkJP3q7"
   },
   "outputs": [
    {
     "name": "stdout",
     "output_type": "stream",
     "text": [
      "              precision    recall  f1-score   support\n",
      "\n",
      " Not Default       0.92      0.26      0.41      7040\n",
      "     Default       0.26      0.91      0.40      1960\n",
      "\n",
      "    accuracy                           0.40      9000\n",
      "   macro avg       0.59      0.59      0.40      9000\n",
      "weighted avg       0.77      0.40      0.41      9000\n",
      "\n"
     ]
    }
   ],
   "source": [
    "print(classification_report(Y_test, Y_pred, target_names=['Not Default', 'Default']))"
   ]
  },
  {
   "cell_type": "markdown",
   "metadata": {},
   "source": [
    "**Result with unbalanced data**"
   ]
  },
  {
   "cell_type": "code",
   "execution_count": 27,
   "metadata": {},
   "outputs": [
    {
     "data": {
      "image/png": "[encoded data removed]",
      "text/plain": [
       "<Figure size 432x288 with 1 Axes>"
      ]
     },
     "metadata": {
      "needs_background": "light"
     },
     "output_type": "display_data"
    }
   ],
   "source": [
    "# load data\n",
    "labels = ['Precision', 'Recall', 'F1-Score']\n",
    "group1_data = [0.86, 0.80, 0.83]\n",
    "group2_data = [0.42, 0.53, 0.47]\n",
    "\n",
    "x = np.arange(len(labels))  # label position\n",
    "width = 0.35  # width of column\n",
    "\n",
    "fig, ax = plt.subplots()\n",
    "\n",
    "rects1 = ax.bar(x - width/2, group1_data, width, label='0', color='b')\n",
    "rects2 = ax.bar(x + width/2, group2_data, width, label='1', color='r')\n",
    "\n",
    "# add text, title\n",
    "ax.set_ylabel('Value')\n",
    "ax.set_title('Result from unbalanced data set')\n",
    "ax.set_xticks(x)\n",
    "ax.set_xticklabels(labels)\n",
    "ax.legend()\n",
    "\n",
    "# add label to each column\n",
    "def autolabel(rects):\n",
    "    for rect in rects:\n",
    "        height = rect.get_height()\n",
    "        ax.annotate('{}'.format(height),\n",
    "                    xy=(rect.get_x() + rect.get_width() / 2, height),\n",
    "                    xytext=(0, 1),  # vertical shift\n",
    "                    textcoords=\"offset points\",\n",
    "                    ha='center', va='bottom')\n",
    "\n",
    "autolabel(rects1)\n",
    "autolabel(rects2)\n",
    "\n",
    "fig.tight_layout()\n",
    "\n",
    "plt.show()\n"
   ]
  },
  {
   "cell_type": "markdown",
   "metadata": {},
   "source": [
    "**Result with balanced data**"
   ]
  },
  {
   "cell_type": "code",
   "execution_count": 28,
   "metadata": {},
   "outputs": [
    {
     "data": {
      "image/png": "[encoded data removed]",
      "text/plain": [
       "<Figure size 432x288 with 1 Axes>"
      ]
     },
     "metadata": {
      "needs_background": "light"
     },
     "output_type": "display_data"
    }
   ],
   "source": [
    "# load data\n",
    "labels = ['Precision', 'Recall', 'F1-Score']\n",
    "group1_data = [0.92, 0.26, 0.41]\n",
    "group2_data = [0.26, 0.91, 0.40]\n",
    "\n",
    "x = np.arange(len(labels))  # label position\n",
    "width = 0.35  # width of column\n",
    "\n",
    "fig, ax = plt.subplots()\n",
    "\n",
    "rects1 = ax.bar(x - width/2, group1_data, width, label='0', color='b')\n",
    "rects2 = ax.bar(x + width/2, group2_data, width, label='1', color='r')\n",
    "\n",
    "# add text, title\n",
    "ax.set_ylabel('Value')\n",
    "ax.set_title('Result from balanced data set')\n",
    "ax.set_xticks(x)\n",
    "ax.set_xticklabels(labels)\n",
    "ax.legend()\n",
    "\n",
    "# add label to each column\n",
    "def autolabel(rects):\n",
    "    for rect in rects:\n",
    "        height = rect.get_height()\n",
    "        ax.annotate('{}'.format(height),\n",
    "                    xy=(rect.get_x() + rect.get_width() / 2, height),\n",
    "                    xytext=(0, 1),  # vertical shift\n",
    "                    textcoords=\"offset points\",\n",
    "                    ha='center', va='bottom')\n",
    "\n",
    "autolabel(rects1)\n",
    "autolabel(rects2)\n",
    "\n",
    "fig.tight_layout()\n",
    "\n",
    "plt.show()\n"
   ]
  },
  {
   "cell_type": "markdown",
   "metadata": {},
   "source": [
    "**Other result include macro average and weighted average**"
   ]
  },
  {
   "cell_type": "markdown",
   "metadata": {},
   "source": [
    "**Macro average**"
   ]
  },
  {
   "cell_type": "code",
   "execution_count": 29,
   "metadata": {},
   "outputs": [
    {
     "data": {
      "image/png": "[encoded data removed]",
      "text/plain": [
       "<Figure size 432x288 with 1 Axes>"
      ]
     },
     "metadata": {
      "needs_background": "light"
     },
     "output_type": "display_data"
    }
   ],
   "source": [
    "# load data\n",
    "labels = ['Precision', 'Recall', 'F1-Score']\n",
    "group1_data = [0.64, 0.66, 0.65]\n",
    "group2_data = [0.59, 0.59, 0.40]\n",
    "\n",
    "x = np.arange(len(labels))  # label position\n",
    "width = 0.35  # width of column\n",
    "\n",
    "fig, ax = plt.subplots()\n",
    "\n",
    "rects1 = ax.bar(x - width/2, group1_data, width, label='unbalanced', color='b')\n",
    "rects2 = ax.bar(x + width/2, group2_data, width, label='balanced', color='r')\n",
    "\n",
    "# add text, title\n",
    "ax.set_ylabel('Value')\n",
    "ax.set_title('Macro Average for two data sets')\n",
    "ax.set_xticks(x)\n",
    "ax.set_xticklabels(labels)\n",
    "ax.legend(prop={'size': 6})\n",
    "\n",
    "# add label to each column\n",
    "def autolabel(rects):\n",
    "    for rect in rects:\n",
    "        height = rect.get_height()\n",
    "        ax.annotate('{}'.format(height),\n",
    "                    xy=(rect.get_x() + rect.get_width() / 2, height),\n",
    "                    xytext=(0, 1),  # vertical shift\n",
    "                    textcoords=\"offset points\",\n",
    "                    ha='center', va='bottom')\n",
    "\n",
    "autolabel(rects1)\n",
    "autolabel(rects2)\n",
    "\n",
    "fig.tight_layout()\n",
    "\n",
    "plt.show()\n"
   ]
  },
  {
   "cell_type": "markdown",
   "metadata": {},
   "source": [
    "**Weighted Average**"
   ]
  },
  {
   "cell_type": "code",
   "execution_count": 30,
   "metadata": {},
   "outputs": [
    {
     "data": {
      "image/png": "[encoded data removed]",
      "text/plain": [
       "<Figure size 432x288 with 1 Axes>"
      ]
     },
     "metadata": {
      "needs_background": "light"
     },
     "output_type": "display_data"
    }
   ],
   "source": [
    "# load data\n",
    "labels = ['Precision', 'Recall', 'F1-Score']\n",
    "group1_data = [0.76, 0.74, 0.75]\n",
    "group2_data = [0.77, 0.40, 0.41]\n",
    "\n",
    "x = np.arange(len(labels))  # label position\n",
    "width = 0.35  # width of column\n",
    "\n",
    "fig, ax = plt.subplots()\n",
    "\n",
    "rects1 = ax.bar(x - width/2, group1_data, width, label='unbalanced', color='b')\n",
    "rects2 = ax.bar(x + width/2, group2_data, width, label='balanced', color='r')\n",
    "\n",
    "# add text, title\n",
    "ax.set_ylabel('Value')\n",
    "ax.set_title('Weighted Average for two data sets')\n",
    "ax.set_xticks(x)\n",
    "ax.set_xticklabels(labels)\n",
    "ax.legend(prop={'size': 6})\n",
    "\n",
    "# add label to each column\n",
    "def autolabel(rects):\n",
    "    for rect in rects:\n",
    "        height = rect.get_height()\n",
    "        ax.annotate('{}'.format(height),\n",
    "                    xy=(rect.get_x() + rect.get_width() / 2, height),\n",
    "                    xytext=(0, 1),  # vertical shift\n",
    "                    textcoords=\"offset points\",\n",
    "                    ha='center', va='bottom')\n",
    "\n",
    "autolabel(rects1)\n",
    "autolabel(rects2)\n",
    "\n",
    "fig.tight_layout()\n",
    "plt.ylim((0.0,0.9))\n",
    "plt.show()\n"
   ]
  },
  {
   "cell_type": "code",
   "execution_count": null,
   "metadata": {},
   "outputs": [],
   "source": []
  }
 ],
 "metadata": {
  "accelerator": "GPU",
  "colab": {
   "authorship_tag": "ABX9TyO9oRH5c4kqqE61XXD0rj6R",
   "gpuType": "V100",
   "include_colab_link": true,
   "machine_shape": "hm",
   "provenance": []
  },
  "kernelspec": {
   "display_name": "Python 3 (ipykernel)",
   "language": "python",
   "name": "python3"
  },
  "language_info": {
   "codemirror_mode": {
    "name": "ipython",
    "version": 3
   },
   "file_extension": ".py",
   "mimetype": "text/x-python",
   "name": "python",
   "nbconvert_exporter": "python",
   "pygments_lexer": "ipython3",
   "version": "3.9.12"
  }
 },
 "nbformat": 4,
 "nbformat_minor": 4
}
